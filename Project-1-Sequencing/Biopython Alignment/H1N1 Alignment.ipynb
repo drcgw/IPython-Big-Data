{
 "metadata": {
  "name": "",
  "signature": "sha256:7b2b1eba279754d8cc27dfdc174589140472c6a420af691a542b87004dbe94c3"
 },
 "nbformat": 3,
 "nbformat_minor": 0,
 "worksheets": [
  {
   "cells": [
    {
     "cell_type": "code",
     "collapsed": false,
     "input": [
      "from Bio import SeqIO, AlignIO, Phylo\n",
      "from Bio.Align.Applications import ClustalwCommandline\n",
      "\n",
      "clustalw_exe = r\"C:\\Program Files (x86)\\ClustalW2\\clustalw2.exe\""
     ],
     "language": "python",
     "metadata": {
      "run_control": {
       "read_only": false
      }
     },
     "outputs": [],
     "prompt_number": 1
    },
    {
     "cell_type": "code",
     "collapsed": false,
     "input": [
      "years = [1935,1978,2009,2014]\n",
      "\n",
      "genomes = {}\n",
      "\n",
      "#Create dict w/ each complete genome as a list w/ key = h or s followed by year\n",
      "for year in range(len(years)):\n",
      "    genomes['h%i'%(years[year])] = list(SeqIO.parse('human_%i_FASTA.fa'%(years[year]), 'fasta'))\n",
      "    genomes['s%i'%(years[year])] = list(SeqIO.parse('swine_%i_FASTA.fa'%(years[year]), 'fasta'))"
     ],
     "language": "python",
     "metadata": {
      "run_control": {
       "read_only": false
      }
     },
     "outputs": [],
     "prompt_number": 6
    },
    {
     "cell_type": "code",
     "collapsed": false,
     "input": [
      "#Concatenate all segments from each genome into their own dict entry, key = h/sYEAR_all\n",
      "for year in range(len(years)):\n",
      "    genomes['h%i_all'%(years[year])] = genomes['h%i'%(years[year])][0]\n",
      "    genomes['s%i_all'%(years[year])] = genomes['s%i'%(years[year])][0]\n",
      "    for seg in range(1,8):\n",
      "        genomes['h%i_all'%(years[year])] = genomes['h%i_all'%(years[year])] + genomes['h%i'%(years[year])][seg]\n",
      "        genomes['s%i_all'%(years[year])] = genomes['s%i_all'%(years[year])] + genomes['s%i'%(years[year])][seg]\n",
      "    genomes['h%i_all'%(years[year])].id = 'h' + str(years[year])\n",
      "    genomes['s%i_all'%(years[year])].id = 's' + str(years[year])"
     ],
     "language": "python",
     "metadata": {
      "run_control": {
       "read_only": false
      }
     },
     "outputs": [],
     "prompt_number": 8
    },
    {
     "cell_type": "code",
     "collapsed": false,
     "input": [
      "#Create lists of SeqRecord objects for all human H1N1 genomes, all swine, and both combined\n",
      "all_human = [genomes['h1935_all']]\n",
      "all_swine = [genomes['s1935_all']]\n",
      "all_seq = [genomes['h1935_all'],genomes['s1935_all']]\n",
      "\n",
      "for year in range(1,4):\n",
      "    all_human.append(genomes['h%i_all'%(years[year])])\n",
      "    all_seq.append(genomes['h%i_all'%(years[year])])\n",
      "    all_swine.append(genomes['s%i_all'%(years[year])])\n",
      "    all_seq.append(genomes['s%i_all'%(years[year])])\n",
      "\n",
      "#Write these to FASTA files, so ClustalW can align them\n",
      "SeqIO.write(all_human,'all_human.fa','fasta');\n",
      "SeqIO.write(all_swine,'all_swine.fa','fasta');\n",
      "SeqIO.write(all_seq,'all_seq.fa','fasta');"
     ],
     "language": "python",
     "metadata": {
      "run_control": {
       "read_only": false
      }
     },
     "outputs": [],
     "prompt_number": 35
    },
    {
     "cell_type": "code",
     "collapsed": false,
     "input": [
      "#Align all human sequences\n",
      "cline_human = ClustalwCommandline(clustalw_exe,infile='all_human.fa')\n",
      "stdout, stderr = cline_human()"
     ],
     "language": "python",
     "metadata": {
      "run_control": {
       "read_only": false
      }
     },
     "outputs": [],
     "prompt_number": 36
    },
    {
     "cell_type": "code",
     "collapsed": false,
     "input": [
      "#Align all swine sequences\n",
      "cline_swine = ClustalwCommandline(clustalw_exe,infile='all_swine.fa')\n",
      "stdout, stderr = cline_swine()"
     ],
     "language": "python",
     "metadata": {},
     "outputs": [],
     "prompt_number": 37
    },
    {
     "cell_type": "code",
     "collapsed": false,
     "input": [
      "#Align all sequences\n",
      "cline_all = ClustalwCommandline(clustalw_exe,infile='all_seq.fa')\n",
      "stdout, stderr = cline_all()"
     ],
     "language": "python",
     "metadata": {},
     "outputs": [],
     "prompt_number": 39
    },
    {
     "cell_type": "code",
     "collapsed": false,
     "input": [
      "human_aln = AlignIO.read('all_human.aln','clustal')\n",
      "print human_aln\n",
      "\n",
      "swine_aln = AlignIO.read('all_swine.aln','clustal')\n",
      "print swine_aln\n",
      "\n",
      "all_aln = AlignIO.read('all_seq.aln','clustal')\n",
      "print all_aln"
     ],
     "language": "python",
     "metadata": {
      "run_control": {
       "read_only": false
      }
     },
     "outputs": [
      {
       "output_type": "stream",
       "stream": "stdout",
       "text": [
        "SingleLetterAlphabet() alignment with 4 rows and 13334 columns\n",
        "AATATGGAAAGAATAAAAGAACTACGAAATCTAATGTCGCAGTC...--- h1935\n",
        "--TATGGAAAGAATAAAAGAGCTAAGGAGTCTGATGTCGCAGTC...--- h1978\n",
        "---ATGGAGAGAATAAAAGAACTGAGAGATCTAATGTCGCAGTC...--- h2009\n",
        "---ATGGAGAGAATAAAAGAACTGAGAGATCTAATGTCGCAGTC...TAC h2014\n",
        "SingleLetterAlphabet() alignment with 4 rows and 13360 columns\n",
        "TCAAATATATTCAATATGGAGAGAATAAAAGAACTAAGGGATCT...--- s1935\n",
        "TCAAATATATTCAATATGGAGAGAATAAAGGAACTAAGAAATCT...--- s1978\n",
        "---------------ATGGAGAGAATAAAAGAACTAAGAGATCT...CAC s2009\n",
        "---------------ATGGAGAGAATAAAAGAACTGAGAGATCT...--- s2014"
       ]
      },
      {
       "output_type": "stream",
       "stream": "stdout",
       "text": [
        "\n",
        "SingleLetterAlphabet() alignment with 8 rows and 13379 columns\n",
        "---------------ATGGAGAGAATAAAAGAACTGAGAGATCT...TAC h2014\n",
        "---------------ATGGAGAGAATAAAAGAACTGAGAGATCT...--- s2014\n",
        "---------------ATGGAGAGAATAAAAGAACTGAGAGATCT...--- h2009\n",
        "---------------ATGGAGAGAATAAAAGAACTAAGAGATCT...--- s2009\n",
        "------------AATATGGAAAGAATAAAAGAACTACGAAATCT...--- h1935\n",
        "--------------TATGGAAAGAATAAAAGAGCTAAGGAGTCT...--- h1978\n",
        "TCAAATATATTCAATATGGAGAGAATAAAAGAACTAAGGGATCT...--- s1935\n",
        "TCAAATATATTCAATATGGAGAGAATAAAGGAACTAAGAAATCT...--- s1978\n"
       ]
      }
     ],
     "prompt_number": 40
    },
    {
     "cell_type": "code",
     "collapsed": false,
     "input": [
      "human_tree = Phylo.read('all_human.dnd',\"newick\")\n",
      "Phylo.draw_ascii(human_tree)\n",
      "\n",
      "swine_tree = Phylo.read('all_swine.dnd',\"newick\")\n",
      "Phylo.draw_ascii(swine_tree)\n",
      "\n",
      "all_tree = Phylo.read('all_seq.dnd',\"newick\")\n",
      "Phylo.draw_ascii(all_tree)\n",
      "#The distance values show the number of substitutions as a proportion of the length of the alignment (excluding gaps)."
     ],
     "language": "python",
     "metadata": {},
     "outputs": [
      {
       "output_type": "stream",
       "stream": "stdout",
       "text": [
        "  ____________ h1935\n",
        " |\n",
        "_|_______________ h1978\n",
        " |\n",
        " |                                                                  __ h2009\n",
        " |_________________________________________________________________|\n",
        "                                                                   |_____ h2014\n",
        "\n",
        "  _____________________________ s1935\n"
       ]
      },
      {
       "output_type": "stream",
       "stream": "stdout",
       "text": [
        " |\n",
        "_|__________________________ s1978\n",
        " |\n",
        " |                                     _____________________ s2009\n",
        " |____________________________________|\n",
        "                                      |__________________________________ s2014\n",
        "\n",
        "                                                          __________ h1935\n",
        "                                             ____________|\n",
        "                                        ____|            |______________ h1978\n",
        "                                       |    |\n",
        "                  _____________________|    |_______________ s1935\n",
        "                 |                     |\n",
        "  _______________|                     |____________________ s1978\n",
        " |               |\n",
        " |               |_____________ s2009\n",
        "_|\n",
        " | h2009\n",
        " |\n",
        " |  _ h2014\n",
        " |_|\n",
        "   |_ s2014\n",
        "\n"
       ]
      }
     ],
     "prompt_number": 41
    }
   ],
   "metadata": {}
  }
 ]
}