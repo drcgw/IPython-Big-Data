{
 "metadata": {
  "name": "",
  "signature": "sha256:a0c6f311bbb13b252ff69e6442b5645d84eb1c511d5ccb63c2e43715ebab1b4a"
 },
 "nbformat": 3,
 "nbformat_minor": 0,
 "worksheets": [
  {
   "cells": [
    {
     "cell_type": "code",
     "collapsed": false,
     "input": [
      "from Bio import AlignIO\n",
      "from Bio.SeqFeature import SeqFeature, FeatureLocation\n",
      "from Bio.Graphics import GenomeDiagram\n",
      "from reportlab.lib import colors\n",
      "from reportlab.lib.units import cm\n",
      "import matplotlib.pyplot as plt\n",
      "import matplotlib.image as mpimg\n",
      "import sys, os\n",
      "import itertools\n",
      "\n",
      "%matplotlib inline\n",
      "\n",
      "################### Function Definitions ######################\n",
      "def get_diff_locations(ref,compare):\n",
      "    \"\"\"\n",
      "    Takes 2 Biopython Seq objects of equal size (aligned).\n",
      "    Returns a list of locations at which base in compare sequence != base in ref sequence.\n",
      "    \"\"\"\n",
      "    if len(ref) != len(compare):\n",
      "        raise ValueError('Seqs are not the same length!')\n",
      "\n",
      "    diff_locations = []\n",
      "    for n,(r,c) in enumerate(itertools.izip(ref, compare)):\n",
      "        if r != c:\n",
      "            diff_locations.append(n)\n",
      "\n",
      "    return diff_locations\n",
      "\n",
      "def plot_tracks(tracks,tracks_path):\n",
      "    '''\n",
      "    Save tracks as pngs, then load them as images and display with matplotlib.\n",
      "    '''\n",
      "    \n",
      "    #Write each diagram to a png, then read it back in using Matplotlib\n",
      "    tracks.draw(format='linear', pagesize=(14*cm,7*cm), fragments=1,\n",
      "             start=0, end=13378)\n",
      "    plt.show()\n",
      "    #get extension from tracks path\n",
      "    root, ext = os.path.splitext(tracks_path)\n",
      "    if not ext:\n",
      "        ext = '.png'\n",
      "        tracks_path += ext\n",
      "\n",
      "    tracks.write(tracks_path, ext.strip('.'), dpi=600)\n",
      "    tracks_im = mpimg.imread(tracks_path)\n",
      "\n",
      "    #Plot each set of tracks\n",
      "    fig = plt.figure(figsize=(14,7),dpi=600)\n",
      "    ax = fig.add_axes([0.025,0.025,0.95,0.95],frameon=False)\n",
      "    plt.axis('off')\n",
      "    plt.imshow(tracks_im)\n",
      "    \n",
      "################### End Function Definitions ######################\n"
     ],
     "language": "python",
     "metadata": {
      "run_control": {
       "read_only": false
      }
     },
     "outputs": [],
     "prompt_number": 10
    },
    {
     "cell_type": "code",
     "collapsed": false,
     "input": [
      "#Import and sort the aligned sequences\n",
      "all_aln = AlignIO.read('all_seq.aln','clustal')\n",
      "all_aln.sort()"
     ],
     "language": "python",
     "metadata": {
      "run_control": {
       "read_only": false
      }
     },
     "outputs": [],
     "prompt_number": 11
    },
    {
     "cell_type": "code",
     "collapsed": false,
     "input": [
      "#collect ids and separate based on host (letter prefex preceding the year)\n",
      "all_ids = [i.id for i in all_aln]\n",
      "h_ids = all_ids[0:4]\n",
      "s_ids = all_ids[4:]\n",
      "print all_ids,'\\n', h_ids, s_ids"
     ],
     "language": "python",
     "metadata": {
      "run_control": {
       "read_only": false
      }
     },
     "outputs": [
      {
       "output_type": "stream",
       "stream": "stdout",
       "text": [
        "['h1935', 'h1978', 'h2009', 'h2014', 's1935', 's1978', 's2009', 's2014'] \n",
        "['h1935', 'h1978', 'h2009', 'h2014'] ['s1935', 's1978', 's2009', 's2014']\n"
       ]
      }
     ],
     "prompt_number": 12
    },
    {
     "cell_type": "heading",
     "level": 2,
     "metadata": {},
     "source": [
      "Get Differences"
     ]
    },
    {
     "cell_type": "markdown",
     "metadata": {},
     "source": [
      "Compare sequence from each year against the same-host sequence from 1935. Each time a difference is found, save the index at which it occurs."
     ]
    },
    {
     "cell_type": "code",
     "collapsed": false,
     "input": [
      "#Compare each year to 1935\n",
      "h_diffs = {}\n",
      "s_diffs = {}\n",
      "h_diffs['h1978'] = get_diff_locations(all_aln[0].seq,all_aln[1].seq)\n",
      "h_diffs['h2009'] = get_diff_locations(all_aln[0].seq,all_aln[2].seq)\n",
      "h_diffs['h2014'] = get_diff_locations(all_aln[0].seq,all_aln[3].seq)\n",
      "\n",
      "s_diffs['s1978'] = get_diff_locations(all_aln[4].seq,all_aln[5].seq)\n",
      "s_diffs['s2009'] = get_diff_locations(all_aln[4].seq,all_aln[6].seq)\n",
      "s_diffs['s2014'] = get_diff_locations(all_aln[4].seq,all_aln[7].seq)"
     ],
     "language": "python",
     "metadata": {
      "run_control": {
       "read_only": false
      }
     },
     "outputs": [],
     "prompt_number": 13
    },
    {
     "cell_type": "heading",
     "level": 2,
     "metadata": {},
     "source": [
      "Plot"
     ]
    },
    {
     "cell_type": "code",
     "collapsed": false,
     "input": [
      "def setup(diagram_name, ids, length):\n",
      "    '''\n",
      "    Inits empty track diagram (with diagram_name as title), tracks, and feature sets for all ids.\n",
      "    Adds bright green bg to each track (for contrast).\n",
      "    Returns tracks, features, and feature_sets.\n",
      "    '''\n",
      "    #Create Genome Diagram for human\n",
      "    track_diagram = GenomeDiagram.Diagram(diagram_name+' H1N1 Tracks Plot', tracklines = 0)\n",
      "\n",
      "    track = {}\n",
      "    feature_set = {}\n",
      "\n",
      "    #Generate tracks and feature sets for each year\n",
      "    track_count = 1\n",
      "    for i in ids: \n",
      "        track['%s' %i] = track_diagram.new_track(track_count, name=i, greytrack=False)#greytrack=True, \n",
      "                                                 #greytrack_labels=1, greytrack_fontcolor = colors.cornsilk,\n",
      "                                                 #greytrack_fontsize=15)\n",
      "        \n",
      "        feature_set['%s'%i] = track['%s' %i].new_set(name=i)\n",
      "        \n",
      "        #add contrast background\n",
      "        feature_set['%s'%i].add_feature(SeqFeature(FeatureLocation(0,length)), \n",
      "                                   label=True, label_angle=0, color=colors.cadetblue)\n",
      "        track_count += 1\n",
      "    return track_diagram, track, feature_set\n",
      "\n",
      "h_diagram, h_features, h_feature_set = setup(diagram_name='Human', ids = h_ids, length=all_aln.get_alignment_length())\n",
      "s_diagram, s_features, s_feature_set = setup(diagram_name='Swine', ids = s_ids, length=all_aln.get_alignment_length())"
     ],
     "language": "python",
     "metadata": {
      "run_control": {
       "read_only": false
      }
     },
     "outputs": [],
     "prompt_number": 5
    },
    {
     "cell_type": "code",
     "collapsed": false,
     "input": [
      "def add_features_year_compare(feature_set, diffs, hostspecies):\n",
      "    for k, features in feature_set.items():\n",
      "        year = k[1:]\n",
      "        if '1935' in k:\n",
      "            #if the base year...\n",
      "            label = '%s: %s (reference)'%(hostspecies,year)\n",
      "\n",
      "        else:\n",
      "            #name bg feature (which labels the track)\n",
      "            label ='%s: %s --- %i differences vs. 1935'%(hostspecies, year, len(diffs[k]))\n",
      "            # For each difference recorded in diffs, add as a feature to feature_set\n",
      "            for i in diffs[k]:\n",
      "                feature = SeqFeature(FeatureLocation(i,i))\n",
      "                features.add_feature(feature, name=label, color=colors.aqua)\n",
      "                \n",
      "        # set the name of the first feature (the background feature) to label\n",
      "        # this is stupid, but I'm not sure how to do it better\n",
      "        features.get_features()[0].name = label \n",
      "\n",
      "add_features_year_compare(feature_set = h_feature_set, diffs = h_diffs, hostspecies = 'Human')\n",
      "add_features_year_compare(feature_set = s_feature_set, diffs = s_diffs, hostspecies = 'Swine')\n",
      "plot_tracks(h_diagram,'h_tracks.png')\n",
      "plot_tracks(s_diagram, 's_tracks.png')"
     ],
     "language": "python",
     "metadata": {
      "run_control": {
       "read_only": false
      }
     },
     "outputs": [],
     "prompt_number": 6
    },
    {
     "cell_type": "heading",
     "level": 1,
     "metadata": {},
     "source": [
      "Compare Strains by Host"
     ]
    },
    {
     "cell_type": "code",
     "collapsed": false,
     "input": [
      "diffs = {}\n",
      "diffs['1935'] = get_diff_locations(all_aln[0].seq,all_aln[4].seq)\n",
      "diffs['1978'] = get_diff_locations(all_aln[1].seq,all_aln[5].seq)\n",
      "diffs['2009'] = get_diff_locations(all_aln[2].seq,all_aln[6].seq)\n",
      "diffs['2014'] = get_diff_locations(all_aln[3].seq,all_aln[7].seq)"
     ],
     "language": "python",
     "metadata": {},
     "outputs": [],
     "prompt_number": 56
    },
    {
     "cell_type": "code",
     "collapsed": false,
     "input": [
      "def compare_strains_by_host(diffs):\n",
      "    #Create Genome Diagram to compare human and swine in each year\n",
      "    diagram = GenomeDiagram.Diagram('Human vs. Swine H1N1 Tracks Plot')\n",
      "    tracks = {}\n",
      "    feature_set = {}\n",
      "    for n,(k,v) in enumerate(diffs.iteritems(),1):\n",
      "        tracks[k] = diagram.new_track(n, greytrack=False)\n",
      "        feature_set[k] = tracks[k].new_set()\n",
      "    return diagram, tracks, feature_set\n",
      "\n",
      "def add_features_host_compare(feature_set):\n",
      "    for k,v in feature_set.iteritems():\n",
      "        feature_set[k].add_feature(SeqFeature(FeatureLocation(0,13378)), \n",
      "                                       name = 'Human vs. Swine: %s --- %i differences'%(k,len(diffs[k])), \n",
      "                                       label=True, label_angle=0, color=colors.cadetblue);\n",
      "        for i in diffs[k]:\n",
      "            feature = SeqFeature(FeatureLocation(i,i))\n",
      "            feature_set[k].add_feature(feature, color=colors.aqua)\n",
      "\n",
      "            \n",
      "diagram, tracks, feature_set = compare_strains_by_host(diffs)\n",
      "add_features_host_compare(feature_set)\n",
      "feature_set\n",
      "plot_tracks(diagram, 'host_compare.png')"
     ],
     "language": "python",
     "metadata": {},
     "outputs": [],
     "prompt_number": 58
    },
    {
     "cell_type": "heading",
     "level": 1,
     "metadata": {},
     "source": [
      "STOP"
     ]
    },
    {
     "cell_type": "code",
     "collapsed": false,
     "input": [
      "#Import the aligned sequences\n",
      "h_aln = AlignIO.read('all_human.aln','clustal')\n",
      "h_aln.sort()\n",
      "print h_aln\n",
      "s_aln = AlignIO.read('all_swine.aln','clustal')\n",
      "s_aln.sort()\n",
      "print s_aln\n",
      "#get_diff_locations"
     ],
     "language": "python",
     "metadata": {
      "run_control": {
       "read_only": false
      }
     },
     "outputs": [
      {
       "output_type": "stream",
       "stream": "stdout",
       "text": [
        "SingleLetterAlphabet() alignment with 4 rows and 13334 columns\n",
        "AATATGGAAAGAATAAAAGAACTACGAAATCTAATGTCGCAGTC...--- h1935\n",
        "--TATGGAAAGAATAAAAGAGCTAAGGAGTCTGATGTCGCAGTC...--- h1978\n",
        "---ATGGAGAGAATAAAAGAACTGAGAGATCTAATGTCGCAGTC...--- h2009\n",
        "---ATGGAGAGAATAAAAGAACTGAGAGATCTAATGTCGCAGTC...TAC h2014\n",
        "SingleLetterAlphabet() alignment with 4 rows and 13360 columns\n",
        "TCAAATATATTCAATATGGAGAGAATAAAAGAACTAAGGGATCT...--- s1935\n",
        "TCAAATATATTCAATATGGAGAGAATAAAGGAACTAAGAAATCT...--- s1978\n",
        "---------------ATGGAGAGAATAAAAGAACTAAGAGATCT...CAC s2009\n",
        "---------------ATGGAGAGAATAAAAGAACTGAGAGATCT...--- s2014\n"
       ]
      }
     ],
     "prompt_number": 27
    },
    {
     "cell_type": "code",
     "collapsed": false,
     "input": [],
     "language": "python",
     "metadata": {},
     "outputs": []
    },
    {
     "cell_type": "code",
     "collapsed": false,
     "input": [
      "for i,v in h_tracks.tracks.items():\n",
      "    print v.get_sets()\n",
      "print [i.name for i in h_tracks.tracks.values()]\n",
      "\n",
      "track_diagram = GenomeDiagram.Diagram(\"\")\n",
      "track = track_diagram.new_track(1, greytrack=False)\n",
      "print track.get_sets()\n",
      "feature_set= track.new_set(name=i)\n",
      "feature_set.get_features()"
     ],
     "language": "python",
     "metadata": {},
     "outputs": []
    }
   ],
   "metadata": {}
  }
 ]
}