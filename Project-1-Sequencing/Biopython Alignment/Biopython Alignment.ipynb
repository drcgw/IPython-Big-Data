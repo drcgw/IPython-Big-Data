{
 "metadata": {
  "name": "",
  "signature": "sha256:ceb04a6fee7893020105f305d543af35e56acb189cc072e996a2428f67ac1195"
 },
 "nbformat": 3,
 "nbformat_minor": 0,
 "worksheets": [
  {
   "cells": [
    {
     "cell_type": "code",
     "collapsed": false,
     "input": [
      "import Bio as bio\n",
      "from Bio import SeqIO\n",
      "from Bio.Align.Applications import ClustalwCommandline\n",
      "from Bio import AlignIO\n",
      "\n",
      "clustalw_exe = r\"C:\\Program Files (x86)\\ClustalW2\\clustalw2.exe\""
     ],
     "language": "python",
     "metadata": {},
     "outputs": [],
     "prompt_number": 1
    },
    {
     "cell_type": "code",
     "collapsed": false,
     "input": [
      "h1_list = list(SeqIO.parse('H1N1_1_FASTA.fa', 'fasta'))\n",
      "h1_list"
     ],
     "language": "python",
     "metadata": {},
     "outputs": [
      {
       "metadata": {},
       "output_type": "pyout",
       "prompt_number": 2,
       "text": [
        "[SeqRecord(seq=Seq('ATGGAGAGAATAAAAGAACTGAGAGATCTAATGTCGCAGTCCCGCACTCGCGAG...AAT', SingleLetterAlphabet()), id='CY039900', name='CY039900', description='CY039900 A/New York/1669/2009 2009/04/26 1 (PB2)', dbxrefs=[]),\n",
        " SeqRecord(seq=Seq('ATTTGAATGGATGTCAATCCGACTCTACTTTTCCTAAAAATTCCAGCGCAAAAT...AAA', SingleLetterAlphabet()), id='CY039899', name='CY039899', description='CY039899 A/New York/1669/2009 2009/04/26 2 (PB1)', dbxrefs=[]),\n",
        " SeqRecord(seq=Seq('TGATCCAAAATGGAAGACTTTGTGCGACAATGCTTCAATCCAATGATCGTCGAG...CCA', SingleLetterAlphabet()), id='CY039898', name='CY039898', description='CY039898 A/New York/1669/2009 2009/04/26 3 (PA)', dbxrefs=[]),\n",
        " SeqRecord(seq=Seq('AAAAGCAACAAAAATGAAGGCAATACTAGTAGTTCTGCTATATACATTTGCAAC...GAG', SingleLetterAlphabet()), id='CY039893', name='CY039893', description='CY039893 A/New York/1669/2009 2009/04/26 4 (HA)', dbxrefs=[]),\n",
        " SeqRecord(seq=Seq('TCACTCAATGAGTGACATCGAAGCCATGGCGTCTCAAGGCACCAAACGATCATA...GAA', SingleLetterAlphabet()), id='CY039896', name='CY039896', description='CY039896 A/New York/1669/2009 2009/04/26 5 (NP)', dbxrefs=[]),\n",
        " SeqRecord(seq=Seq('AAATGAATCCAAACCAAAAGATAATAACCATTGGTTCGGTCTGTATGACAATTG...ATT', SingleLetterAlphabet()), id='CY039895', name='CY039895', description='CY039895 A/New York/1669/2009 2009/04/26 6 (NA)', dbxrefs=[]),\n",
        " SeqRecord(seq=Seq('TAAAGATGAGTCTTCTAACCGAGGTCGAAACGTACGTTCTTTCTATCATCCCGT...TAA', SingleLetterAlphabet()), id='CY039894', name='CY039894', description='CY039894 A/New York/1669/2009 2009/04/26 7 (MP)', dbxrefs=[]),\n",
        " SeqRecord(seq=Seq('AAACATAATGGACTCCAACACCATGTCAAGCTTTCAGGTAGACTGTTTCCTTTG...TAA', SingleLetterAlphabet()), id='CY039897', name='CY039897', description='CY039897 A/New York/1669/2009 2009/04/26 8 (NS)', dbxrefs=[])]"
       ]
      }
     ],
     "prompt_number": 2
    },
    {
     "cell_type": "code",
     "collapsed": false,
     "input": [
      "h1_all = h1_list[0] + h1_list[1] + h1_list[2] + h1_list[3] + h1_list[4] + h1_list[5] + h1_list[6] + h1_list[7]\n",
      "\n",
      "h1_all"
     ],
     "language": "python",
     "metadata": {},
     "outputs": [
      {
       "metadata": {},
       "output_type": "pyout",
       "prompt_number": 3,
       "text": [
        "SeqRecord(seq=Seq('ATGGAGAGAATAAAAGAACTGAGAGATCTAATGTCGCAGTCCCGCACTCGCGAG...TAA', SingleLetterAlphabet()), id='<unknown id>', name='<unknown name>', description='<unknown description>', dbxrefs=[])"
       ]
      }
     ],
     "prompt_number": 3
    },
    {
     "cell_type": "code",
     "collapsed": false,
     "input": [
      "len(h1_all.seq)"
     ],
     "language": "python",
     "metadata": {},
     "outputs": [
      {
       "metadata": {},
       "output_type": "pyout",
       "prompt_number": 4,
       "text": [
        "13305"
       ]
      }
     ],
     "prompt_number": 4
    },
    {
     "cell_type": "code",
     "collapsed": false,
     "input": [
      "h1_all.id='2009'"
     ],
     "language": "python",
     "metadata": {},
     "outputs": [],
     "prompt_number": 12
    },
    {
     "cell_type": "code",
     "collapsed": false,
     "input": [
      "h2_list = list(SeqIO.parse('H1N1_2_FASTA.fa', 'fasta'))\n",
      "h2_list"
     ],
     "language": "python",
     "metadata": {},
     "outputs": [
      {
       "metadata": {},
       "output_type": "pyout",
       "prompt_number": 5,
       "text": [
        "[SeqRecord(seq=Seq('TATGGAAAGAATAAAAGAGCTAAGGAGTCTGATGTCGCAGTCTCGCACTCGCGA...TAA', SingleLetterAlphabet()), id='CY019970', name='CY019970', description='CY019970 A/Arizona/14/1978 1978// 1 (PB2)', dbxrefs=[]),\n",
        " SeqRecord(seq=Seq('AATGGATGTCAATCCGACCTTACTTTTCTTAAAAGTGCCAGCACAAAATGCTAT...TTG', SingleLetterAlphabet()), id='CY019969', name='CY019969', description='CY019969 A/Arizona/14/1978 1978// 2 (PB1)', dbxrefs=[]),\n",
        " SeqRecord(seq=Seq('ATCCGAAATGGAAGATTTTGTGCGACAATGCTTCAATCCGATGATTGTCGAGCT...ATA', SingleLetterAlphabet()), id='CY019968', name='CY019968', description='CY019968 A/Arizona/14/1978 1978// 3 (PA)', dbxrefs=[]),\n",
        " SeqRecord(seq=Seq('AACAACCAAAATGAAAGCAAAACTACTGGTCCTGTTATGTGCACTTTCAGCTAC...ATT', SingleLetterAlphabet()), id='CY019963', name='CY019963', description='CY019963 A/Arizona/14/1978 1978// 4 (HA)', dbxrefs=[]),\n",
        " SeqRecord(seq=Seq('ACTCACTGAGTGACATCAAAATCATGGCGTCCCAAGGCACCAAACGGTCTTACG...AAG', SingleLetterAlphabet()), id='CY019966', name='CY019966', description='CY019966 A/Arizona/14/1978 1978// 5 (NP)', dbxrefs=[]),\n",
        " SeqRecord(seq=Seq('ATGAATCCAAATCAGAAAATAATAACCATTGGATCAATCTGTATGGCAATCGGA...TAG', SingleLetterAlphabet()), id='CY019965', name='CY019965', description='CY019965 A/Arizona/14/1978 1978// 6 (NA)', dbxrefs=[]),\n",
        " SeqRecord(seq=Seq('GATGAGTCTTCTAACCGAGGTCGAAACGTACGTTCTCTCTATCGTCCCGTCAGG...AAA', SingleLetterAlphabet()), id='CY019964', name='CY019964', description='CY019964 A/Arizona/14/1978 1978// 7 (MP)', dbxrefs=[]),\n",
        " SeqRecord(seq=Seq('ATAATGGATCCCAACACTGTGTCAAGCTTTCAGGTAGATTGCTTCCTTTGGCAT...TAA', SingleLetterAlphabet()), id='CY019967', name='CY019967', description='CY019967 A/Arizona/14/1978 1978// 8 (NS)', dbxrefs=[])]"
       ]
      }
     ],
     "prompt_number": 5
    },
    {
     "cell_type": "code",
     "collapsed": false,
     "input": [
      "h2_all = h2_list[0] + h2_list[1] + h2_list[2] + h2_list[3] + h2_list[4] + h2_list[5] + h2_list[6] + h2_list[7]\n",
      "\n",
      "h2_all.id='1978'"
     ],
     "language": "python",
     "metadata": {},
     "outputs": [],
     "prompt_number": 13
    },
    {
     "cell_type": "code",
     "collapsed": false,
     "input": [
      "h3_list = list(SeqIO.parse('H1N1_3_FASTA.fa', 'fasta'))\n",
      "h3_list"
     ],
     "language": "python",
     "metadata": {},
     "outputs": [
      {
       "metadata": {},
       "output_type": "pyout",
       "prompt_number": 6,
       "text": [
        "[SeqRecord(seq=Seq('TCAATTATATTCAATATGGAAAGAATAAAAGAACTAAGGAATCTAATGTCGCAA...TTA', SingleLetterAlphabet()), id='CY021716', name='CY021716', description='CY021716 A/AA/Huston/1945 1945// 1 (PB2)', dbxrefs=[]),\n",
        " SeqRecord(seq=Seq('AATGGATGTCAATCCGATCTTACTTTTCTTAAAAGTTCCAGCACAAAATGCTAT...TTA', SingleLetterAlphabet()), id='CY021715', name='CY021715', description='CY021715 A/AA/Huston/1945 1945// 2 (PB1)', dbxrefs=[]),\n",
        " SeqRecord(seq=Seq('GTACTGATCCGAAATGGAAGATTTTGTGCGACAATGCTTCAATCCGATGATTGT...AAA', SingleLetterAlphabet()), id='CY021714', name='CY021714', description='CY021714 A/AA/Huston/1945 1945// 3 (PA)', dbxrefs=[]),\n",
        " SeqRecord(seq=Seq('AAAATAAAAACAACCAAAATGAAGGCAAGACTACTGGTCCTGTTATGTGCACTT...AAC', SingleLetterAlphabet()), id='CY021709', name='CY021709', description='CY021709 A/AA/Huston/1945 1945// 4 (HA)', dbxrefs=[]),\n",
        " SeqRecord(seq=Seq('ATAATCACTCACTGAGTGACATCAAAATCATGGCGTCCCAAGGCACCAAACGGT...AAT', SingleLetterAlphabet()), id='CY021712', name='CY021712', description='CY021712 A/AA/Huston/1945 1945// 5 (NP)', dbxrefs=[]),\n",
        " SeqRecord(seq=Seq('TTTAAAATGAATCCAAATCAGAAAATAATAACCATTGGATCAATCTGTATGGTA...AAA', SingleLetterAlphabet()), id='CY021711', name='CY021711', description='CY021711 A/AA/Huston/1945 1945// 6 (NA)', dbxrefs=[]),\n",
        " SeqRecord(seq=Seq('GTAGATATTGAAAGATGAGTCTTCTAACCGAGGTCGAAACGTACGTTCTCTCTA...AAA', SingleLetterAlphabet()), id='CY021710', name='CY021710', description='CY021710 A/AA/Huston/1945 1945// 7 (MP)', dbxrefs=[]),\n",
        " SeqRecord(seq=Seq('TGGCAAAAACATAATGGATCCCAACACTGTGTCAAGCTTTCAGGTAGATTGCTT...TAA', SingleLetterAlphabet()), id='CY021713', name='CY021713', description='CY021713 A/AA/Huston/1945 1945// 8 (NS)', dbxrefs=[])]"
       ]
      }
     ],
     "prompt_number": 6
    },
    {
     "cell_type": "code",
     "collapsed": false,
     "input": [
      "h3_all = h3_list[0] + h3_list[1] + h3_list[2] + h3_list[3] + h3_list[4] + h3_list[5] + h3_list[6] + h3_list[7]\n",
      "\n",
      "h3_all.id='1945'"
     ],
     "language": "python",
     "metadata": {},
     "outputs": [],
     "prompt_number": 14
    },
    {
     "cell_type": "code",
     "collapsed": false,
     "input": [
      "h4_list = list(SeqIO.parse('H1N1_4_FASTA.fa', 'fasta'))\n",
      "h4_list"
     ],
     "language": "python",
     "metadata": {},
     "outputs": [
      {
       "metadata": {},
       "output_type": "pyout",
       "prompt_number": 7,
       "text": [
        "[SeqRecord(seq=Seq('TCAATTATATTCAATATGGAAAGAATAAAAGAACTAAGGAATCTAATGTCGCAG...TCG', SingleLetterAlphabet()), id='CY020292', name='CY020292', description='CY020292 A/AA/Marton/1943 1943// 1 (PB2)', dbxrefs=[]),\n",
        " SeqRecord(seq=Seq('ATGGATGTCAATCCGACCTTACTTTTCTTAAAAGTGCCAGCACAAAATGCTATA...TGT', SingleLetterAlphabet()), id='CY020291', name='CY020291', description='CY020291 A/AA/Marton/1943 1943// 2 (PB1)', dbxrefs=[]),\n",
        " SeqRecord(seq=Seq('ATCCGAAATGGAAGATTTTGTGCGACAATGCTTCAATCCGATGATTGTCGAGCT...ATA', SingleLetterAlphabet()), id='CY020290', name='CY020290', description='CY020290 A/AA/Marton/1943 1943// 3 (PA)', dbxrefs=[]),\n",
        " SeqRecord(seq=Seq('AACAACCAAAATGAAAGCAAGACTACTGGTCCTGTTATGTGCACTTGCAGCTAC...AAA', SingleLetterAlphabet()), id='CY020285', name='CY020285', description='CY020285 A/AA/Marton/1943 1943// 4 (HA)', dbxrefs=[]),\n",
        " SeqRecord(seq=Seq('TCACTCACTGAGTGACATCAAAATCATGGCGTCCCAAGGCACCAAACGGTCTTA...AAT', SingleLetterAlphabet()), id='CY020288', name='CY020288', description='CY020288 A/AA/Marton/1943 1943// 5 (NP)', dbxrefs=[]),\n",
        " SeqRecord(seq=Seq('ATGAATCCAAATCAGAAAATAATAACCATTGGATCAATCTGTATGGTAGTCGGA...TAG', SingleLetterAlphabet()), id='CY020287', name='CY020287', description='CY020287 A/AA/Marton/1943 1943// 6 (NA)', dbxrefs=[]),\n",
        " SeqRecord(seq=Seq('AGATGAGTCTTCTAACCGAGGTCGAAACGTACGTTCTCTCTATCGTCCCGTCAG...AAA', SingleLetterAlphabet()), id='CY020286', name='CY020286', description='CY020286 A/AA/Marton/1943 1943// 7 (MP)', dbxrefs=[]),\n",
        " SeqRecord(seq=Seq('ATAATGGATCCCAACACTGTGTCAAGCTTTCAGGTAGACTGCTTTCTTTGGCAT...AAA', SingleLetterAlphabet()), id='CY020289', name='CY020289', description='CY020289 A/AA/Marton/1943 1943// 8 (NS)', dbxrefs=[])]"
       ]
      }
     ],
     "prompt_number": 7
    },
    {
     "cell_type": "code",
     "collapsed": false,
     "input": [
      "h4_all = h4_list[0] + h4_list[1] + h4_list[2] + h4_list[3] + h4_list[4] + h4_list[5] + h4_list[6] + h4_list[7]\n",
      "\n",
      "h4_all.id='1943'"
     ],
     "language": "python",
     "metadata": {},
     "outputs": [],
     "prompt_number": 15
    },
    {
     "cell_type": "code",
     "collapsed": false,
     "input": [
      "h5_list = list(SeqIO.parse('H1N1_5_FASTA.fa', 'fasta'))\n",
      "h5_list"
     ],
     "language": "python",
     "metadata": {},
     "outputs": [
      {
       "metadata": {},
       "output_type": "pyout",
       "prompt_number": 8,
       "text": [
        "[SeqRecord(seq=Seq('AATATGGAAAGAATAAAAGAACTACGAAATCTAATGTCGCAGTCTCGCACCCGC...TAG', SingleLetterAlphabet()), id='CY019962', name='CY019962', description='CY019962 A/Alaska/1935 1935// 1 (PB2)', dbxrefs=[]),\n",
        " SeqRecord(seq=Seq('AATGGATGTCAATCCGACCTTACTTTTCTTAAAAGTGCCAGCACAAAATGCTAT...TGT', SingleLetterAlphabet()), id='CY019961', name='CY019961', description='CY019961 A/Alaska/1935 1935// 2 (PB1)', dbxrefs=[]),\n",
        " SeqRecord(seq=Seq('ATCCAAAATGGAAGATTTTGTGCGACAATGCTTCAATCCGATGATTGTCGAGCT...ACT', SingleLetterAlphabet()), id='CY019960', name='CY019960', description='CY019960 A/Alaska/1935 1935// 3 (PA)', dbxrefs=[]),\n",
        " SeqRecord(seq=Seq('AACAACCAAAATGAAGGCAAACCTACTGGTCCTGTTATGTGCACTTGCAGCTGC...TAG', SingleLetterAlphabet()), id='CY019955', name='CY019955', description='CY019955 A/Alaska/1935 1935// 4 (HA)', dbxrefs=[]),\n",
        " SeqRecord(seq=Seq('ACTCACTGAGTGACATCAAAATCATGGCGTCTCAAGGCACCAAACGATCTTACG...AAT', SingleLetterAlphabet()), id='CY019958', name='CY019958', description='CY019958 A/Alaska/1935 1935// 5 (NP)', dbxrefs=[]),\n",
        " SeqRecord(seq=Seq('AATGAATCCAAATCAGAAAATAATAACCATTGGATCAATCTGTCTGGTAGTCGG...GTC', SingleLetterAlphabet()), id='CY019957', name='CY019957', description='CY019957 A/Alaska/1935 1935// 6 (NA)', dbxrefs=[]),\n",
        " SeqRecord(seq=Seq('AGATGAGTCTTCTAACCGAGGTCGAAACGTACGTACTCTCTATCATCCCGTCAG...AAA', SingleLetterAlphabet()), id='CY019956', name='CY019956', description='CY019956 A/Alaska/1935 1935// 7 (MP)', dbxrefs=[]),\n",
        " SeqRecord(seq=Seq('AACATAATGGATCCAAACACTGTGTCAAGCTTTCAGGTAGATTGCTTTCTTTGG...TAA', SingleLetterAlphabet()), id='CY019959', name='CY019959', description='CY019959 A/Alaska/1935 1935// 8 (NS)', dbxrefs=[])]"
       ]
      }
     ],
     "prompt_number": 8
    },
    {
     "cell_type": "code",
     "collapsed": false,
     "input": [
      "h5_all = h5_list[0] + h5_list[1] + h5_list[2] + h5_list[3] + h5_list[4] + h5_list[5] + h5_list[6] + h5_list[7]\n",
      "\n",
      "h5_all.id='1935'"
     ],
     "language": "python",
     "metadata": {},
     "outputs": [],
     "prompt_number": 16
    },
    {
     "cell_type": "code",
     "collapsed": false,
     "input": [
      "all_seq = [h1_all,h2_all,h3_all,h4_all,h5_all]\n",
      "\n",
      "SeqIO.write(all_seq,'all_seq.fa','fasta');"
     ],
     "language": "python",
     "metadata": {},
     "outputs": [],
     "prompt_number": 19
    },
    {
     "cell_type": "code",
     "collapsed": false,
     "input": [
      "cline = ClustalwCommandline(clustalw_exe,infile='all_seq.fa')\n",
      "stdout, stderr = cline()"
     ],
     "language": "python",
     "metadata": {},
     "outputs": [],
     "prompt_number": 21
    },
    {
     "cell_type": "code",
     "collapsed": false,
     "input": [
      "alignment = AlignIO.read('all_seq.aln','clustal')\n",
      "print alignment"
     ],
     "language": "python",
     "metadata": {},
     "outputs": [
      {
       "output_type": "stream",
       "stream": "stdout",
       "text": [
        "SingleLetterAlphabet() alignment with 5 rows and 13387 columns\n",
        "TCAATTATATTCAATATGGAAAGAATAAAAGAACTAAGGAATCT...--- 1945\n",
        "TCAATTATATTCAATATGGAAAGAATAAAAGAACTAAGGAATCT...AAA 1943\n",
        "--------------TATGGAAAGAATAAAAGAGCTAAGGAGTCT...--- 1978\n",
        "------------AATATGGAAAGAATAAAAGAACTACGAAATCT...--- 1935\n",
        "---------------ATGGAGAGAATAAAAGAACTGAGAGATCT...A-- 2009\n"
       ]
      }
     ],
     "prompt_number": 22
    }
   ],
   "metadata": {}
  }
 ]
}