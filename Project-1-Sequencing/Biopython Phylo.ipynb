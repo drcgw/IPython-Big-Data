{
 "metadata": {
  "name": "",
  "signature": "sha256:daad295efcf15918e0026976992ef1e49d9d8e1cf4deb4f7df75547f38b7f2f2"
 },
 "nbformat": 3,
 "nbformat_minor": 0,
 "worksheets": [
  {
   "cells": [
    {
     "cell_type": "heading",
     "level": 4,
     "metadata": {},
     "source": [
      "READ ME:"
     ]
    },
    {
     "cell_type": "markdown",
     "metadata": {},
     "source": [
      "This could be a way to quantify the differences between genomes in an alignment. It's a work in progress and is not very well commented yet."
     ]
    },
    {
     "cell_type": "code",
     "collapsed": false,
     "input": [
      "import Bio\n",
      "from Bio import AlignIO\n",
      "from Bio import Phylo\n",
      "import inspect\n",
      "import os\n",
      "\n",
      "#specify dir where alignment files are located\n",
      "aligned_dir = \"Biopython Alignment\""
     ],
     "language": "python",
     "metadata": {
      "run_control": {
       "read_only": false
      }
     },
     "outputs": [],
     "prompt_number": 1
    },
    {
     "cell_type": "code",
     "collapsed": false,
     "input": [
      "#optional step\n",
      "alignment = AlignIO.read(os.path.join(aligned_dir,'all_seq.aln'),'clustal')\n",
      "print alignment"
     ],
     "language": "python",
     "metadata": {
      "run_control": {
       "read_only": false
      }
     },
     "outputs": [
      {
       "output_type": "stream",
       "stream": "stdout",
       "text": [
        "SingleLetterAlphabet() alignment with 5 rows and 13387 columns\n",
        "TCAATTATATTCAATATGGAAAGAATAAAAGAACTAAGGAATCT...--- 1945\n",
        "TCAATTATATTCAATATGGAAAGAATAAAAGAACTAAGGAATCT...AAA 1943\n",
        "--------------TATGGAAAGAATAAAAGAGCTAAGGAGTCT...--- 1978\n",
        "------------AATATGGAAAGAATAAAAGAACTACGAAATCT...--- 1935\n",
        "---------------ATGGAGAGAATAAAAGAACTGAGAGATCT...A-- 2009\n"
       ]
      }
     ],
     "prompt_number": 2
    },
    {
     "cell_type": "heading",
     "level": 2,
     "metadata": {},
     "source": [
      "Phylo Operations"
     ]
    },
    {
     "cell_type": "markdown",
     "metadata": {},
     "source": [
      "From biopython phylo: The distance values show the number of substitutions as a proportion of the length of the alignment (excluding gaps)."
     ]
    },
    {
     "cell_type": "code",
     "collapsed": false,
     "input": [
      "#http://biopython.org/wiki/Phylo_cookbook\n",
      "#http://biopython.org/wiki/Phylo\n",
      "tree = Phylo.read(os.path.join(aligned_dir,'all_seq.dnd'),\"newick\")"
     ],
     "language": "python",
     "metadata": {
      "run_control": {
       "read_only": false
      }
     },
     "outputs": [],
     "prompt_number": 3
    },
    {
     "cell_type": "code",
     "collapsed": false,
     "input": [
      "Phylo.draw_ascii(tree)\n",
      "print tree"
     ],
     "language": "python",
     "metadata": {
      "run_control": {
       "read_only": false
      }
     },
     "outputs": [
      {
       "output_type": "stream",
       "stream": "stdout",
       "text": [
        "        _________________________________________________________________ 2009\n",
        "    ___|\n",
        "  _|   |_________ 1935\n",
        " | |\n",
        " | |__________ 1978\n",
        "_|\n",
        " |___ 1945\n",
        " |\n",
        " |___ 1943\n",
        "\n",
        "Tree(rooted=False, weight=1.0)\n",
        "    Clade()\n",
        "        Clade(branch_length=0.0046)\n",
        "            Clade(branch_length=0.00835)\n",
        "                Clade(branch_length=0.14128, name='2009')\n",
        "                Clade(branch_length=0.02236, name='1935')\n",
        "            Clade(branch_length=0.02491, name='1978')\n",
        "        Clade(branch_length=0.00976, name='1945')\n",
        "        Clade(branch_length=0.00912, name='1943')\n"
       ]
      }
     ],
     "prompt_number": 8
    },
    {
     "cell_type": "code",
     "collapsed": false,
     "input": [
      "#get tree elements\n",
      "elements = list(tree.find_elements())\n",
      "named_elems = [i for i in elements if i.name != None]\n",
      "named_elems"
     ],
     "language": "python",
     "metadata": {},
     "outputs": [
      {
       "metadata": {},
       "output_type": "pyout",
       "prompt_number": 5,
       "text": [
        "[Clade(branch_length=0.14128, name='2009'),\n",
        " Clade(branch_length=0.02236, name='1935'),\n",
        " Clade(branch_length=0.02491, name='1978'),\n",
        " Clade(branch_length=0.00976, name='1945'),\n",
        " Clade(branch_length=0.00912, name='1943')]"
       ]
      }
     ],
     "prompt_number": 5
    },
    {
     "cell_type": "code",
     "collapsed": false,
     "input": [
      "branch_lens = []\n",
      "for i in named_elems:\n",
      "    branch_lens.append(i.branch_length)\n",
      "    print i.branch_length,\n",
      "    print i.branch_length*alignment.get_alignment_length() #I guess we don't really need to do this. We could just compare i.branch_length"
     ],
     "language": "python",
     "metadata": {},
     "outputs": [
      {
       "output_type": "stream",
       "stream": "stdout",
       "text": [
        "0.14128 1891.31536\n",
        "0.02236 299.33332\n",
        "0.02491 333.47017\n",
        "0.00976 130.65712\n",
        "0.00912 122.08944\n"
       ]
      }
     ],
     "prompt_number": 9
    },
    {
     "cell_type": "code",
     "collapsed": false,
     "input": [
      "print sum(branch_lens)\n",
      "print tree.total_branch_length() #if you run 'print tree' you see that several of the clades do not have names,which is why sum(branch_lens) != tree.total_branch_length(). "
     ],
     "language": "python",
     "metadata": {},
     "outputs": [
      {
       "output_type": "stream",
       "stream": "stdout",
       "text": [
        "0.20743\n",
        "0.22038\n"
       ]
      }
     ],
     "prompt_number": 14
    }
   ],
   "metadata": {}
  }
 ]
}