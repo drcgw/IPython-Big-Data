{
 "metadata": {
  "name": "",
  "signature": "sha256:3e5724bb8f8901be8b108f605c7ed3f8a6991fc52dbcc09b459ee0bafabbdd96"
 },
 "nbformat": 3,
 "nbformat_minor": 0,
 "worksheets": [
  {
   "cells": [
    {
     "cell_type": "markdown",
     "metadata": {},
     "source": [
      "This is a work in progress."
     ]
    },
    {
     "cell_type": "code",
     "collapsed": false,
     "input": [
      "import Bio\n",
      "from Bio import AlignIO\n",
      "from Bio import Phylo\n",
      "import inspect\n",
      "import os\n",
      "from itertools import imap, groupby, starmap\n",
      "\n",
      "#specify dir where alignment files are located\n",
      "aligned_dir = \"Biopython Alignment\""
     ],
     "language": "python",
     "metadata": {
      "run_control": {
       "read_only": false
      }
     },
     "outputs": [],
     "prompt_number": 90
    },
    {
     "cell_type": "code",
     "collapsed": false,
     "input": [
      "#optional step\n",
      "alignment = AlignIO.read(os.path.join(aligned_dir,'all_seq.aln'),'clustal')\n",
      "print alignment"
     ],
     "language": "python",
     "metadata": {
      "run_control": {
       "read_only": false
      }
     },
     "outputs": [
      {
       "output_type": "stream",
       "stream": "stdout",
       "text": [
        "SingleLetterAlphabet() alignment with 8 rows and 13379 columns\n",
        "---------------ATGGAGAGAATAAAAGAACTGAGAGATCT...TAC h2014\n",
        "---------------ATGGAGAGAATAAAAGAACTGAGAGATCT...--- s2014\n",
        "---------------ATGGAGAGAATAAAAGAACTGAGAGATCT...--- h2009\n",
        "---------------ATGGAGAGAATAAAAGAACTAAGAGATCT...--- s2009\n",
        "------------AATATGGAAAGAATAAAAGAACTACGAAATCT...--- h1935\n",
        "--------------TATGGAAAGAATAAAAGAGCTAAGGAGTCT...--- h1978\n",
        "TCAAATATATTCAATATGGAGAGAATAAAAGAACTAAGGGATCT...--- s1935\n",
        "TCAAATATATTCAATATGGAGAGAATAAAGGAACTAAGAAATCT...--- s1978\n"
       ]
      }
     ],
     "prompt_number": 4
    },
    {
     "cell_type": "heading",
     "level": 2,
     "metadata": {},
     "source": [
      "The Tree"
     ]
    },
    {
     "cell_type": "code",
     "collapsed": false,
     "input": [
      "#http://biopython.org/wiki/Phylo_cookbook\n",
      "#http://biopython.org/wiki/Phylo\n",
      "tree = Phylo.read(os.path.join(aligned_dir,'all_seq.dnd'),\"newick\")\n",
      "Phylo.draw_ascii(tree)\n",
      "print tree"
     ],
     "language": "python",
     "metadata": {
      "run_control": {
       "read_only": false
      }
     },
     "outputs": [
      {
       "output_type": "stream",
       "stream": "stdout",
       "text": [
        "                                                          __________ h1935\n",
        "                                             ____________|\n",
        "                                        ____|            |______________ h1978\n",
        "                                       |    |\n",
        "                  _____________________|    |_______________ s1935\n",
        "                 |                     |\n",
        "  _______________|                     |____________________ s1978\n",
        " |               |\n",
        " |               |_____________ s2009\n",
        "_|\n",
        " | h2009\n",
        " |\n",
        " |  _ h2014\n",
        " |_|\n",
        "   |_ s2014\n",
        "\n",
        "Tree(rooted=False, weight=1.0)\n",
        "    Clade()\n",
        "        Clade(branch_length=0.04081)\n",
        "            Clade(branch_length=0.05117)\n",
        "                Clade(branch_length=0.01348)\n",
        "                    Clade(branch_length=0.03165)\n",
        "                        Clade(branch_length=0.02643, name='h1935')\n",
        "                        Clade(branch_length=0.03374, name='h1978')\n",
        "                    Clade(branch_length=0.03667, name='s1935')\n",
        "                Clade(branch_length=0.05144, name='s1978')\n",
        "            Clade(branch_length=0.03363, name='s2009')\n",
        "        Clade(branch_length=0.00479, name='h2009')\n",
        "        Clade(branch_length=0.00677)\n",
        "            Clade(branch_length=0.00426, name='h2014')\n",
        "            Clade(branch_length=0.0042, name='s2014')\n"
       ]
      }
     ],
     "prompt_number": 8
    },
    {
     "cell_type": "code",
     "collapsed": false,
     "input": [
      "def lookup_by_names(tree):\n",
      "    names = {}\n",
      "    for clade in tree.find_clades():\n",
      "        if clade.name:\n",
      "            if clade.name in names:\n",
      "                raise ValueError(\"Duplicate key: %s\" % clade.name)\n",
      "            names[clade.name] = clade\n",
      "    return names\n",
      "\n",
      "names = lookup_by_names(tree)\n",
      "for phylum in ('h2009','s2009'):\n",
      "    print \"Phylum size\", len(names[phylum].get_terminals())\n",
      "    \n",
      "def tabulate_names(tree):\n",
      "    names = {}\n",
      "    for idx, clade in enumerate(tree.find_clades()):\n",
      "        if clade.name:\n",
      "            clade.name = '%s_i%d' % (clade.name,idx)\n",
      "        else:\n",
      "            clade.name = str(idx)\n",
      "        names[clade.name] = clade\n",
      "    return names\n",
      "tree2 =copy.deepcopy(tree)\n",
      "tabulate_names(tree2)\n",
      "Phylo.draw_ascii(tree2)\n",
      "\n"
     ],
     "language": "python",
     "metadata": {
      "run_control": {
       "read_only": false
      }
     },
     "outputs": [
      {
       "output_type": "stream",
       "stream": "stdout",
       "text": [
        "Phylum size 1\n",
        "Phylum size 1\n",
        "                                                       __________ h1935_i5\n",
        "                                           ___________|\n",
        "                                      ____|           |_____________ h1978_i6\n",
        "                                     |    |\n",
        "                  ___________________|    |_____________ s1935_i7\n",
        "                 |                   |\n",
        "  _______________|                   |___________________ s1978_i8\n",
        " |               |\n",
        " |               |____________ s2009_i9\n",
        "_|\n",
        " | h2009_i10\n",
        " |\n",
        " |  _ h2014_i12\n",
        " |_|\n",
        "   |_ s2014_i13\n",
        "\n"
       ]
      }
     ],
     "prompt_number": 136
    },
    {
     "cell_type": "code",
     "collapsed": false,
     "input": [
      "'''\n",
      "Calculate distances between neighboring terminals\n",
      "Suggested by Joel Berendzen\n",
      "'''\n",
      "import itertools\n",
      " \n",
      "def terminal_neighbor_dists(self):\n",
      "    \"\"\"Return a list of distances between adjacent terminals.\"\"\"\n",
      "    def generate_pairs(self):\n",
      "        pairs = itertools.tee(self)\n",
      "        pairs[1].next()\n",
      "        return itertools.izip(pairs[0], pairs[1])\n",
      "    return [self.distance(*i) for i in\n",
      "            generate_pairs(self.find_clades(terminal=True))]"
     ],
     "language": "python",
     "metadata": {
      "run_control": {
       "read_only": false
      }
     },
     "outputs": []
    },
    {
     "cell_type": "heading",
     "level": 2,
     "metadata": {},
     "source": [
      "Compare genomes by Depths"
     ]
    },
    {
     "cell_type": "markdown",
     "metadata": {},
     "source": [
      "depths method:\n",
      "\n",
      "Create a mapping of tree clades to depths. The result is a dictionary where the keys are all of the Clade instances in the tree, and the values are the distance from the root to each clade (including terminals). By default the distance is the cumulative branch length leading to the clade, but with the unit_branch_lengths=True option, only the number of branches (levels in the tree) is counted.\n",
      "(http://biopython.org/DIST/docs/tutorial/Tutorial.html#htoc161)"
     ]
    },
    {
     "cell_type": "code",
     "collapsed": false,
     "input": [
      "tree_depths = tree.depths()\n",
      "tree_depths"
     ],
     "language": "python",
     "metadata": {
      "run_control": {
       "read_only": false
      }
     },
     "outputs": [
      {
       "metadata": {},
       "output_type": "pyout",
       "prompt_number": 9,
       "text": [
        "{Clade(): 0,\n",
        " Clade(branch_length=0.04081): 0.04081,\n",
        " Clade(branch_length=0.05117): 0.09198,\n",
        " Clade(branch_length=0.01348): 0.10546000000000001,\n",
        " Clade(branch_length=0.03165): 0.13711,\n",
        " Clade(branch_length=0.02643, name='h1935'): 0.16354000000000002,\n",
        " Clade(branch_length=0.03374, name='h1978'): 0.17085,\n",
        " Clade(branch_length=0.03667, name='s1935'): 0.14213,\n",
        " Clade(branch_length=0.05144, name='s1978'): 0.14342,\n",
        " Clade(branch_length=0.03363, name='s2009'): 0.07444,\n",
        " Clade(branch_length=0.00479, name='h2009'): 0.00479,\n",
        " Clade(branch_length=0.00677): 0.00677,\n",
        " Clade(branch_length=0.00426, name='h2014'): 0.01103,\n",
        " Clade(branch_length=0.0042, name='s2014'): 0.01097}"
       ]
      }
     ],
     "prompt_number": 9
    },
    {
     "cell_type": "code",
     "collapsed": false,
     "input": [
      "name_depths_dict = {i.name:tree_depths[i] for i in tree_depths if i.name}\n",
      "name_depths_dict"
     ],
     "language": "python",
     "metadata": {
      "run_control": {
       "read_only": false
      }
     },
     "outputs": [
      {
       "metadata": {},
       "output_type": "pyout",
       "prompt_number": 65,
       "text": [
        "{'h1935': 0.16354000000000002,\n",
        " 'h1978': 0.17085,\n",
        " 'h2009': 0.00479,\n",
        " 'h2014': 0.01103,\n",
        " 's1935': 0.14213,\n",
        " 's1978': 0.14342,\n",
        " 's2009': 0.07444,\n",
        " 's2014': 0.01097}"
       ]
      }
     ],
     "prompt_number": 65
    },
    {
     "cell_type": "code",
     "collapsed": false,
     "input": [
      "#make list of two lists where the first list is the human stains and the second is the swine strains\n",
      "def group_keys_by_host(keys):\n",
      "    strains = sorted(keys)\n",
      "    strains_by_host = [[i for i in group]for key, group in groupby(strains, lambda x: x[0])]\n",
      "    return strains_by_host\n",
      "strains_by_host = group_keys_by_host(name_depths_dict.keys())\n",
      "strains_by_host"
     ],
     "language": "python",
     "metadata": {
      "run_control": {
       "read_only": false
      }
     },
     "outputs": [
      {
       "metadata": {},
       "output_type": "pyout",
       "prompt_number": 103,
       "text": [
        "[['h1935', 'h1978', 'h2009', 'h2014'], ['s1935', 's1978', 's2009', 's2014']]"
       ]
      }
     ],
     "prompt_number": 103
    },
    {
     "cell_type": "code",
     "collapsed": false,
     "input": [
      "#make list of tuples where the first item is the human stain for one year and the second is the swine strain for same year\n",
      "strains_by_year = [i for i in zip(strains_by_host[0],strains_by_host[1]) if i[0][1:] == i[1][1:]]\n",
      "strains_by_year"
     ],
     "language": "python",
     "metadata": {
      "run_control": {
       "read_only": false
      }
     },
     "outputs": [
      {
       "metadata": {},
       "output_type": "pyout",
       "prompt_number": 77,
       "text": [
        "[('h1935', 's1935'),\n",
        " ('h1978', 's1978'),\n",
        " ('h2009', 's2009'),\n",
        " ('h2014', 's2014')]"
       ]
      }
     ],
     "prompt_number": 77
    },
    {
     "cell_type": "code",
     "collapsed": false,
     "input": [
      "def compare(key_seq, vals_dict):\n",
      "    ks = copy.deepcopy(key_seq)\n",
      "    for i in key_seq:\n",
      "        #print i,\": \"\n",
      "        for ii in ks:\n",
      "            #print '\\t', ii,\n",
      "        ks.remove(i)\n",
      "        #print\n",
      "    #print key_seq\n",
      "\n",
      "#starmap(strains_by_host[0])\n",
      "strains_by_host = group_keys_by_host(name_depths_dict.keys())\n",
      "compare(strains_by_host[0], name_depths_dict)"
     ],
     "language": "python",
     "metadata": {
      "run_control": {
       "read_only": false
      }
     },
     "outputs": [
      {
       "output_type": "stream",
       "stream": "stdout",
       "text": [
        "h1935 : \n",
        "\th1935 \th1978 \th2009 \th2014\n",
        "h1978 : \n",
        "\th1978 \th2009 \th2014\n",
        "h2009 : \n",
        "\th2009 \th2014\n",
        "h2014 : \n",
        "\th2014\n",
        "['h1935', 'h1978', 'h2009', 'h2014']\n"
       ]
      }
     ],
     "prompt_number": 128
    },
    {
     "cell_type": "code",
     "collapsed": false,
     "input": [
      "def compare_genomes(genome_pair):\n",
      "    gen1, gen2 = genome_pair[0],genome_pair[1]\n",
      "    key = gen1+\"-\"+gen2\n",
      "    return key, name_depths_dict[gen1] - name_depths_dict[gen2]"
     ],
     "language": "python",
     "metadata": {},
     "outputs": [],
     "prompt_number": 146
    },
    {
     "cell_type": "code",
     "collapsed": false,
     "input": [
      "import itertools\n",
      "strains_by_host = group_keys_by_host(name_depths_dict.keys())\n",
      "year_diffs={}\n",
      "for i in strains_by_host:\n",
      "    matched = list(itertools.combinations(i,2))\n",
      "    for ii in matched:\n",
      "        key, val = compare_genomes(ii)\n",
      "        year_diffs[key] = val\n",
      "        print key,\": \", year_diffs[key]\n",
      "h, s = group_keys_by_host(year_diffs.keys())"
     ],
     "language": "python",
     "metadata": {},
     "outputs": [
      {
       "output_type": "stream",
       "stream": "stdout",
       "text": [
        "h1935-h1978 :  -0.00731\n",
        "h1935-h2009 :  0.15875\n",
        "h1935-h2014 :  0.15251\n",
        "h1978-h2009 :  0.16606\n",
        "h1978-h2014 :  0.15982\n",
        "h2009-h2014 :  -0.00624\n",
        "s1935-s1978 :  -0.00129\n",
        "s1935-s2009 :  0.06769\n",
        "s1935-s2014 :  0.13116\n",
        "s1978-s2009 :  0.06898\n",
        "s1978-s2014 :  0.13245\n",
        "s2009-s2014 :  0.06347\n"
       ]
      }
     ],
     "prompt_number": 151
    },
    {
     "cell_type": "code",
     "collapsed": false,
     "input": [
      "year_diffs = {}  \n",
      "for i in strains_by_year:\n",
      "    key, val = compare_genomes(i)\n",
      "    year_diffs[key] = val\n",
      "    print key,\": \", year_diffs[key]\n",
      "    \n",
      "year_diffs"
     ],
     "language": "python",
     "metadata": {
      "run_control": {
       "read_only": false
      }
     },
     "outputs": [
      {
       "output_type": "stream",
       "stream": "stdout",
       "text": [
        "h1935-s1935 :  0.02141\n",
        "h1978-s1978 :  0.02743\n",
        "h2009-s2009 :  -0.06965\n",
        "h2014-s2014 :  6e-05\n"
       ]
      },
      {
       "metadata": {},
       "output_type": "pyout",
       "prompt_number": 149,
       "text": [
        "[['h1935-s1935', 'h1978-s1978', 'h2009-s2009', 'h2014-s2014']]"
       ]
      }
     ],
     "prompt_number": 149
    },
    {
     "cell_type": "code",
     "collapsed": false,
     "input": [],
     "language": "python",
     "metadata": {},
     "outputs": []
    }
   ],
   "metadata": {}
  }
 ]
}