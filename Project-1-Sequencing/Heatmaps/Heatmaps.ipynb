{
 "metadata": {
  "name": "",
  "signature": "sha256:73a2ae184684c8c25b335a54cfbc62b0ff6cda48398814d4420c0fea608bef19"
 },
 "nbformat": 3,
 "nbformat_minor": 0,
 "worksheets": [
  {
   "cells": [
    {
     "cell_type": "code",
     "collapsed": false,
     "input": [
      "import Bio as bio\n",
      "from Bio import AlignIO\n",
      "import numpy as np\n",
      "import matplotlib.pyplot as plt\n",
      "import matplotlib.colors as c\n",
      "\n",
      "%matplotlib inline"
     ],
     "language": "python",
     "metadata": {},
     "outputs": [],
     "prompt_number": 1
    },
    {
     "cell_type": "code",
     "collapsed": false,
     "input": [
      "all_seq = AlignIO.read('all_seq.aln','clustal')\n",
      "all_seq.sort()\n",
      "print all_seq"
     ],
     "language": "python",
     "metadata": {},
     "outputs": [
      {
       "output_type": "stream",
       "stream": "stdout",
       "text": [
        "SingleLetterAlphabet() alignment with 5 rows and 13387 columns\n",
        "------------AATATGGAAAGAATAAAAGAACTACGAAATCT...--- 1935\n",
        "TCAATTATATTCAATATGGAAAGAATAAAAGAACTAAGGAATCT...AAA 1943\n",
        "TCAATTATATTCAATATGGAAAGAATAAAAGAACTAAGGAATCT...--- 1945\n",
        "--------------TATGGAAAGAATAAAAGAGCTAAGGAGTCT...--- 1978\n",
        "---------------ATGGAGAGAATAAAAGAACTGAGAGATCT...A-- 2009\n"
       ]
      }
     ],
     "prompt_number": 2
    },
    {
     "cell_type": "code",
     "collapsed": false,
     "input": [
      "def heatmap_scores(alignment,rows,cols):\n",
      "    scores = np.ones((rows,cols))\n",
      "\n",
      "    for aln in range(rows):\n",
      "        for col in range(cols):\n",
      "            if alignment[aln,col] == 'A':\n",
      "                scores[aln,col] = 0.0\n",
      "            elif alignment[aln,col] == 'T':\n",
      "                scores[aln,col] = 0.25\n",
      "            elif alignment[aln,col] == 'C':\n",
      "                scores[aln,col] = 0.5\n",
      "            elif alignment[aln,col] == 'G':\n",
      "                scores[aln,col] = 0.75\n",
      "            else:\n",
      "                scores[aln,col] = 1.0\n",
      "\n",
      "    scores = scores.T\n",
      "    return scores"
     ],
     "language": "python",
     "metadata": {},
     "outputs": [],
     "prompt_number": 3
    },
    {
     "cell_type": "code",
     "collapsed": false,
     "input": [
      "all_seq_scores = heatmap_scores(all_seq,5,13387)\n",
      "print all_seq_scores"
     ],
     "language": "python",
     "metadata": {},
     "outputs": [
      {
       "output_type": "stream",
       "stream": "stdout",
       "text": [
        "[[ 1.    0.25  0.25  1.    1.  ]\n",
        " [ 1.    0.5   0.5   1.    1.  ]\n",
        " [ 1.    0.    0.    1.    1.  ]\n",
        " ..., \n",
        " [ 1.    0.    1.    1.    0.  ]\n",
        " [ 1.    0.    1.    1.    1.  ]\n",
        " [ 1.    0.    1.    1.    1.  ]]\n"
       ]
      }
     ],
     "prompt_number": 4
    },
    {
     "cell_type": "code",
     "collapsed": false,
     "input": [
      "#\"Heatmap\" plot of alignment of all sequences\n",
      "\n",
      "fig = plt.figure(figsize=(5,13.387))\n",
      "ax = fig.add_axes([0.025,0.025,0.95,0.95],frameon=False)\n",
      "\n",
      "cMap = c.ListedColormap(['r','b','orange','purple','w'])\n",
      "\n",
      "heatmap = ax.pcolormesh(all_seq_scores, cmap=cMap)\n",
      "\n",
      "ax.set_ylim(0,13387)\n",
      "\n",
      "ax.set_xticks(np.arange(all_seq_scores.shape[1])+0.5, minor=False)\n",
      "\n",
      "col_labels = ['1935','1943','1945','1978','2009']\n",
      "ax.set_xticklabels(col_labels, minor=False)\n",
      "\n",
      "ax.invert_yaxis()\n",
      "ax.xaxis.tick_top()\n",
      "\n",
      "for tick in ax.yaxis.get_major_ticks():\n",
      "    tick.tick1On=False\n",
      "    tick.tick2On=False\n",
      "\n",
      "plt.show()"
     ],
     "language": "python",
     "metadata": {},
     "outputs": [
      {
       "metadata": {},
       "output_type": "display_data",
       "png": "[encoded data removed]",
       "text": [
        "<matplotlib.figure.Figure at 0x7b12fd0>"
       ]
      }
     ],
     "prompt_number": 5
    },
    {
     "cell_type": "code",
     "collapsed": false,
     "input": [
      "#Do the same as above with each seg aligned separately\n",
      "\n",
      "seg_aligns = [[],[],[],[],[],[],[],[]]\n",
      "for i in range(8):\n",
      "    seg_aligns[i] = AlignIO.read('segment_%i.aln'%(i+1),'clustal')\n",
      "    seg_aligns[i].sort()\n",
      "    print 'Segment %i: ' %(i+1) + str(seg_aligns[i])"
     ],
     "language": "python",
     "metadata": {},
     "outputs": [
      {
       "output_type": "stream",
       "stream": "stdout",
       "text": [
        "Segment 1: SingleLetterAlphabet() alignment with 5 rows and 2309 columns\n",
        "------------AATATGGAAAGAATAAAAGAACTACGAAATCT...--- CY019962\n",
        "TCAATTATATTCAATATGGAAAGAATAAAAGAACTAAGGAATCT...--- CY020292\n",
        "TCAATTATATTCAATATGGAAAGAATAAAAGAACTAAGGAATCT...TTA CY021716\n",
        "--------------TATGGAAAGAATAAAAGAGCTAAGGAGTCT...--- xCY019970\n",
        "---------------ATGGAGAGAATAAAAGAACTGAGAGATCT...--- zCY039900\n",
        "Segment 2: SingleLetterAlphabet() alignment with 5 rows and 2305 columns\n",
        "-----AATGGATGTCAATCCGACCTTACTTTTCTTAAAAGTGCC...--- CY019961\n",
        "------ATGGATGTCAATCCGACCTTACTTTTCTTAAAAGTGCC...--- CY020291\n",
        "-----AATGGATGTCAATCCGATCTTACTTTTCTTAAAAGTTCC...--- CY021715\n",
        "-----AATGGATGTCAATCCGACCTTACTTTTCTTAAAAGTGCC...--- xCY019969\n",
        "ATTTGAATGGATGTCAATCCGACTCTACTTTTCCTAAAAATTCC...AAA zCY039899\n",
        "Segment 3: SingleLetterAlphabet() alignment with 5 rows and 2206 columns\n",
        "------ATCCAAAATGGAAGATTTTGTGCGACAATGCTTCAATC...--- CY019960\n",
        "------ATCCGAAATGGAAGATTTTGTGCGACAATGCTTCAATC...--- CY020290\n",
        "GTACTGATCCGAAATGGAAGATTTTGTGCGACAATGCTTCAATC...AAA CY021714\n",
        "------ATCCGAAATGGAAGATTTTGTGCGACAATGCTTCAATC...--- xCY019968\n",
        "----TGATCCAAAATGGAAGACTTTGTGCGACAATGCTTCAATC...--- zCY039898\n",
        "Segment 4: SingleLetterAlphabet() alignment with 5 rows and 1751 columns\n",
        "--------AACAACCAAAATGAAGGCAAACCTACTGGTCCTGTT...--- CY019955\n",
        "--------AACAACCAAAATGAAAGCAAGACTACTGGTCCTGTT...A-- CY020285\n",
        "AAAATAAAAACAACCAAAATGAAGGCAAGACTACTGGTCCTGTT...AAC CY021709\n",
        "--------AACAACCAAAATGAAAGCAAAACTACTGGTCCTGTT...--- xCY019963\n",
        "-----AAAAGCAACAAAAATGAAGGCAATACTAGTAGTTCTGCT...--- zCY039893\n",
        "Segment 5: SingleLetterAlphabet() alignment with 5 rows and 1534 columns\n",
        "------ACTCACTGAGTGACATCAAAATCATGGCGTCTCAAGGC...AAT CY019958\n",
        "----TCACTCACTGAGTGACATCAAAATCATGGCGTCCCAAGGC...AAT CY020288\n",
        "ATAATCACTCACTGAGTGACATCAAAATCATGGCGTCCCAAGGC...AAT CY021712\n",
        "------ACTCACTGAGTGACATCAAAATCATGGCGTCCCAAGGC...--- xCY019966\n",
        "----TCACTCAATGAGTGACATCGAAGCCATGGCGTCTCAAGGC...--- zCY039896\n",
        "Segment 6: SingleLetterAlphabet() alignment with 5 rows and 1432 columns\n",
        "-----AATGAATCCAAATCAGAAAATAATAACCATTGGATCAAT...--- CY019957\n",
        "------ATGAATCCAAATCAGAAAATAATAACCATTGGATCAAT...--- CY020287\n",
        "TTTAAAATGAATCCAAATCAGAAAATAATAACCATTGGATCAAT...AAA CY021711\n",
        "------ATGAATCCAAATCAGAAAATAATAACCATTGGATCAAT...--- xCY019965\n",
        "----AAATGAATCCAAACCAAAAGATAATAACCATTGGTTCGGT...--- zCY039895\n",
        "Segment 7: SingleLetterAlphabet() alignment with 5 rows and 1000 columns\n",
        "------------AGATGAGTCTTCTAACCGAGGTCGAAACGTAC...A-- CY019956\n",
        "------------AGATGAGTCTTCTAACCGAGGTCGAAACGTAC...AAA CY020286\n",
        "GTAGATATTGAAAGATGAGTCTTCTAACCGAGGTCGAAACGTAC...AAA CY021710\n",
        "-------------GATGAGTCTTCTAACCGAGGTCGAAACGTAC...A-- xCY019964\n",
        "---------TAAAGATGAGTCTTCTAACCGAGGTCGAAACGTAC...--- zCY039894\n",
        "Segment 8: SingleLetterAlphabet() alignment with 5 rows and 859 columns\n",
        "-------AACATAATGGATCCAAACACTGTGTCAAGCTTTCAGG...--- CY019959\n",
        "----------ATAATGGATCCCAACACTGTGTCAAGCTTTCAGG...AAA CY020289\n",
        "TGGCAAAAACATAATGGATCCCAACACTGTGTCAAGCTTTCAGG...--- CY021713\n",
        "----------ATAATGGATCCCAACACTGTGTCAAGCTTTCAGG...--- xCY019967\n",
        "------AAACATAATGGACTCCAACACCATGTCAAGCTTTCAGG...A-- zCY039897\n"
       ]
      }
     ],
     "prompt_number": 6
    },
    {
     "cell_type": "code",
     "collapsed": false,
     "input": [
      "seg_scores = heatmap_scores(seg_aligns[0],5,2309) #seg 1\n",
      "seg_scores = np.concatenate((seg_scores,heatmap_scores(seg_aligns[1],5,2305)),axis=0) #seg 2\n",
      "seg_scores = np.concatenate((seg_scores,heatmap_scores(seg_aligns[2],5,2206)),axis=0) #seg 3\n",
      "seg_scores = np.concatenate((seg_scores,heatmap_scores(seg_aligns[3],5,1751)),axis=0) #seg 4\n",
      "seg_scores = np.concatenate((seg_scores,heatmap_scores(seg_aligns[4],5,1534)),axis=0) #seg 5\n",
      "seg_scores = np.concatenate((seg_scores,heatmap_scores(seg_aligns[5],5,1432)),axis=0) #seg 6\n",
      "seg_scores = np.concatenate((seg_scores,heatmap_scores(seg_aligns[6],5,1000)),axis=0) #seg 7\n",
      "seg_scores = np.concatenate((seg_scores,heatmap_scores(seg_aligns[7],5,859)),axis=0) #seg 8"
     ],
     "language": "python",
     "metadata": {},
     "outputs": [],
     "prompt_number": 7
    },
    {
     "cell_type": "code",
     "collapsed": false,
     "input": [
      "fig2 = plt.figure(figsize=(5,13.396))\n",
      "ax2 = fig2.add_axes([0.025,0.025,0.95,0.95],frameon=False)\n",
      "\n",
      "cMap = c.ListedColormap(['r','b','orange','purple','w'])\n",
      "\n",
      "heatmap2 = ax2.pcolormesh(seg_scores, cmap=cMap)\n",
      "\n",
      "ax2.set_ylim(0,13396)\n",
      "\n",
      "ax2.set_xticks(np.arange(seg_scores.shape[1])+0.5, minor=False)\n",
      "col_labels = ['1935','1943','1945','1978','2009']\n",
      "ax2.set_xticklabels(col_labels, minor=False)\n",
      "\n",
      "seg_positions = [0,2310,4615,6821,8572,10106,11538,12538]\n",
      "ax2.set_yticks(seg_positions, minor=False)\n",
      "row_labels = ['Seg 1','Seg 2','Seg 3','Seg 4','Seg 5','Seg 6','Seg 7','Seg 8']\n",
      "ax2.set_yticklabels(row_labels, minor=False)\n",
      "\n",
      "ax2.invert_yaxis()\n",
      "ax2.xaxis.tick_top()\n",
      "\n",
      "for tick in ax2.yaxis.get_major_ticks():\n",
      "    tick.tick1On=False\n",
      "    tick.tick2On=False\n",
      "\n",
      "\n",
      "plt.show()"
     ],
     "language": "python",
     "metadata": {},
     "outputs": [
      {
       "metadata": {},
       "output_type": "display_data",
       "png": "[encoded data removed]",
       "text": [
        "<matplotlib.figure.Figure at 0x7b43fd0>"
       ]
      }
     ],
     "prompt_number": 8
    }
   ],
   "metadata": {}
  }
 ]
}