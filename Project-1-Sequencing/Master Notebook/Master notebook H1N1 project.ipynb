{
 "metadata": {
  "name": "",
  "signature": "sha256:08511f207b9853066f1d3347fc8e6ba5d6205c1f73c2d30da3dd9642f5f3b049"
 },
 "nbformat": 3,
 "nbformat_minor": 0,
 "worksheets": [
  {
   "cells": [
    {
     "cell_type": "heading",
     "level": 1,
     "metadata": {},
     "source": [
      "Rate of Change in Influenza A Virus Sequence Found Human and Swine Hosts"
     ]
    },
    {
     "cell_type": "heading",
     "level": 2,
     "metadata": {},
     "source": [
      "Introduction"
     ]
    },
    {
     "cell_type": "markdown",
     "metadata": {},
     "source": [
      "The influenza A virus (IAV) causes a respiratory illness that presents with fever, cough, muscle and joint pains, headache, sore throat, and runny nose. IAV is a member of the Orthomyxoviridae family and contains 8 negative-sense single stranded RNA segments {Urbaniak:2014wj}{Nelson:2015cg}{Webster:2014jt}. The major viral antigens of IAV are the surface glycoproteins hemagglutinin (HA) and neuraminidase (NA), these proteins are used to subtype the IAV into sixteen HA subtypes and nine NA subtypes {Webster:2014jt}. Influenza A virus has numerous host including water fowls, pigs, bats, and humans {Urbaniak:2014wj}{Nelson:2015cg}{Webster:2014jt}. Various mechanisms can change HA and NA in a specific IAV strain causing vaccines deficiencies {Goka:2014cz}. Two of these mechanisms are antigenic shift and antigenic drift.  Due to the lack of proofreading mechanisms in IAV RNA replication, mutations can be easily introduced {Webster:2014jt}. These mutation can cause antigenic drift by changing base pairs in HA and NA making vaccines ineffective.  Another way in which an IAV strain can change is by antigenic shift.  Antigenic shift occurs when two or more IAV infect a host, different viral strains exchange genetic segments,  and viral reassortment occurs {Urbaniak:2014wj}{Nelson:2015cg}{Webster:2014jt}. Pandemic strains can occur after antigenic shift improves an IAV strain virulence, evasion of the host's immune system, or introduces a new set of glycoproteins that the majority of the population have not been previously exposed to {Urbaniak:2014wj}{Nelson:2015cg}{Webster:2014jt}. Pigs are excellent host for antigenic shift to occur due to there expression of both sialic acid receptors for avian strains and mammalian strains {Nelson:2015cg}. With this information in mind, we want to determine if the host plays a role in the rate of mutation in IAV. To determine if the mutation rate was dependent on the host, we compared H1N1 strains collected from different years in both human and pig. "
     ]
    },
    {
     "cell_type": "heading",
     "level": 2,
     "metadata": {},
     "source": [
      "Methods"
     ]
    },
    {
     "cell_type": "markdown",
     "metadata": {},
     "source": [
      "The sequence for H1N1 influenza A virus found in humans or pigs for the years of 1935, 1978, 2009, and 2014 was downloaded from  the NCBI Influenza virus resource (http://www.ncbi.nlm.nih.gov/genomes/FLU/FLU.html). The search criteria was the following; type A influenza virus, host either human or swine, northern temperate region, subtype H1 N1, and the aforementioned years. "
     ]
    },
    {
     "cell_type": "code",
     "collapsed": false,
     "input": [
      "from Bio import SeqIO, AlignIO, Phylo\n",
      "from Bio.Align.Applications import ClustalwCommandline\n",
      "from Bio.SeqFeature import SeqFeature, FeatureLocation\n",
      "from Bio.Graphics import GenomeDiagram\n",
      "from reportlab.lib import colors\n",
      "from reportlab.lib.units import cm\n",
      "import matplotlib.pyplot as plt\n",
      "import matplotlib.image as mpimg\n",
      "import heatmap\n",
      "import multigroup_barchart\n",
      "import os, sys\n",
      "\n",
      "%matplotlib inline\n",
      "\n",
      "#Make a variable point to where ClustalW2 is on your computer\n",
      "clustalw_exe = r\"C:\\Program Files (x86)\\ClustalW2\\clustalw2.exe\"\n",
      "\n",
      "#Make sure you are in the same directory as the sequence FASTA files"
     ],
     "language": "python",
     "metadata": {
      "run_control": {
       "read_only": false
      }
     },
     "outputs": [],
     "prompt_number": 6
    },
    {
     "cell_type": "heading",
     "level": 3,
     "metadata": {},
     "source": [
      "Align sequences using ClustalW2"
     ]
    },
    {
     "cell_type": "code",
     "collapsed": false,
     "input": [
      "years = [1935,1978,2009,2014]\n",
      "\n",
      "genomes = {}\n",
      "\n",
      "#Create dict w/ each complete genome as a list w/ key = h or s followed by year\n",
      "for year in range(len(years)):\n",
      "    genomes['h%i'%(years[year])] = list(SeqIO.parse('human_%i_FASTA.fa'%(years[year]), 'fasta'))\n",
      "    genomes['s%i'%(years[year])] = list(SeqIO.parse('swine_%i_FASTA.fa'%(years[year]), 'fasta'))"
     ],
     "language": "python",
     "metadata": {
      "run_control": {
       "read_only": false
      }
     },
     "outputs": []
    },
    {
     "cell_type": "code",
     "collapsed": false,
     "input": [
      "#Concatenate all segments from each genome into their own dict entry, key = h/sYEAR_all\n",
      "for year in range(len(years)):\n",
      "    genomes['h%i_all'%(years[year])] = genomes['h%i'%(years[year])][0]\n",
      "    genomes['s%i_all'%(years[year])] = genomes['s%i'%(years[year])][0]\n",
      "    for seg in range(1,8):\n",
      "        genomes['h%i_all'%(years[year])] = genomes['h%i_all'%(years[year])] + genomes['h%i'%(years[year])][seg]\n",
      "        genomes['s%i_all'%(years[year])] = genomes['s%i_all'%(years[year])] + genomes['s%i'%(years[year])][seg]\n",
      "    genomes['h%i_all'%(years[year])].id = 'h' + str(years[year])\n",
      "    genomes['s%i_all'%(years[year])].id = 's' + str(years[year])"
     ],
     "language": "python",
     "metadata": {
      "run_control": {
       "read_only": false
      }
     },
     "outputs": []
    },
    {
     "cell_type": "code",
     "collapsed": false,
     "input": [
      "#Create lists of SeqRecord objects for all human H1N1 genomes, all swine, and both combined\n",
      "all_human = [genomes['h1935_all']]\n",
      "all_swine = [genomes['s1935_all']]\n",
      "all_seq = [genomes['h1935_all'],genomes['s1935_all']]\n",
      "\n",
      "for year in range(1,4):\n",
      "    all_human.append(genomes['h%i_all'%(years[year])])\n",
      "    all_seq.append(genomes['h%i_all'%(years[year])])\n",
      "    all_swine.append(genomes['s%i_all'%(years[year])])\n",
      "    all_seq.append(genomes['s%i_all'%(years[year])])\n",
      "\n",
      "#Write these to FASTA files, so ClustalW can align them\n",
      "SeqIO.write(all_human,'all_human.fa','fasta');\n",
      "SeqIO.write(all_swine,'all_swine.fa','fasta');\n",
      "SeqIO.write(all_seq,'all_seq.fa','fasta');"
     ],
     "language": "python",
     "metadata": {
      "run_control": {
       "read_only": false
      }
     },
     "outputs": []
    },
    {
     "cell_type": "code",
     "collapsed": false,
     "input": [
      "\"\"\"\n",
      "#Align all human sequences\n",
      "cline_human = ClustalwCommandline(clustalw_exe,infile='all_human.fa')\n",
      "stdout, stderr = cline_human()\n",
      "\"\"\""
     ],
     "language": "python",
     "metadata": {
      "run_control": {
       "read_only": false
      }
     },
     "outputs": []
    },
    {
     "cell_type": "code",
     "collapsed": false,
     "input": [
      "\"\"\"\n",
      "#Align all swine sequences\n",
      "cline_swine = ClustalwCommandline(clustalw_exe,infile='all_swine.fa')\n",
      "stdout, stderr = cline_swine()\n",
      "\"\"\""
     ],
     "language": "python",
     "metadata": {
      "run_control": {
       "read_only": false
      }
     },
     "outputs": []
    },
    {
     "cell_type": "code",
     "collapsed": false,
     "input": [
      "\"\"\"\n",
      "#Align all sequences\n",
      "cline_all = ClustalwCommandline(clustalw_exe,infile='all_seq.fa')\n",
      "stdout, stderr = cline_all()\n",
      "\"\"\""
     ],
     "language": "python",
     "metadata": {
      "run_control": {
       "read_only": false
      }
     },
     "outputs": []
    },
    {
     "cell_type": "heading",
     "level": 3,
     "metadata": {},
     "source": [
      "Read aligned sequences from files and compare them"
     ]
    },
    {
     "cell_type": "code",
     "collapsed": false,
     "input": [
      "#Import the aligned sequences\n",
      "all_aln = AlignIO.read('all_seq.aln','clustal')\n",
      "all_aln.sort()\n",
      "print all_aln"
     ],
     "language": "python",
     "metadata": {
      "run_control": {
       "read_only": false
      }
     },
     "outputs": [
      {
       "output_type": "stream",
       "stream": "stdout",
       "text": [
        "SingleLetterAlphabet() alignment with 8 rows and 13379 columns\n",
        "------------AATATGGAAAGAATAAAAGAACTACGAAATCT...--- h1935\n",
        "--------------TATGGAAAGAATAAAAGAGCTAAGGAGTCT...--- h1978\n",
        "---------------ATGGAGAGAATAAAAGAACTGAGAGATCT...--- h2009\n",
        "---------------ATGGAGAGAATAAAAGAACTGAGAGATCT...TAC h2014\n",
        "TCAAATATATTCAATATGGAGAGAATAAAAGAACTAAGGGATCT...--- s1935\n",
        "TCAAATATATTCAATATGGAGAGAATAAAGGAACTAAGAAATCT...--- s1978\n",
        "---------------ATGGAGAGAATAAAAGAACTAAGAGATCT...--- s2009\n",
        "---------------ATGGAGAGAATAAAAGAACTGAGAGATCT...--- s2014\n"
       ]
      }
     ],
     "prompt_number": 7
    },
    {
     "cell_type": "code",
     "collapsed": false,
     "input": [
      "#collect ids and separate based on host (letter prefex preceding the year)\n",
      "all_ids = [alignment.id for alignment in all_aln]\n",
      "h_ids = all_ids[:4]\n",
      "s_ids = all_ids[4:]\n",
      "print all_ids,'\\n', h_ids, s_ids"
     ],
     "language": "python",
     "metadata": {
      "run_control": {
       "read_only": false
      }
     },
     "outputs": [
      {
       "output_type": "stream",
       "stream": "stdout",
       "text": [
        "['h1935', 'h1978', 'h2009', 'h2014', 's1935', 's1978', 's2009', 's2014'] \n",
        "['h1935', 'h1978', 'h2009', 'h2014'] ['s1935', 's1978', 's2009', 's2014']\n"
       ]
      }
     ],
     "prompt_number": 8
    },
    {
     "cell_type": "markdown",
     "metadata": {},
     "source": [
      "The cell below contains all the functions used to make the track diagrams seen in the Results section."
     ]
    },
    {
     "cell_type": "code",
     "collapsed": false,
     "input": [
      "def get_diff_locations(ref,compare):\n",
      "    \"\"\"\n",
      "    Takes 2 Biopython Seq objects of equal size (aligned).\n",
      "    Returns a list of locations at which base in compare sequence != base in ref sequence.\n",
      "    \"\"\"\n",
      "    if len(ref) != len(compare):\n",
      "        raise ValueError('Seqs are not the same length!')\n",
      "    \n",
      "    diff_locations = []\n",
      "    \n",
      "    for i in range(len(ref)):\n",
      "        if ref[i] != compare[i]:\n",
      "            diff_locations.append(i)\n",
      "        \n",
      "    return diff_locations\n",
      "\n",
      "\n",
      "def plot_tracks(track_diagram,path):\n",
      "    '''\n",
      "    Save track_diagram as pngs, then load them as images and display with matplotlib.\n",
      "    '''\n",
      "    \n",
      "    #Write each diagram to a png, then read it back in using Matplotlib\n",
      "    track_diagram.draw(format='linear', pagesize=(14*cm,7*cm), fragments=1,\n",
      "             start=0, end=13378)\n",
      "    #get extension from tracks path\n",
      "    root, ext = os.path.splitext(path)\n",
      "    if not ext:\n",
      "        ext = '.png'\n",
      "        tracks_path += ext\n",
      "\n",
      "    track_diagram.write(path, ext.strip('.'), dpi=600)\n",
      "    tracks_im = mpimg.imread(path)\n",
      "\n",
      "    #Plot each set of tracks\n",
      "    fig = plt.figure(figsize=(14,7),dpi=600)\n",
      "    ax = fig.add_axes([0.025,0.025,0.95,0.95],frameon=False)\n",
      "    plt.axis('off')\n",
      "    plt.imshow(tracks_im)\n",
      "    \n",
      "\n",
      "def setup_track_diagram(diagram_name, ids, length):\n",
      "    '''\n",
      "    Inits empty track diagram (with diagram_name as title), tracks, and feature sets for all ids.\n",
      "    Adds back ground color to each track (for contrast).\n",
      "    Returns tracks, features, and feature_sets.\n",
      "    '''\n",
      "    #Create Genome Diagram for human\n",
      "    track_diagram = GenomeDiagram.Diagram(diagram_name+' H1N1 Tracks Plot', tracklines = 0)\n",
      "    track = {}\n",
      "    feature_set = {}\n",
      "\n",
      "    #Generate tracks and feature sets for each year\n",
      "    track_count = 1\n",
      "    for i in ids: \n",
      "        track[i] = track_diagram.new_track(track_count, name=i, greytrack=False)#greytrack=True, \n",
      "                                                 #greytrack_labels=1, greytrack_fontcolor = colors.cornsilk,\n",
      "                                                 #greytrack_fontsize=15)\n",
      "        \n",
      "        feature_set[i] = track[i].new_set(name=i)\n",
      "        \n",
      "        #add contrast background\n",
      "        feature_set[i].add_feature(SeqFeature(FeatureLocation(0,length)), \n",
      "                                   label=True, label_angle=0, color=colors.cadetblue)\n",
      "        track_count += 1\n",
      "    return track_diagram, track, feature_set\n",
      "\n",
      "def add_features_year_compare(feature_set, diffs, hostspecies, base_year):\n",
      "    for k, features in feature_set.items():\n",
      "        year = k\n",
      "        if base_year == k:\n",
      "            #if the base year...\n",
      "            label = '%s: %s (reference)'%(hostspecies,year)\n",
      "\n",
      "        else:\n",
      "            \n",
      "            #name bg feature (which labels the track)\n",
      "            label ='%s: %s vs. %s --- %i differences'%(hostspecies, year, base_year, len(diffs[year]))\n",
      "            # For each difference recorded in diffs, add as a feature to feature_set\n",
      "            for i in diffs[k]:\n",
      "                feature = SeqFeature(FeatureLocation(i,i))\n",
      "                features.add_feature(feature, name=label, color=colors.aqua)\n",
      "                \n",
      "        # set the name of the first feature (the background feature) to label\n",
      "        # this is stupid, but I'm not sure how to do it better\n",
      "        features.get_features()[0].name = label \n",
      " \n",
      "        \n",
      "def compare_strains_by_host(diffs):\n",
      "    #Create Genome Diagram to compare human and swine in each year\n",
      "    diagram = GenomeDiagram.Diagram('Human vs. Swine H1N1 Tracks Plot')\n",
      "    tracks = {}\n",
      "    feature_set = {}\n",
      "    \n",
      "    for n,(k,v) in enumerate(diffs.iteritems(),1):\n",
      "        tracks[k] = diagram.new_track(n, greytrack=False)\n",
      "        feature_set[k] = tracks[k].new_set()\n",
      "        \n",
      "    return diagram, tracks, feature_set\n",
      "\n",
      "def add_features_host_compare(feature_set, diffs):\n",
      "    '''\n",
      "    Add features to feature_sets from diffs.\n",
      "    '''\n",
      "    for k,v in feature_set.iteritems():\n",
      "        feature_set[k].add_feature(SeqFeature(FeatureLocation(0,13378)), \n",
      "                                       name = 'Human vs. Swine: %s --- %i differences'%(k,len(diffs[k])), \n",
      "                                       label=True, label_angle=0, color=colors.cadetblue)\n",
      "        for i in diffs[k]:\n",
      "            feature = SeqFeature(FeatureLocation(i,i))\n",
      "            feature_set[k].add_feature(feature, color=colors.aqua)\n"
     ],
     "language": "python",
     "metadata": {
      "run_control": {
       "read_only": false
      }
     },
     "outputs": [],
     "prompt_number": 3
    },
    {
     "cell_type": "code",
     "collapsed": false,
     "input": [
      "# make comparisons in prep for track diagrams, \n",
      "# locate differences between alignments\n",
      "\n",
      "h_diffs = {} #for comparing between human strains across diff. years\n",
      "s_diffs = {} #for comparing between swine strains across diff. years\n",
      "h_s_diffs = {} #for comparing between host strains in the same year\n",
      "\n",
      "for i in range(len(years)):\n",
      "    year_i = years[i] \n",
      "    h_diffs[year_i]={}\n",
      "    s_diffs[year_i]={}\n",
      "    \n",
      "    for ii in range(len(years)):\n",
      "        year_ii = years[ii]\n",
      "        if i == ii:\n",
      "            #host comparisons\n",
      "            h_s_diffs[year_i] = get_diff_locations(all_aln[i].seq,all_aln[ii+4].seq)\n",
      "        else:\n",
      "            #year_i is the base_year (the reference year)\n",
      "            h_diffs[year_i][year_ii]=get_diff_locations(all_aln[i].seq,all_aln[ii].seq)\n",
      "            s_diffs[year_i][year_ii]=get_diff_locations(all_aln[i+4].seq,all_aln[ii+4].seq)\n"
     ],
     "language": "python",
     "metadata": {
      "run_control": {
       "read_only": false
      }
     },
     "outputs": []
    },
    {
     "cell_type": "markdown",
     "metadata": {},
     "source": [
      "Make cross-year comparisons between strains with the same host."
     ]
    },
    {
     "cell_type": "code",
     "collapsed": false,
     "input": [
      "# make by-year (same host) comparisons\n",
      "h_diagrams = {}\n",
      "s_diagrams = {}\n",
      "for base_year in h_diffs:\n",
      "    \n",
      "    #human\n",
      "    h_diagram, h_features, h_feature_set = setup_track_diagram(diagram_name='Human', \n",
      "                                                               ids = h_diffs[base_year].keys(),             \n",
      "                                                               length=all_aln.get_alignment_length())\n",
      "    \n",
      "    add_features_year_compare(feature_set = h_feature_set, diffs = h_diffs[base_year], \n",
      "                              hostspecies = 'Human',base_year = base_year)\n",
      "    h_diagrams[base_year] = h_diagram\n",
      "    \n",
      "    #swine\n",
      "    s_diagram, s_features, s_feature_set = setup_track_diagram(diagram_name='Swine', \n",
      "                                                               ids = s_diffs[base_year].keys(),\n",
      "                                                               length=all_aln.get_alignment_length())\n",
      "    \n",
      "    add_features_year_compare(feature_set = s_feature_set, diffs = s_diffs[base_year], \n",
      "                              hostspecies = 'Swine',base_year = base_year)\n",
      "    s_diagrams[base_year] = s_diagram"
     ],
     "language": "python",
     "metadata": {
      "run_control": {
       "read_only": false
      }
     },
     "outputs": []
    },
    {
     "cell_type": "markdown",
     "metadata": {},
     "source": [
      "Make cross-host comparisons between strains in the same year."
     ]
    },
    {
     "cell_type": "code",
     "collapsed": false,
     "input": [
      "# make cross-host (same year) comparisons\n",
      "diagram, tracks, feature_set = compare_strains_by_host(h_s_diffs)\n",
      "add_features_host_compare(feature_set, h_s_diffs)"
     ],
     "language": "python",
     "metadata": {
      "run_control": {
       "read_only": false
      }
     },
     "outputs": []
    },
    {
     "cell_type": "heading",
     "level": 2,
     "metadata": {},
     "source": [
      "Results"
     ]
    },
    {
     "cell_type": "heading",
     "level": 4,
     "metadata": {},
     "source": [
      "H1N1 sequence comparison in human or pig host from the years 1935, 1978, 2009, and 2014"
     ]
    },
    {
     "cell_type": "markdown",
     "metadata": {},
     "source": [
      "Using the 1935 sequence of H1N1 to compare any changes in the genome from the samples obtain in 1978, 2009, and 2014 from either human or pig host, we can see a clear increase in the number of sequence changes as time progresses. The sequence from 2014 has more differences than the sequence from 1978. Interestingly when comparing the 1978 sequence to the 1935 reference, the H1N1 strain collected in pig had more differences, 1206, than the same year sequence found in human, 850. Furthermore the 2009 sequence show a greater number of differences in sample found in human, 2274, than the sample found in pig, 1976. Lastly, both pig and human H1N1 strains had a similar number of changes in 2014, 2374 for human and 2247 for pig. These data shows that the H1N1 genome found in pig change more rapidly from 1978 to 2009, gaining 1846 differences. The highest number of changes happened between 1978 and 2009, the H1N1 virus found in human added 2323 changes. "
     ]
    },
    {
     "cell_type": "markdown",
     "metadata": {},
     "source": [
      "In the following track diagrams, brighter colors indicate differences from the reference strain."
     ]
    },
    {
     "cell_type": "heading",
     "level": 5,
     "metadata": {},
     "source": [
      "1935 as Reference Year"
     ]
    },
    {
     "cell_type": "code",
     "collapsed": false,
     "input": [
      "base_year = 1935\n",
      "plot_tracks(h_diagrams[base_year],'Humanstrain_compared_against_year_%d.png'%base_year)\n",
      "plot_tracks(s_diagrams[base_year],'Swinestrain_compared_against_year_%d.png'%base_year)"
     ],
     "language": "python",
     "metadata": {
      "run_control": {
       "read_only": false
      }
     },
     "outputs": []
    },
    {
     "cell_type": "heading",
     "level": 5,
     "metadata": {},
     "source": [
      "1978 as Reference Year"
     ]
    },
    {
     "cell_type": "code",
     "collapsed": false,
     "input": [
      "base_year = 1978\n",
      "plot_tracks(h_diagrams[base_year],'Humanstrain_compared_against_year_%d.png'%base_year)\n",
      "plot_tracks(s_diagrams[base_year],'Swinestrain_compared_against_year_%d.png'%base_year)"
     ],
     "language": "python",
     "metadata": {
      "run_control": {
       "read_only": false
      }
     },
     "outputs": []
    },
    {
     "cell_type": "heading",
     "level": 5,
     "metadata": {},
     "source": [
      "2009 as Reference Year"
     ]
    },
    {
     "cell_type": "code",
     "collapsed": false,
     "input": [
      "base_year = 2009\n",
      "plot_tracks(h_diagrams[base_year],'Humanstrain_compared_against_year_%d.png'%base_year)\n",
      "plot_tracks(s_diagrams[base_year],'Swinestrain_compared_against_year_%d.png'%base_year)"
     ],
     "language": "python",
     "metadata": {
      "run_control": {
       "read_only": false
      }
     },
     "outputs": []
    },
    {
     "cell_type": "heading",
     "level": 5,
     "metadata": {},
     "source": [
      "2014 as Reference Year"
     ]
    },
    {
     "cell_type": "code",
     "collapsed": false,
     "input": [
      "base_year = 2014\n",
      "plot_tracks(h_diagrams[base_year],'Humanstrain_compared_against_year_%d.png'%base_year)\n",
      "plot_tracks(s_diagrams[base_year],'Swinestrain_compared_against_year_%d.png'%base_year)"
     ],
     "language": "python",
     "metadata": {
      "run_control": {
       "read_only": false
      }
     },
     "outputs": []
    },
    {
     "cell_type": "heading",
     "level": 4,
     "metadata": {},
     "source": [
      "H1N1 sequence comparison between hosts from the same year"
     ]
    },
    {
     "cell_type": "markdown",
     "metadata": {},
     "source": [
      "When comparing the same year sequence of H1N1 between the two hosts, we find that the genomes from 1935 have 1349 differences, in 1978, the differences are 2004, and in 2009, there are 1112 changes. Surprisingly in 2014, the differences between the H1N1 genome found in human and pig is only 136. This could suggest that the 2014 H1N1 found in humans and pigs is more closely related than the strains found in 1935, 1978, or 2009. "
     ]
    },
    {
     "cell_type": "code",
     "collapsed": false,
     "input": [
      "plot_tracks(diagram, 'host_compare.png')"
     ],
     "language": "python",
     "metadata": {
      "run_control": {
       "read_only": false
      }
     },
     "outputs": []
    },
    {
     "cell_type": "heading",
     "level": 4,
     "metadata": {},
     "source": [
      "Changes in sequences over time"
     ]
    },
    {
     "cell_type": "markdown",
     "metadata": {},
     "source": [
      "Plotting the differences in genome over time we can see that H1N1 changed faster in pig between 1935 and 1978, and then we see a decrease in the rate between 1978 and 2004. Finally we see an increase in the rate of change between 2009 and 2014. In humans we see a different pattern, the highest rate of change in the H1N1 genome in a human host happened between 1978 and 2009, with a slow rate between 1935 and 1978, and the slowest rate of change happening between 2009 and 2014 when only 100 changes occurred. "
     ]
    },
    {
     "cell_type": "code",
     "collapsed": false,
     "input": [
      "years = [1935,1978,2009,2014]\n",
      "\n",
      "diffs = {}\n",
      "\n",
      "for i in range(len(years)):\n",
      "    for ii in range(len(years)):\n",
      "        diffs['h_%i_%i'% (years[i],years[ii])] = get_diff_locations(all_aln[i].seq,all_aln[ii].seq)\n",
      "        diffs['s_%i_%i'% (years[i],years[ii])] = get_diff_locations(all_aln[i+4].seq,all_aln[ii+4].seq)\n",
      "        diffs['h_%i_s_%i'% (years[i],years[ii])] = get_diff_locations(all_aln[i].seq,all_aln[ii+4].seq)"
     ],
     "language": "python",
     "metadata": {
      "run_control": {
       "read_only": false
      }
     },
     "outputs": [],
     "prompt_number": 9
    },
    {
     "cell_type": "code",
     "collapsed": false,
     "input": [
      "#Plot differences vs. 1935 over time\n",
      "\n",
      "years = [1935,1978,2009,2014]\n",
      "\n",
      "#Lists of human and siwne diff lengths vs. 1935\n",
      "hdl = [len(diffs['h_1935_%i'%years[i]]) for i in range(len(years))]\n",
      "sdl = [len(diffs['s_1935_%i'%years[i]]) for i in range(len(years))]\n",
      "\n",
      "fig_diffs_over_time = plt.figure(figsize=(6,4), dpi=600);\n",
      "ax_diffs_over_time = fig_diffs_over_time.add_axes([0.025,0.025,0.95,0.95])\n",
      "\n",
      "hline = plt.plot(years,hdl, 'bo-', label='Human Viruses')\n",
      "sline = plt.plot(years,sdl, 'g^-', label='Swine Viruses')\n",
      "\n",
      "ax_diffs_over_time.set_xlabel('Year')\n",
      "ax_diffs_over_time.set_ylabel('Differences vs. 1935')\n",
      "\n",
      "plt.legend(loc='best');"
     ],
     "language": "python",
     "metadata": {
      "run_control": {
       "read_only": false
      }
     },
     "outputs": [
      {
       "metadata": {},
       "output_type": "display_data",
       "png": "[encoded data removed]",
       "text": [
        "<matplotlib.figure.Figure at 0x10a1cef50>"
       ]
      }
     ],
     "prompt_number": 10
    },
    {
     "cell_type": "code",
     "collapsed": false,
     "input": [
      "#Plot differences vs. 1935 as a percentage of total genome length over time\n",
      "\n",
      "years = [1935,1978,2009,2014]\n",
      "\n",
      "#Lists of human and siwne diff lengths vs. 1935 as a percentage of total genome length\n",
      "hdl_percent = [i*100./13378. for i in hdl]\n",
      "sdl_percent = [i*100./13378. for i in sdl]\n",
      "\n",
      "fig_diffs_over_time2 = plt.figure(figsize=(6,4), dpi=600);\n",
      "ax_diffs_over_time2 = fig_diffs_over_time2.add_axes([0.025,0.025,0.95,0.95])\n",
      "\n",
      "hline2 = plt.plot(years,hdl_percent, 'bo-', label='Human Viruses')\n",
      "sline2 = plt.plot(years,sdl_percent, 'g^-', label='Swine Viruses')\n",
      "\n",
      "ax_diffs_over_time2.set_xlabel('Year')\n",
      "ax_diffs_over_time2.set_ylabel('% Change Since 1935')\n",
      "\n",
      "plt.legend(loc='best');"
     ],
     "language": "python",
     "metadata": {
      "run_control": {
       "read_only": false
      }
     },
     "outputs": []
    },
    {
     "cell_type": "heading",
     "level": 2,
     "metadata": {},
     "source": [
      "Phylogenetic Trees"
     ]
    },
    {
     "cell_type": "markdown",
     "metadata": {},
     "source": [
      "The phylogenetic trees for the aligned strains provide another way to quantify differences between strains. Phylogenetic Trees were created by Clustal during the alignment process. The distance values between nodes calculated by Clustal during alignment equal the 'number of substitutions as a proportion of the length of the alignment (excluding gaps)' (http://www.ebi.ac.uk/Tools/phylogeny/clustalw2_phylogeny/help/faq.html). This distance value provides another metric by which we can compare strains. In the phylogenetic trees below, strains are labels by the first letter of the host species, followed by the year."
     ]
    },
    {
     "cell_type": "code",
     "collapsed": false,
     "input": [
      "tree = Phylo.read('all_seq.dnd',\"newick\")\n",
      "human_tree = Phylo.read('all_human.dnd',\"newick\")\n",
      "swine_tree = Phylo.read('all_swine.dnd',\"newick\")\n",
      "Phylo.draw(tree)\n",
      "Phylo.draw(human_tree)\n",
      "Phylo.draw(swine_tree)"
     ],
     "language": "python",
     "metadata": {
      "run_control": {
       "read_only": false
      }
     },
     "outputs": [
      {
       "metadata": {},
       "output_type": "display_data",
       "png": "[encoded data removed]",
       "text": [
        "<matplotlib.figure.Figure at 0x10a76cfd0>"
       ]
      },
      {
       "metadata": {},
       "output_type": "display_data",
       "png": "[encoded data removed]",
       "text": [
        "<matplotlib.figure.Figure at 0x10a897490>"
       ]
      },
      {
       "metadata": {},
       "output_type": "display_data",
       "png": "[encoded data removed]",
       "text": [
        "<matplotlib.figure.Figure at 0x10a52bd10>"
       ]
      }
     ],
     "prompt_number": 23
    },
    {
     "cell_type": "code",
     "collapsed": false,
     "input": [
      "import itertools\n",
      "import numpy as np\n",
      "def terminal_dists(self):\n",
      "    \"\"\"Return a list of distances between all terminals.\"\"\"\n",
      "    def generate_pairs(self):\n",
      "        named_clades=[i for i in self.find_clades(terminal=True)]\n",
      "        s = itertools.combinations(named_clades,2)\n",
      "        return list(s)\n",
      "    return {(i[0].name,i[1].name): self.distance(*i) for i in generate_pairs(self)}\n",
      "\n",
      "def compare_terminals_to_base_element(tree, base_element_name):\n",
      "    \"\"\"Return a list of distances between all terminals and specified base element\"\"\"\n",
      "    base_elem = tree.find_elements(name=base_element_name)\n",
      "    be = next(base_elem)\n",
      "    terminals = tree.get_terminals()\n",
      "    \n",
      "    y_list,d_list = [],[]\n",
      "    for i in terminals:\n",
      "        if i != be:\n",
      "            y_list.append(i.name)\n",
      "            d_list.append(tree.distance(be,i))\n",
      "            \n",
      "    return y_list, d_list\n",
      "\n",
      "sd = terminal_dists(swine_tree)\n",
      "hd = terminal_dists(human_tree)\n",
      "yh,dh = compare_terminals_to_base_element(human_tree,'h1935')\n",
      "ys,ds = compare_terminals_to_base_element(swine_tree,'s1935')"
     ],
     "language": "python",
     "metadata": {
      "run_control": {
       "read_only": false
      }
     },
     "outputs": [],
     "prompt_number": 25
    },
    {
     "cell_type": "markdown",
     "metadata": {},
     "source": [
      "We compare the inter-year distances (multiplied by 100 for visualization purposes) between terminals of a single-host phylogeny tree from a base year (1935) to every other year. We can see the same trend."
     ]
    },
    {
     "cell_type": "code",
     "collapsed": false,
     "input": [
      "#data for barchart\n",
      "data = zip(np.array(dh)*100,np.array(ds)*100) #note that the distances have been multiplied by 100\n",
      "std = [[0 for ii in i]for i in data]\n",
      "group_labels = ['human','swine']\n",
      "years = [i[1:] for i in ys]\n",
      "\n",
      "#make barchart\n",
      "multigroup_barchart.bar_chart(data,std,years,group_labels)\n",
      "plt.legend(loc=2)\n",
      "plt.title('Group by host')\n",
      "plt.show()"
     ],
     "language": "python",
     "metadata": {
      "run_control": {
       "read_only": false
      }
     },
     "outputs": [
      {
       "metadata": {},
       "output_type": "display_data",
       "png": "[encoded data removed]",
       "text": [
        "<matplotlib.figure.Figure at 0x10af49650>"
       ]
      }
     ],
     "prompt_number": 28
    },
    {
     "cell_type": "code",
     "collapsed": false,
     "input": [
      "#data for barchart\n",
      "data = [np.array(dh)*100,np.array(ds)*100]\n",
      "std = [np.zeros(len(i)) for i in data]\n",
      "group_labels = ['human','swine']\n",
      "years = [i[1:] for i in ys]\n",
      "\n",
      "#make barchart\n",
      "multigroup_barchart.bar_chart(data,std,group_labels,years)\n",
      "plt.legend(loc=2)\n",
      "plt.title('Group by year')\n",
      "plt.show()"
     ],
     "language": "python",
     "metadata": {
      "run_control": {
       "read_only": false
      }
     },
     "outputs": [
      {
       "metadata": {},
       "output_type": "display_data",
       "png": "[encoded data removed]",
       "text": [
        "<matplotlib.figure.Figure at 0x10af3e990>"
       ]
      }
     ],
     "prompt_number": 27
    },
    {
     "cell_type": "code",
     "collapsed": false,
     "input": [
      "import pandas as pd\n",
      "\n",
      "def df_from_2_key_dict(twokey_dict):\n",
      "    '''\n",
      "    create a data frame showing distances between all the years.\n",
      "    This dataframe can be passed to the heatmap function\n",
      "    '''\n",
      "    temp ={}\n",
      "    for k,v in twokey_dict.iteritems():\n",
      "        #v is row value, k is row label\n",
      "        k1 = k[0]\n",
      "        k2 = k[1]\n",
      "        try:\n",
      "            #append to current sub-dict\n",
      "            temp[k1][k2] = v\n",
      "        except:\n",
      "            #start new sub-dict\n",
      "            temp[k1] = {}\n",
      "            temp[k1][k2] = v\n",
      "\n",
      "    return pd.DataFrame.from_dict(temp)\n",
      "\n",
      "#heatmap annotation function (annotates each cell in heatmap)\n",
      "mod_annotate = lambda x: heatmap.show_values(x,fmt=\"%.5f\")"
     ],
     "language": "python",
     "metadata": {
      "run_control": {
       "read_only": false
      }
     },
     "outputs": [],
     "prompt_number": 29
    },
    {
     "cell_type": "markdown",
     "metadata": {},
     "source": [
      "In the heatmaps below, zeroed cells indicate where no comparisons were made or comparisons would be redundant. Both heatmaps have the same color scale and can be directly compared."
     ]
    },
    {
     "cell_type": "code",
     "collapsed": false,
     "input": [
      "#Swine\n",
      "compare = df_from_2_key_dict(sd).fillna(0)\n",
      "heatmap.heatmap_from_dataframe(compare, annotate_function=mod_annotate,vmin_vmax=(0,0.175))\n",
      "plt.title('Distance between each node (year) of the Phylogenetic Tree for swine strains')\n",
      "\n",
      "plt.show()"
     ],
     "language": "python",
     "metadata": {
      "run_control": {
       "read_only": false
      }
     },
     "outputs": [
      {
       "metadata": {},
       "output_type": "display_data",
       "png": "[encoded data removed]",
       "text": [
        "<matplotlib.figure.Figure at 0x10ab40c90>"
       ]
      }
     ],
     "prompt_number": 32
    },
    {
     "cell_type": "code",
     "collapsed": false,
     "input": [
      "#Human\n",
      "compare = df_from_2_key_dict(hd).fillna(0)\n",
      "plot,bar = heatmap.heatmap_from_dataframe(compare, annotate_function=mod_annotate,vmin_vmax=(0,0.175))\n",
      "plt.title('Distance between each node (year) of the Phylogenetic Tree for human strains')\n",
      "plt.show()"
     ],
     "language": "python",
     "metadata": {
      "run_control": {
       "read_only": false
      }
     },
     "outputs": [
      {
       "metadata": {},
       "output_type": "display_data",
       "png": "[encoded data removed]",
       "text": [
        "<matplotlib.figure.Figure at 0x10a546f50>"
       ]
      }
     ],
     "prompt_number": 31
    },
    {
     "cell_type": "heading",
     "level": 2,
     "metadata": {},
     "source": [
      "Conclusions"
     ]
    },
    {
     "cell_type": "markdown",
     "metadata": {},
     "source": [
      "The rate of change of the influenza A virus is different between humans and swine, but the rate is not constant within the host. At different years the rate of change for IAV was faster in pigs, from 1935 to 1978, having 1206 changes compared to 850 changes for IAV found in humans in the same years. Nonetheless difference rates are not always higher for IAV in swine, in the year 1978 to 2009 the IAV had 2323 changes in humans compared to 1846 differences found in swine. The differences in rate of change in IAV sequences found in swine might be explained by the changes in modern pig farming. The housing of pigs from out door pens to multi-level closed infrastructure and the increase in animals farmed at any one time have contributed to the increase potential of transmitting IAV among the farmed pigs {Looker:2003}. By increasing the number of hosts available in a single IAV infection, the number of changes increases therefore increasing the rate in which the IAV sequence changes."
     ]
    },
    {
     "cell_type": "heading",
     "level": 2,
     "metadata": {},
     "source": [
      "References "
     ]
    },
    {
     "cell_type": "markdown",
     "metadata": {},
     "source": [
      "Goka, E. A., Vallely, P. J., Mutton, K. J. & Klapper, P. E. (2014). Mutations associated with severity of the pandemic influenza A(H1N1)pdm09 in humans: a systematic review and meta-analysis of epidemiological evidence. Arch Virol 159, 3167\u20133183.\n",
      "\n",
      "Nelson, M. I. & Vincent, A. L. (2015). Reverse zoonosis of influenza to swine: new perspectives on the human\u2013animal interface. Trends Microbiol 23, 142\u2013153. Elsevier Ltd.\n",
      "\n",
      "Urbaniak, K. & Markowska-Daniel, I. (2014). In vivo reassortment of influenza viruses. Acta Biochim Pol 61, 427\u2013431.\n",
      "\n",
      "Webster, R. G. & Govorkova, E. A. (2014). Continuing challenges in influenza. Ann N Y Acad Sci 1323, 115\u2013139 (K. Bush, Ed.)."
     ]
    }
   ],
   "metadata": {}
  }
 ]
}