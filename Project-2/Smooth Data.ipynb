{
 "cells": [
  {
   "cell_type": "markdown",
   "metadata": {},
   "source": [
    "#Smooth Data"
   ]
  },
  {
   "cell_type": "code",
   "execution_count": 45,
   "metadata": {
    "collapsed": false
   },
   "outputs": [
    {
     "data": {
      "text/html": [
       "<div style=\"max-height:1000px;max-width:1500px;overflow:auto;\">\n",
       "<table border=\"1\" class=\"dataframe\">\n",
       "  <thead>\n",
       "    <tr style=\"text-align: right;\">\n",
       "      <th></th>\n",
       "      <th>1</th>\n",
       "      <th>2</th>\n",
       "    </tr>\n",
       "    <tr>\n",
       "      <th>0</th>\n",
       "      <th></th>\n",
       "      <th></th>\n",
       "    </tr>\n",
       "  </thead>\n",
       "  <tbody>\n",
       "    <tr>\n",
       "      <th>0.000</th>\n",
       "      <td>4.725</td>\n",
       "      <td>4.775</td>\n",
       "    </tr>\n",
       "    <tr>\n",
       "      <th>0.004</th>\n",
       "      <td>4.735</td>\n",
       "      <td>4.745</td>\n",
       "    </tr>\n",
       "    <tr>\n",
       "      <th>0.008</th>\n",
       "      <td>4.725</td>\n",
       "      <td>4.735</td>\n",
       "    </tr>\n",
       "    <tr>\n",
       "      <th>0.012</th>\n",
       "      <td>4.715</td>\n",
       "      <td>4.745</td>\n",
       "    </tr>\n",
       "    <tr>\n",
       "      <th>0.016</th>\n",
       "      <td>4.720</td>\n",
       "      <td>4.735</td>\n",
       "    </tr>\n",
       "  </tbody>\n",
       "</table>\n",
       "</div>"
      ],
      "text/plain": [
       "           1      2\n",
       "0                  \n",
       "0.000  4.725  4.775\n",
       "0.004  4.735  4.745\n",
       "0.008  4.725  4.735\n",
       "0.012  4.715  4.745\n",
       "0.016  4.720  4.735"
      ]
     },
     "execution_count": 45,
     "metadata": {},
     "output_type": "execute_result"
    }
   ],
   "source": [
    "import pandas as pd\n",
    "\n",
    "file_path = \"./Physionet_ECGs/sel_100_tabsep.csv\"\n",
    "data = pd.read_csv(file_path, sep = '\\t', index_col= 0, header=None)\n",
    "data.head()"
   ]
  },
  {
   "cell_type": "markdown",
   "metadata": {},
   "source": [
    "Select the column you want to smooth"
   ]
  },
  {
   "cell_type": "code",
   "execution_count": 110,
   "metadata": {
    "collapsed": false
   },
   "outputs": [
    {
     "data": {
      "text/plain": [
       "Float64Index([    0.0,   0.004,   0.008,   0.012,   0.016,    0.02,   0.024,\n",
       "                0.028,   0.032,   0.036, \n",
       "              ...\n",
       "               899.96, 899.964, 899.968, 899.972, 899.976,  899.98, 899.984,\n",
       "              899.988, 899.992, 899.996],\n",
       "             dtype='float64', name=0, length=225000)"
      ]
     },
     "execution_count": 110,
     "metadata": {},
     "output_type": "execute_result"
    }
   ],
   "source": [
    "import numpy as np\n",
    "import matplotlib.pyplot as plt\n",
    "col = 2 #choose 1 or 2\n",
    "values = data[col].values\n",
    "times = data[col].index"
   ]
  },
  {
   "cell_type": "markdown",
   "metadata": {},
   "source": [
    "##Smooth Data With Fast Fourier Transform"
   ]
  },
  {
   "cell_type": "markdown",
   "metadata": {},
   "source": [
    "Fast Fourier Transform and plot the data"
   ]
  },
  {
   "cell_type": "code",
   "execution_count": 95,
   "metadata": {
    "collapsed": false
   },
   "outputs": [],
   "source": [
    "from numpy import fft\n",
    "signal = np.array(values)\n",
    "transformed = fft.fft(signal)\n",
    "real = transformed.real\n",
    "plt.plot(range(len(real)),real)\n",
    "plt.ylim(1000,-1000)\n",
    "plt.show()"
   ]
  },
  {
   "cell_type": "code",
   "execution_count": 117,
   "metadata": {
    "collapsed": false
   },
   "outputs": [
    {
     "name": "stdout",
     "output_type": "stream",
     "text": [
      "[  1.23266034e+12   3.77145727e+06   2.14703001e+06 ...,   2.09865291e+06\n",
      "   2.14703001e+06   3.77145727e+06]\n"
     ]
    }
   ],
   "source": [
    "ps = np.abs(transformed)**2\n",
    "timestep = times[1]-times[0]\n",
    "freqs = np.fft.fftfreq(signal.size,timestep)\n",
    "idx = np.argsort(freqs)\n",
    "print ps\n",
    "plt.plot(freqs[idx], ps[idx])\n",
    "#plt.plot(freqs, real)\n",
    "plt.show()"
   ]
  },
  {
   "cell_type": "code",
   "execution_count": 135,
   "metadata": {
    "collapsed": false
   },
   "outputs": [
    {
     "name": "stdout",
     "output_type": "stream",
     "text": [
      "1000\n"
     ]
    }
   ],
   "source": [
    "#from glowing-python: http://glowingpython.blogspot.com/2011/08/how-to-plot-frequency-spectrum-with.html\n",
    "from numpy import sin, linspace, pi\n",
    "from pylab import plot, show, title, xlabel, ylabel, subplot\n",
    "from scipy import fft, arange\n",
    "\n",
    "def plotSpectrum(y,Fs=None):\n",
    "    \"\"\"\n",
    "    Plots a Single-Sided Amplitude Spectrum of y(t)\n",
    "    calcs the sampling rate from the first two elements of the array.\n",
    "    \"\"\"\n",
    "    \n",
    "    Fs = Fs or 1/(signal[1]-signal[0]) #sampling rate\n",
    "    n = int(len(y)) # length of the signal\n",
    "    print n\n",
    "    k = arange(n)\n",
    "    T = n/Fs\n",
    "    frq = k/T # two sides frequency range\n",
    "    frq = frq[range(int(n/2))] # one side frequency range\n",
    "\n",
    "    Y = fft(y)/n # fft computing and normalization\n",
    "    Y = Y[range(int(n/2))]\n",
    "\n",
    "    plot(frq,abs(Y),'r') # plotting the spectrum\n",
    "    xlabel('Freq (Hz)')\n",
    "    ylabel('|Y(freq)|')\n",
    "\n",
    "#subplot(2,1,1)\n",
    "#plot(times,signal)\n",
    "#xlabel('Time')\n",
    "#ylabel('Amplitude')\n",
    "plotSpectrum(signal[0:1000],Fs)\n",
    "plt.ylim(0,.03)\n",
    "show()"
   ]
  },
  {
   "cell_type": "markdown",
   "metadata": {},
   "source": [
    "Mask the noise in the FFT'ed data and plot the signal with the mask"
   ]
  },
  {
   "cell_type": "code",
   "execution_count": 58,
   "metadata": {
    "collapsed": true
   },
   "outputs": [],
   "source": [
    "def mask_fft(transformed, masks=[(54000,171000)], ylims=(1000,-1000)):\n",
    "    '''\n",
    "    The default settings work well for column 1\n",
    "    '''\n",
    "    masked = transformed\n",
    "    for i in masks:\n",
    "        mask_min = i[0]\n",
    "        mask_max = i[1]\n",
    "        masked[mask_min:mask_max] = 0 + 0j\n",
    "    real2 = transformed.real\n",
    "    plt.plot(range(len(real2)),real2)\n",
    "    plt.ylim(*ylims)\n",
    "    return masked\n",
    "masked = mask_fft(transformed, [(40000,190000)])\n",
    "plt.gca()\n",
    "plt.show()"
   ]
  },
  {
   "cell_type": "markdown",
   "metadata": {},
   "source": [
    "reverse FFT the signal and plot the smoothed data"
   ]
  },
  {
   "cell_type": "code",
   "execution_count": 55,
   "metadata": {
    "collapsed": false
   },
   "outputs": [],
   "source": [
    "ifft = fft.ifft(transformed)\n",
    "plt.plot(times, ifft.real, \"r\", label = 'transformed')\n",
    "plt.plot(times, signal, 'b', label=\"original\")\n",
    "plt.legend()\n",
    "plt.xlim(0,1000)\n",
    "plt.show()"
   ]
  },
  {
   "cell_type": "markdown",
   "metadata": {},
   "source": [
    "Save!"
   ]
  },
  {
   "cell_type": "code",
   "execution_count": null,
   "metadata": {
    "collapsed": true
   },
   "outputs": [],
   "source": []
  },
  {
   "cell_type": "markdown",
   "metadata": {},
   "source": [
    "##Working in R"
   ]
  },
  {
   "cell_type": "code",
   "execution_count": 6,
   "metadata": {
    "collapsed": false
   },
   "outputs": [
    {
     "name": "stderr",
     "output_type": "stream",
     "text": [
      "/Users/morganfine-morris/anaconda/lib/python2.7/site-packages/IPython/extensions/rmagic.py:693: UserWarning: The rmagic extension in IPython is deprecated in favour of rpy2.ipython. If available, that will be loaded instead.\n",
      "http://rpy.sourceforge.net/\n",
      "  warnings.warn(\"The rmagic extension in IPython is deprecated in favour of \"\n"
     ]
    }
   ],
   "source": [
    "%load_ext rmagic  "
   ]
  },
  {
   "cell_type": "code",
   "execution_count": 70,
   "metadata": {
    "collapsed": false
   },
   "outputs": [
    {
     "data": {
      "image/png": "[encoded data removed]"
     },
     "metadata": {},
     "output_type": "display_data"
    }
   ],
   "source": [
    "%%R -i values -o values_spect\n",
    "values_spect = spectrum(values)\n",
    "\n",
    "#print(summary(values_spect))\n"
   ]
  },
  {
   "cell_type": "code",
   "execution_count": 94,
   "metadata": {
    "collapsed": false
   },
   "outputs": [
    {
     "name": "stdout",
     "output_type": "stream",
     "text": [
      " [1] \"freq\"      \"spec\"      \"coh\"       \"phase\"     \"kernel\"    \"df\"       \n",
      " [7] \"bandwidth\" \"n.used\"    \"orig.n\"    \"series\"    \"snames\"    \"method\"   \n",
      "[13] \"taper\"     \"pad\"       \"detrend\"   \"demean\"   \n",
      "\n",
      "('freq', <FloatVector - Python:0x1146cdcf8 / R:0x114249000>\n",
      "[0.000004, 0.000009, 0.000013, ..., 0.499991, 0.499996, 0.500000])\n",
      "\n",
      "('spec', <FloatVector - Python:0x1146cd320 / R:0x115245000>\n",
      "[3.928853, 1.672682, 1.579693, ..., 0.000074, 0.000108, 0.000003])\n",
      "\n",
      "('coh', rpy2.rinterface.NULL)\n",
      "\n",
      "('phase', rpy2.rinterface.NULL)\n",
      "\n",
      "('kernel', rpy2.rinterface.NULL)\n",
      "\n",
      "('df', <FloatVector - Python:0x1146cd758 / R:0x113928d08>\n",
      "[1.791590])\n",
      "\n",
      "('bandwidth', <FloatVector - Python:0x1146cdc68 / R:0x113928cd8>\n",
      "[0.000001])\n",
      "\n",
      "('n.used', <IntVector - Python:0x1146cdd40 / R:0x113c968b8>\n",
      "[  225000])\n",
      "\n",
      "('orig.n', <IntVector - Python:0x108de4878 / R:0x113906e58>\n",
      "[  225000])\n",
      "\n",
      "('series', <StrVector - Python:0x108de45f0 / R:0x11390a628>\n",
      "[str])\n",
      "\n",
      "('snames', rpy2.rinterface.NULL)\n",
      "\n",
      "('method', <StrVector - Python:0x108de4fc8 / R:0x113ca1a98>\n",
      "[str])\n",
      "\n",
      "('taper', <FloatVector - Python:0x108de4cb0 / R:0x113cd7ed8>\n",
      "[0.100000])\n",
      "\n",
      "('pad', <FloatVector - Python:0x108de4950 / R:0x113cd7ff8>\n",
      "[0.000000])\n",
      "\n",
      "('detrend', <Vector - Python:0x108de4128 / R:0x113cd8358>\n",
      "[       1])\n",
      "\n",
      "('demean', <Vector - Python:0x108de4b48 / R:0x113cd8238>\n",
      "[       0])\n",
      "\n"
     ]
    }
   ],
   "source": [
    "print values_spect.names\n",
    "for i in values_spect.items():\n",
    "    print i\n",
    "    print"
   ]
  },
  {
   "cell_type": "markdown",
   "metadata": {},
   "source": [
    "###Savitzky-Golay"
   ]
  },
  {
   "cell_type": "code",
   "execution_count": 38,
   "metadata": {
    "collapsed": true
   },
   "outputs": [],
   "source": [
    "values = ifft"
   ]
  },
  {
   "cell_type": "code",
   "execution_count": 39,
   "metadata": {
    "collapsed": false
   },
   "outputs": [],
   "source": [
    "%%R -i values -o sg_smoothed\n",
    "sg5 = c(-3, 12, 17, 12, -3)/35\n",
    "sg_smoothed = filter(values,sg5)"
   ]
  },
  {
   "cell_type": "code",
   "execution_count": 40,
   "metadata": {
    "collapsed": false
   },
   "outputs": [
    {
     "name": "stderr",
     "output_type": "stream",
     "text": [
      "/Users/morganfine-morris/anaconda/lib/python2.7/site-packages/numpy/core/numeric.py:462: ComplexWarning: Casting complex values to real discards the imaginary part\n",
      "  return array(a, dtype, copy=False, order=order)\n"
     ]
    }
   ],
   "source": [
    "df_sg = pd.DataFrame(data = np.array(sg_smoothed), index = times, columns=[col]).dropna()\n",
    "plt.plot(df_sg.index, df_sg.values, lw=2)\n",
    "plt.plot(times, values, 'r', lw=1)\n",
    "#plt.plot(times,ifft.real,\"g\", lw=1)\n",
    "plt.show()"
   ]
  },
  {
   "cell_type": "markdown",
   "metadata": {},
   "source": [
    "##Moving Average"
   ]
  },
  {
   "cell_type": "code",
   "execution_count": 41,
   "metadata": {
    "collapsed": false
   },
   "outputs": [
    {
     "data": {
      "text/plain": [
       "  [1]       NA       NA 4.755170 4.735266 4.728668 4.725531 4.720334 4.713546\n",
       "  [9] 4.707950 4.704606 4.702447 4.700526 4.699285 4.699606 4.701676 4.705418\n",
       " [17] 4.711531 4.721254 4.734957 4.751331 4.768145 4.783608 4.797020 4.808519\n",
       " [25] 4.818550 4.827453 4.835248 4.841739 4.846934 4.851298 4.855391 4.859189\n",
       " [33] 4.861916 4.862654 4.861105 4.857816 4.853961 4.851015 4.850307 4.852278\n",
       " [41] 4.855917 4.859127 4.860060 4.858335 4.855105 4.852009 4.850026 4.849107\n",
       " [49] 4.848616 4.848044 4.847371 4.846828 4.846323 4.845224 4.842856 4.839267\n",
       " [57] 4.835363 4.832152 4.829865 4.827860 4.825327 4.822015 4.818392 4.815303\n",
       " [65] 4.813471 4.813099 4.813739 4.814554 4.814819 4.814253 4.812997 4.811458\n",
       " [73] 4.810245 4.809968 4.810736 4.811838 4.812257 4.811685 4.810891 4.810909\n",
       " [81] 4.811982 4.813459 4.814537 4.814773 4.813980 4.812149 4.809764 4.807836\n",
       " [89] 4.807157 4.807560 4.808241 4.808813 4.809689 4.811388 4.813901 4.817053\n",
       " [97] 4.821143 4.826710 4.833617 4.840720\n"
      ]
     },
     "metadata": {},
     "output_type": "display_data"
    }
   ],
   "source": [
    "%%R -i values -o smoothed\n",
    "ma5 = c(1, 1, 1, 1, 1)/5;\n",
    "smoothed =filter(values,ma5)\n",
    "print(smoothed[0:100])"
   ]
  },
  {
   "cell_type": "code",
   "execution_count": 44,
   "metadata": {
    "collapsed": false
   },
   "outputs": [],
   "source": [
    "df = pd.DataFrame(data = np.array(smoothed), index = times, columns=[col])\n",
    "df_clean = df.dropna()\n",
    "plt.plot(df_clean.index, df_clean.values, lw=3, label=\"ifft MA Smoothed\")\n",
    "plt.plot(times, values, 'r', lw=2, label=\"original\")\n",
    "plt.plot(times,ifft.real,\"g\", lw=1, label=\"ifft\")\n",
    "plt.legend()\n",
    "plt.show()"
   ]
  },
  {
   "cell_type": "code",
   "execution_count": 9,
   "metadata": {
    "collapsed": false
   },
   "outputs": [
    {
     "data": {
      "text/plain": [
       "(224996, 224996)"
      ]
     },
     "execution_count": 9,
     "metadata": {},
     "output_type": "execute_result"
    }
   ],
   "source": [
    "len(df_clean.values), len(df_clean.index)"
   ]
  },
  {
   "cell_type": "code",
   "execution_count": 10,
   "metadata": {
    "collapsed": false
   },
   "outputs": [],
   "source": [
    "df_clean.to_csv('./Physionet_ECGs/sel_100_tabsep_mvsmooth.csv', header=False, sep=\"\\t\")"
   ]
  },
  {
   "cell_type": "code",
   "execution_count": null,
   "metadata": {
    "collapsed": false
   },
   "outputs": [],
   "source": [
    "def calc_slopes(X, Y):\n",
    "    dY = (np.roll(Y, -1, axis=1) - Y)[:-1]\n",
    "    dX = (np.roll(X, -1, axis=0) - X)[:-1]\n",
    "\n",
    "    slopes = dY/dX\n",
    "    return slopes\n",
    "    \n",
    "calc_slopes(df_clean.index, df_clean.values)"
   ]
  },
  {
   "cell_type": "code",
   "execution_count": 62,
   "metadata": {
    "collapsed": true
   },
   "outputs": [],
   "source": [
    "import numpy as np\n",
    "import matplotlib.pyplot as plt\n",
    "from matplotlib.widgets import RadioButtons\n",
    "\n",
    "t = np.arange(0.0, 2.0, 0.01)\n",
    "s0 = np.sin(2*np.pi*t)\n",
    "s1 = np.sin(4*np.pi*t)\n",
    "s2 = np.sin(8*np.pi*t)\n",
    "\n",
    "fig, ax = plt.subplots()\n",
    "l, = ax.plot(t, s0, lw=2, color='red')\n",
    "plt.subplots_adjust(left=0.3)\n",
    "\n",
    "axcolor = 'lightgoldenrodyellow'\n",
    "rax = plt.axes([0.05, 0.7, 0.15, 0.15], axisbg=axcolor)\n",
    "radio = RadioButtons(rax, ('2 Hz', '4 Hz', '8 Hz'))\n",
    "def hzfunc(label):\n",
    "    hzdict = {'2 Hz':s0, '4 Hz':s1, '8 Hz':s2}\n",
    "    ydata = hzdict[label]\n",
    "    l.set_ydata(ydata)\n",
    "    plt.draw()\n",
    "radio.on_clicked(hzfunc)\n",
    "\n",
    "rax = plt.axes([0.05, 0.4, 0.15, 0.15], axisbg=axcolor)\n",
    "radio2 = RadioButtons(rax, ('red', 'blue', 'green'))\n",
    "def colorfunc(label):\n",
    "    l.set_color(label)\n",
    "    plt.draw()\n",
    "radio2.on_clicked(colorfunc)\n",
    "\n",
    "rax = plt.axes([0.05, 0.1, 0.15, 0.15], axisbg=axcolor)\n",
    "radio3 = RadioButtons(rax, ('-', '--', '-.', 'steps', ':'))\n",
    "def stylefunc(label):\n",
    "    l.set_linestyle(label)\n",
    "    plt.draw()\n",
    "radio3.on_clicked(stylefunc)\n",
    "\n",
    "plt.show()"
   ]
  },
  {
   "cell_type": "code",
   "execution_count": null,
   "metadata": {
    "collapsed": true
   },
   "outputs": [],
   "source": []
  }
 ],
 "metadata": {
  "kernelspec": {
   "display_name": "Python 2",
   "language": "python",
   "name": "python2"
  },
  "language_info": {
   "codemirror_mode": {
    "name": "ipython",
    "version": 2
   },
   "file_extension": ".py",
   "mimetype": "text/x-python",
   "name": "python",
   "nbconvert_exporter": "python",
   "pygments_lexer": "ipython2",
   "version": "2.7.10"
  }
 },
 "nbformat": 4,
 "nbformat_minor": 0
}
