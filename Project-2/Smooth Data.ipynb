{
 "cells": [
  {
   "cell_type": "markdown",
   "metadata": {},
   "source": [
    "#Smooth Data"
   ]
  },
  {
   "cell_type": "code",
   "execution_count": 7,
   "metadata": {
    "collapsed": false
   },
   "outputs": [
    {
     "data": {
      "text/html": [
       "<div style=\"max-height:1000px;max-width:1500px;overflow:auto;\">\n",
       "<table border=\"1\" class=\"dataframe\">\n",
       "  <thead>\n",
       "    <tr style=\"text-align: right;\">\n",
       "      <th></th>\n",
       "      <th>1</th>\n",
       "      <th>2</th>\n",
       "    </tr>\n",
       "    <tr>\n",
       "      <th>0</th>\n",
       "      <th></th>\n",
       "      <th></th>\n",
       "    </tr>\n",
       "  </thead>\n",
       "  <tbody>\n",
       "    <tr>\n",
       "      <th>0.000</th>\n",
       "      <td>4.725</td>\n",
       "      <td>4.775</td>\n",
       "    </tr>\n",
       "    <tr>\n",
       "      <th>0.004</th>\n",
       "      <td>4.735</td>\n",
       "      <td>4.745</td>\n",
       "    </tr>\n",
       "    <tr>\n",
       "      <th>0.008</th>\n",
       "      <td>4.725</td>\n",
       "      <td>4.735</td>\n",
       "    </tr>\n",
       "    <tr>\n",
       "      <th>0.012</th>\n",
       "      <td>4.715</td>\n",
       "      <td>4.745</td>\n",
       "    </tr>\n",
       "    <tr>\n",
       "      <th>0.016</th>\n",
       "      <td>4.720</td>\n",
       "      <td>4.735</td>\n",
       "    </tr>\n",
       "  </tbody>\n",
       "</table>\n",
       "</div>"
      ],
      "text/plain": [
       "           1      2\n",
       "0                  \n",
       "0.000  4.725  4.775\n",
       "0.004  4.735  4.745\n",
       "0.008  4.725  4.735\n",
       "0.012  4.715  4.745\n",
       "0.016  4.720  4.735"
      ]
     },
     "execution_count": 7,
     "metadata": {},
     "output_type": "execute_result"
    }
   ],
   "source": [
    "import pandas as pd\n",
    "\n",
    "file_path = \"./Physionet_ECGs/sel_100_tabsep.csv\"\n",
    "data = pd.read_csv(file_path, sep = '\\t', index_col= 0, header=None)\n",
    "data.head()"
   ]
  },
  {
   "cell_type": "markdown",
   "metadata": {},
   "source": [
    "Select the column you want to smooth"
   ]
  },
  {
   "cell_type": "code",
   "execution_count": 50,
   "metadata": {
    "collapsed": true
   },
   "outputs": [],
   "source": [
    "import numpy as np\n",
    "import matplotlib.pyplot as plt\n",
    "col = 1 #choose 1 or 2\n",
    "values = data[col].values\n",
    "times = data[col].index"
   ]
  },
  {
   "cell_type": "markdown",
   "metadata": {},
   "source": [
    "##Smooth Data With Fast Fourier Transform"
   ]
  },
  {
   "cell_type": "markdown",
   "metadata": {},
   "source": [
    "Fast Fourier Transform and plot the data"
   ]
  },
  {
   "cell_type": "code",
   "execution_count": 51,
   "metadata": {
    "collapsed": false
   },
   "outputs": [],
   "source": [
    "from numpy import fft\n",
    "transformed = fft.fft(values)\n",
    "real = transformed.real\n",
    "plt.plot(range(len(real)),real)\n",
    "plt.ylim(1000,-1000)\n",
    "plt.show()"
   ]
  },
  {
   "cell_type": "markdown",
   "metadata": {},
   "source": [
    "Mask the noise in the FFT'ed data and plot the signal with the mask"
   ]
  },
  {
   "cell_type": "code",
   "execution_count": 52,
   "metadata": {
    "collapsed": true
   },
   "outputs": [],
   "source": [
    "def mask_fft(transformed, masks=[(54000,171000)], ylims=(1000,-1000)):\n",
    "    '''\n",
    "    The default settings work well for column 1\n",
    "    '''\n",
    "    masked = transformed\n",
    "    for i in masks:\n",
    "        mask_min = i[0]\n",
    "        mask_max = i[1]\n",
    "        masked[mask_min:mask_max] = 0 + 0j\n",
    "    real2 = transformed.real\n",
    "    plt.plot(range(len(real2)),real2)\n",
    "    plt.ylim(*ylims)\n",
    "    return masked\n",
    "masked = mask_fft(transformed, [(55000,160000)])\n",
    "plt.gca()\n",
    "plt.show()"
   ]
  },
  {
   "cell_type": "markdown",
   "metadata": {},
   "source": [
    "reverse FFT the signal and plot the smoothed data"
   ]
  },
  {
   "cell_type": "code",
   "execution_count": 53,
   "metadata": {
    "collapsed": false
   },
   "outputs": [],
   "source": [
    "ifft = fft.ifft(transformed)\n",
    "plt.plot(times,data)\n",
    "plt.plot(times,ifft.real,\"r\")\n",
    "plt.legend()\n",
    "plt.xlim(0,1000)\n",
    "plt.show()"
   ]
  },
  {
   "cell_type": "markdown",
   "metadata": {},
   "source": [
    "Save!"
   ]
  },
  {
   "cell_type": "code",
   "execution_count": null,
   "metadata": {
    "collapsed": true
   },
   "outputs": [],
   "source": []
  },
  {
   "cell_type": "markdown",
   "metadata": {},
   "source": [
    "##Moving Average"
   ]
  },
  {
   "cell_type": "code",
   "execution_count": 15,
   "metadata": {
    "collapsed": false
   },
   "outputs": [
    {
     "name": "stderr",
     "output_type": "stream",
     "text": [
      "/Users/morganfine-morris/anaconda/lib/python2.7/site-packages/IPython/extensions/rmagic.py:693: UserWarning: The rmagic extension in IPython is deprecated in favour of rpy2.ipython. If available, that will be loaded instead.\n",
      "http://rpy.sourceforge.net/\n",
      "  warnings.warn(\"The rmagic extension in IPython is deprecated in favour of \"\n"
     ]
    }
   ],
   "source": [
    "%load_ext rmagic  "
   ]
  },
  {
   "cell_type": "code",
   "execution_count": 54,
   "metadata": {
    "collapsed": false
   },
   "outputs": [
    {
     "data": {
      "text/plain": [
       "  [1]    NA    NA 4.724 4.720 4.713 4.706 4.705 4.703 4.701 4.699 4.703 4.700\n",
       " [13] 4.699 4.700 4.704 4.704 4.705 4.705 4.709 4.714 4.720 4.726 4.736 4.745\n",
       " [25] 4.754 4.762 4.772 4.782 4.791 4.795 4.800 4.808 4.811 4.808 4.807 4.806\n",
       " [37] 4.801 4.797 4.796 4.799 4.800 4.799 4.799 4.801 4.799 4.795 4.793 4.793\n",
       " [49] 4.794 4.793 4.791 4.791 4.788 4.783 4.778 4.779 4.779 4.776 4.771 4.770\n",
       " [61] 4.770 4.769 4.765 4.765 4.762 4.758 4.752 4.750 4.751 4.754 4.750 4.749\n",
       " [73] 4.751 4.751 4.750 4.751 4.753 4.754 4.753 4.749 4.748 4.751 4.752 4.753\n",
       " [85] 4.755 4.762 4.769 4.773 4.777 4.790 4.798 4.803 4.810 4.820 4.824 4.829\n",
       " [97] 4.831 4.840 4.848 4.855\n"
      ]
     },
     "metadata": {},
     "output_type": "display_data"
    }
   ],
   "source": [
    "%%R -i values -o smoothed\n",
    "ma5 = c(1, 1, 1, 1, 1)/5;\n",
    "smoothed =filter(values,ma5)\n",
    "print(smoothed[0:100])"
   ]
  },
  {
   "cell_type": "code",
   "execution_count": 56,
   "metadata": {
    "collapsed": false
   },
   "outputs": [],
   "source": [
    "df = pd.DataFrame(data = np.array(smoothed), index = times, columns=[col])\n",
    "df_clean = df.dropna()\n",
    "plt.plot(df_clean.index, df_clean.values)\n",
    "plt.plot(times, values, 'r')\n",
    "plt.show()"
   ]
  },
  {
   "cell_type": "code",
   "execution_count": 59,
   "metadata": {
    "collapsed": false
   },
   "outputs": [],
   "source": [
    "df_clean.to_csv('./Physionet_ECGs/sel_100_tabsep_mvsmooth.csv', header=False, sep=\"\\t\")"
   ]
  },
  {
   "cell_type": "code",
   "execution_count": null,
   "metadata": {
    "collapsed": true
   },
   "outputs": [],
   "source": []
  }
 ],
 "metadata": {
  "kernelspec": {
   "display_name": "Python 2",
   "language": "python",
   "name": "python2"
  },
  "language_info": {
   "codemirror_mode": {
    "name": "ipython",
    "version": 2
   },
   "file_extension": ".py",
   "mimetype": "text/x-python",
   "name": "python",
   "nbconvert_exporter": "python",
   "pygments_lexer": "ipython2",
   "version": "2.7.10"
  }
 },
 "nbformat": 4,
 "nbformat_minor": 0
}
