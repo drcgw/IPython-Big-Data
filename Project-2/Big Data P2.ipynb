{
 "cells": [
  {
   "cell_type": "markdown",
   "metadata": {},
   "source": [
    "##Warning! Almost nothing is in functions"
   ]
  },
  {
   "cell_type": "code",
   "execution_count": 5,
   "metadata": {
    "collapsed": false
   },
   "outputs": [
    {
     "name": "stdout",
     "output_type": "stream",
     "text": [
      "BASS ready!\n"
     ]
    },
    {
     "data": {
      "text/plain": [
       "<module 'bass' from '/Users/morganfine-morris/Documents/Repos/bass/bass.pyc'>"
      ]
     },
     "execution_count": 5,
     "metadata": {},
     "output_type": "execute_result"
    }
   ],
   "source": [
    "#provide directory in which BASS is located\n",
    "bass_folder_loc = '/Users/morganfine-morris/Documents/Repos/bass'\n",
    "#uncomment '%matplotlib inline' below see plots inline (and remove blocking). \n",
    "#If you change your mind after running it, you must restart kernel\n",
    "#%matplotlib inline \n",
    "#%matplotlib qt\n",
    "\n",
    "import sys\n",
    "import os\n",
    "import os.path as path\n",
    "import pandas as pd\n",
    "import matplotlib.pyplot as plt\n",
    "import numpy as np\n",
    "# append the path to the folder containing bass \n",
    "# (which should prob. contain a __init__.py file.) to pythonpath\n",
    "sys.path.append(bass_folder_loc) \n",
    "import bass\n",
    "reload(bass)"
   ]
  },
  {
   "cell_type": "code",
   "execution_count": 2,
   "metadata": {
    "collapsed": true
   },
   "outputs": [],
   "source": [
    "#initialize new file\n",
    "Data = {}\n",
    "Settings = {}\n",
    "Results ={}\n",
    "\n",
    "############################################################################################\n",
    "#manual Setting block\n",
    "Settings['folder']= r\"./\"#Physionet_ECGs\"\n",
    "Settings['Label'] = 'p01_r01_f.txt'#r'sel_100_tabsep.csv'\n",
    "Settings['Output Folder'] = 'output'\n",
    "\n",
    "#transformation Settings\n",
    "Settings['Absolute Value'] = True #Must be True if Savitzky-Golay is being used\n",
    "\n",
    "Settings['Bandpass Highcut'] =  'none'#in Hz\n",
    "Settings['Bandpass Lowcut'] = 'none' #in Hz\n",
    "Settings['Bandpass Polynomial'] = 'none' #integer\n",
    "\n",
    "Settings['Linear Fit'] = False #between 0 and 1 on the whole time series\n",
    "Settings['Linear Fit-Rolling R'] = 0.75 #between 0 and 1\n",
    "Settings['Linear Fit-Rolling Window'] = 1000 #window for rolling mean for fit, unit is index not time\n",
    "Settings['Relative Baseline'] = 0 #default 0, unless data is normalized, then 1.0. Can be any float\n",
    "\n",
    "#integer\n",
    "Settings['Savitzky-Golay Polynomial'] = 4 \n",
    "#must be odd. units are index not time\n",
    "Settings['Savitzky-Golay Window Size'] = 'none'#27 \n",
    "\n",
    "#Baseline Settings\n",
    "Settings['Baseline Type'] = r'static' #'linear', 'rolling', or 'static'\n",
    "#For Linear\n",
    "Settings['Baseline Start'] = 10.04 #start time in seconds\n",
    "Settings['Baseline Stop'] = 10.18 #end time in seconds\n",
    "#For Rolling\n",
    "Settings['Rolling Baseline Window'] = 1 # in seconds. leave as 'none' if linear or static\n",
    "\n",
    "#Peaks\n",
    "Settings['Delta'] = .2#0.25\n",
    "Settings['Peak Minimum'] = -1 #amplitude value\n",
    "Settings['Peak Maximum'] = 1 #amplitude value\n",
    "\n",
    "#Bursts\n",
    "Settings['Burst Area'] = False #calculate burst area\n",
    "Settings['Exclude Edges'] = False #False to keep edges, True to discard them\n",
    "Settings['Inter-event interval minimum (seconds)'] = 0.00100 #only for bursts, not for peaks\n",
    "Settings['Maximum Burst Duration (s)'] = 10 \n",
    "Settings['Minimum Burst Duration (s)'] = 0\n",
    "Settings['Minimum Peak Number'] = 1 #minimum number of peaks/burst, integer\n",
    "#Settings['Threshold']= 4.9#.3 #linear: proportion of baseline. \n",
    "                           #static: literal value.\n",
    "                           #rolling, linear ammount grater than rolling baseline at each time point.\n",
    "if Settings['Baseline Type']=='rolling':\n",
    "    Settings['Threshold']= .01 #linear: proportion of baseline. \n",
    "elif Settings['Baseline Type']=='static':\n",
    "    Settings['Threshold']= 0.01#4.9 #linear: proportion of baseline. \n",
    "else:\n",
    "    pass\n",
    "#Outputs\n",
    "Settings['Generate Graphs'] = False #create and save the fancy graph outputs\n",
    "\n",
    "\n",
    "#Settings that you should not change unless you are a super advanced user:\n",
    "#These are settings that are still in development\n",
    "Settings['Graph LCpro events'] = False\n",
    "Settings['File Type'] = r'Plain' #'LCPro', 'ImageJ', 'SIMA', 'Plain', 'Morgan'\n",
    "Settings['Milliseconds'] = False\n",
    "############################################################################################"
   ]
  },
  {
   "cell_type": "code",
   "execution_count": 225,
   "metadata": {
    "collapsed": false
   },
   "outputs": [],
   "source": [
    "#remove header from file and resave file (overwrites original data)\n",
    "path_file = path.join(Settings['folder'], Settings['Label'])\n",
    "file_data = pd.DataFrame.from_csv(path_file, header=0, sep=\"\\t\")\n",
    "\n",
    "try:\n",
    "    new = pd.DataFrame(file_data.values, file_data.index.values, dtype=float)\n",
    "except:\n",
    "    #its a string, remove it\n",
    "    new = pd.DataFrame(file_data.values[1:], file_data.index.values[1:])\n",
    "\n",
    "new.to_csv(path_file, sep='\\t',header=False)"
   ]
  },
  {
   "cell_type": "markdown",
   "metadata": {},
   "source": [
    "#Data Processing (not file specific)"
   ]
  },
  {
   "cell_type": "code",
   "execution_count": 3,
   "metadata": {
    "collapsed": false
   },
   "outputs": [
    {
     "name": "stdout",
     "output_type": "stream",
     "text": [
      "BASS ready!\n",
      "Made plots folder\n",
      "Data Loaded\n",
      "Sampling Rate= 0.002 (sec/frame)\n",
      "p01_r01_f.txt is 19.992 seconds long.\n"
     ]
    }
   ],
   "source": [
    "reload(bass)\n",
    "Data, Settings = bass.load_wrapper({},Settings)\n",
    "#Data, Settings = bass.transform_wrapper(Data, Settings) #b/c I can't find smoothing settings that don't make it worse\n",
    "Data['trans'] = Data['original']\n",
    "Data, Settings, Results = bass.baseline_wrapper(Data, Settings, Results)\n",
    "#event detection\n",
    "Results = bass.event_peakdet_wrapper(Data, Settings, Results)\n",
    "Results = bass.event_burstdet_wrapper(Data, Settings, Results)\n",
    "\n",
    "#clip the data from s seconds to e seconds\n",
    "s=1\n",
    "e=50\n",
    "Data_clipped = {'original':Data['original'][s:e], 'trans':Data['trans'][s:e]}\n",
    "#print Data_clipped\n",
    "# graph_ts calls show, so unless you ran %matplotlib inline, \n",
    "# notebook will block until you close the plot window\n",
    "#Data['original']['Mean2'][s:e].plot()\n",
    "#plt.show()\n",
    "axes = bass.graph_ts(Data_clipped, Settings, Results, roi=\"Mean1\") \n",
    "plt.show()"
   ]
  },
  {
   "cell_type": "code",
   "execution_count": 192,
   "metadata": {
    "collapsed": false
   },
   "outputs": [],
   "source": [
    "#spectrogram\n",
    "version = 'original'\n",
    "key = 'Mean1'\n",
    "bass.spectogram(version, key, Data, Settings, Results)\n",
    "plt.show()"
   ]
  },
  {
   "cell_type": "code",
   "execution_count": 9,
   "metadata": {
    "collapsed": false
   },
   "outputs": [
    {
     "name": "stdout",
     "output_type": "stream",
     "text": [
      "       Peaks Amplitude  Intervals\n",
      "Time                             \n",
      "0.704            0.625      0.234\n",
      "0.938            0.175      0.516\n",
      "1.454            0.595      0.220\n",
      "1.674            0.175      0.594\n",
      "2.268            0.735      0.222\n",
      "Time\n",
      "0.704    0.625\n",
      "0.938    0.175\n",
      "1.454    0.595\n",
      "1.674    0.175\n",
      "2.268    0.735\n",
      "Name: Peaks Amplitude, dtype: float64\n",
      "0.175    4\n",
      "0.620    4\n",
      "0.210    3\n",
      "0.550    3\n",
      "0.165    3\n",
      "0.650    2\n",
      "0.195    2\n",
      "0.610    2\n",
      "0.575    1\n",
      "0.615    1\n",
      "0.690    1\n",
      "0.150    1\n",
      "0.285    1\n",
      "0.595    1\n",
      "0.495    1\n",
      "0.180    1\n",
      "0.490    1\n",
      "0.600    1\n",
      "0.160    1\n",
      "0.670    1\n",
      "0.245    1\n",
      "0.655    1\n",
      "0.215    1\n",
      "0.200    1\n",
      "0.795    1\n",
      "0.185    1\n",
      "0.480    1\n",
      "0.225    1\n",
      "0.325    1\n",
      "0.735    1\n",
      "0.190    1\n",
      "0.625    1\n",
      "dtype: int64\n",
      "[ 0.15    0.4725  0.795 ] [-0.235 -0.135 -0.035]\n"
     ]
    }
   ],
   "source": [
    "for key in ['Mean1']:\n",
    "    #represent what a complete feature looks like for this particular ECG\n",
    "    # s = burst start, e = burst end, v = valley, p=peak\n",
    "    features_key = 'vspevspe'\n",
    "    \n",
    "    peak_count = features_key.count('p')\n",
    "    valley_count = features_key.count('v')\n",
    "\n",
    "    peaks_df = Results['Peaks'][key].dropna() # R wave location\n",
    "    valleys_df = Results['Valleys'][key].dropna() # Q and S wave locations\n",
    "    bursts_df = None\n",
    "    \n",
    "    try:\n",
    "        burst_ends = Results['Bursts'][key]['Burst End']\n",
    "        burst_starts = Results['Bursts'][key]['Burst Start']\n",
    "        \n",
    "        bursts_df = pd.concat([burst_starts, burst_ends], axis=1)\n",
    "        bursts_df.columns = ['Start','End']\n",
    "        #print bursts_df\n",
    "    except:\n",
    "        print \"No bursts.\"\n",
    "        \n",
    "    #get peak and valley times\n",
    "    print (peaks_df.head())\n",
    "    peak_time = peaks_df.index.values\n",
    "    valley_time = valleys_df.index.values\n",
    "    \n",
    "print peaks_df[\"Peaks Amplitude\"].head()\n",
    "n, pEdges = np.histogram(peaks_df[\"Peaks Amplitude\"],bins=peak_count)\n",
    "n, vEdges = np.histogram(valleys_df,bins=valley_count)\n",
    "print pEdges, vEdges"
   ]
  },
  {
   "cell_type": "code",
   "execution_count": 263,
   "metadata": {
    "collapsed": true
   },
   "outputs": [],
   "source": []
  },
  {
   "cell_type": "code",
   "execution_count": null,
   "metadata": {
    "collapsed": true
   },
   "outputs": [],
   "source": []
  },
  {
   "cell_type": "markdown",
   "metadata": {},
   "source": [
    "#Getting Q, R, S, and T in the DataFrame and Ordered according to Time"
   ]
  },
  {
   "cell_type": "markdown",
   "metadata": {},
   "source": [
    "Once you can see that Q, R, S, and T are being consistently detected (T should be marked by the burst ends) you can do the below process to label them. "
   ]
  },
  {
   "cell_type": "code",
   "execution_count": 193,
   "metadata": {
    "collapsed": false
   },
   "outputs": [
    {
     "ename": "KeyError",
     "evalue": "'Mean1'",
     "output_type": "error",
     "traceback": [
      "\u001b[0;31m---------------------------------------------------------------------------\u001b[0m",
      "\u001b[0;31mKeyError\u001b[0m                                  Traceback (most recent call last)",
      "\u001b[0;32m<ipython-input-193-30ee97772687>\u001b[0m in \u001b[0;36m<module>\u001b[0;34m()\u001b[0m\n\u001b[1;32m      1\u001b[0m \u001b[0mpeaks_df\u001b[0m \u001b[0;34m=\u001b[0m \u001b[0mResults\u001b[0m\u001b[0;34m[\u001b[0m\u001b[0;34m'Peaks'\u001b[0m\u001b[0;34m]\u001b[0m\u001b[0;34m[\u001b[0m\u001b[0;34m'Mean1'\u001b[0m\u001b[0;34m]\u001b[0m \u001b[0;31m# R wave location\u001b[0m\u001b[0;34m\u001b[0m\u001b[0m\n\u001b[1;32m      2\u001b[0m \u001b[0mvalleys_df\u001b[0m \u001b[0;34m=\u001b[0m \u001b[0mResults\u001b[0m\u001b[0;34m[\u001b[0m\u001b[0;34m'Valleys'\u001b[0m\u001b[0;34m]\u001b[0m\u001b[0;34m[\u001b[0m\u001b[0;34m'Mean1'\u001b[0m\u001b[0;34m]\u001b[0m \u001b[0;31m# Q and S wave locations\u001b[0m\u001b[0;34m\u001b[0m\u001b[0m\n\u001b[0;32m----> 3\u001b[0;31m \u001b[0mburst_ends\u001b[0m \u001b[0;34m=\u001b[0m \u001b[0mResults\u001b[0m\u001b[0;34m[\u001b[0m\u001b[0;34m'Bursts'\u001b[0m\u001b[0;34m]\u001b[0m\u001b[0;34m[\u001b[0m\u001b[0;34m'Mean1'\u001b[0m\u001b[0;34m]\u001b[0m\u001b[0;34m[\u001b[0m\u001b[0;34m'Burst End'\u001b[0m\u001b[0;34m]\u001b[0m \u001b[0;31m#burst ends indicate approx. T wave location\u001b[0m\u001b[0;34m\u001b[0m\u001b[0m\n\u001b[0m\u001b[1;32m      4\u001b[0m \u001b[0;34m\u001b[0m\u001b[0m\n\u001b[1;32m      5\u001b[0m \u001b[0;31m# make new DataFrame for Burst Ends which is indexed by Burst Ends\u001b[0m\u001b[0;34m\u001b[0m\u001b[0;34m\u001b[0m\u001b[0m\n",
      "\u001b[0;31mKeyError\u001b[0m: 'Mean1'"
     ]
    }
   ],
   "source": [
    "peaks_df = Results['Peaks']['Mean1'] # R wave location\n",
    "valleys_df = Results['Valleys']['Mean1'] # Q and S wave locations\n",
    "burst_ends = Results['Bursts']['Mean1']['Burst End'] #burst ends indicate approx. T wave location\n",
    "\n",
    "# make new DataFrame for Burst Ends which is indexed by Burst Ends \n",
    "# b.c. Results['Bursts']['Mean1'] is indexed by Burst Start.\n",
    "bursts_df = pd.DataFrame(burst_ends.values, index=burst_ends.values, columns=['Burst Ends'])\n",
    "\n",
    "#combine peaks and valleys dfs and sort by time\n",
    "# this will allow us to easily find peaks, \n",
    "# and find valleys before and after.\n",
    "peaks_df['time'] = peaks_df.index\n",
    "valleys_df['time'] = valleys_df.index\n",
    "bursts_df['time'] = bursts_df.index\n",
    "peaks_df['amplitude'] = peaks_df[\"Peaks Amplitude\"]\n",
    "valleys_df['amplitude'] = valleys_df[\"Valley Amplitude\"]\n",
    "bursts_df['amplitude'] = float(Settings['Threshold'])\n",
    "\n",
    "#Label R and T. Unfortunatly, setting Q and S (the valleys) is much harder (See next cell).\n",
    "peaks_df['letter'] = 'R'\n",
    "bursts_df['letter'] = \"T\"\n",
    "\n",
    "combined = peaks_df.append(valleys_df).sort('time')\n",
    "\n",
    "#now combine w. Burst Ends and remove unnecessary columns, sort by time again\n",
    "times = combined.append(bursts_df).drop([u'Burst Ends', u'Intervals', u'Peaks Amplitude', u'Valley Amplitude'],axis=1)\n",
    "sorted_times = times.sort('time')\n",
    "#remove na vals only from amplitude col.\n",
    "sorted_times['amplitude'] = sorted_times['amplitude']\n",
    "sorted_times.head()"
   ]
  },
  {
   "cell_type": "markdown",
   "metadata": {},
   "source": [
    "The following is a hack-y way to set the Q and S valleys, but it works. Later I might try to do it with booleans. <b>Feel free to try another way to do this!!! (Actually, really, please do. This method is pretty slow.)</b>"
   ]
  },
  {
   "cell_type": "code",
   "execution_count": 165,
   "metadata": {
    "collapsed": false
   },
   "outputs": [
    {
     "data": {
      "text/html": [
       "<div style=\"max-height:1000px;max-width:1500px;overflow:auto;\">\n",
       "<table border=\"1\" class=\"dataframe\">\n",
       "  <thead>\n",
       "    <tr style=\"text-align: right;\">\n",
       "      <th></th>\n",
       "      <th>amplitude</th>\n",
       "      <th>letter</th>\n",
       "      <th>time</th>\n",
       "    </tr>\n",
       "    <tr>\n",
       "      <th>num</th>\n",
       "      <th></th>\n",
       "      <th></th>\n",
       "      <th></th>\n",
       "    </tr>\n",
       "  </thead>\n",
       "  <tbody>\n",
       "    <tr>\n",
       "      <th>0</th>\n",
       "      <td>-0.487</td>\n",
       "      <td>Q</td>\n",
       "      <td>0.12950</td>\n",
       "    </tr>\n",
       "    <tr>\n",
       "      <th>1</th>\n",
       "      <td>1.410</td>\n",
       "      <td>R</td>\n",
       "      <td>0.13475</td>\n",
       "    </tr>\n",
       "    <tr>\n",
       "      <th>2</th>\n",
       "      <td>-0.883</td>\n",
       "      <td>S</td>\n",
       "      <td>0.13825</td>\n",
       "    </tr>\n",
       "    <tr>\n",
       "      <th>3</th>\n",
       "      <td>0.030</td>\n",
       "      <td>T</td>\n",
       "      <td>0.15575</td>\n",
       "    </tr>\n",
       "    <tr>\n",
       "      <th>4</th>\n",
       "      <td>-0.455</td>\n",
       "      <td>Q</td>\n",
       "      <td>0.30125</td>\n",
       "    </tr>\n",
       "    <tr>\n",
       "      <th>5</th>\n",
       "      <td>1.514</td>\n",
       "      <td>R</td>\n",
       "      <td>0.30700</td>\n",
       "    </tr>\n",
       "    <tr>\n",
       "      <th>6</th>\n",
       "      <td>-0.934</td>\n",
       "      <td>S</td>\n",
       "      <td>0.31050</td>\n",
       "    </tr>\n",
       "    <tr>\n",
       "      <th>7</th>\n",
       "      <td>0.030</td>\n",
       "      <td>T</td>\n",
       "      <td>0.32575</td>\n",
       "    </tr>\n",
       "    <tr>\n",
       "      <th>8</th>\n",
       "      <td>-0.376</td>\n",
       "      <td>Q</td>\n",
       "      <td>0.47350</td>\n",
       "    </tr>\n",
       "    <tr>\n",
       "      <th>9</th>\n",
       "      <td>1.404</td>\n",
       "      <td>R</td>\n",
       "      <td>0.47900</td>\n",
       "    </tr>\n",
       "    <tr>\n",
       "      <th>10</th>\n",
       "      <td>-1.003</td>\n",
       "      <td>S</td>\n",
       "      <td>0.48225</td>\n",
       "    </tr>\n",
       "    <tr>\n",
       "      <th>11</th>\n",
       "      <td>0.030</td>\n",
       "      <td>T</td>\n",
       "      <td>0.49500</td>\n",
       "    </tr>\n",
       "    <tr>\n",
       "      <th>12</th>\n",
       "      <td>-0.116</td>\n",
       "      <td>NaN</td>\n",
       "      <td>0.59850</td>\n",
       "    </tr>\n",
       "  </tbody>\n",
       "</table>\n",
       "</div>"
      ],
      "text/plain": [
       "     amplitude letter     time\n",
       "num                           \n",
       "0       -0.487      Q  0.12950\n",
       "1        1.410      R  0.13475\n",
       "2       -0.883      S  0.13825\n",
       "3        0.030      T  0.15575\n",
       "4       -0.455      Q  0.30125\n",
       "5        1.514      R  0.30700\n",
       "6       -0.934      S  0.31050\n",
       "7        0.030      T  0.32575\n",
       "8       -0.376      Q  0.47350\n",
       "9        1.404      R  0.47900\n",
       "10      -1.003      S  0.48225\n",
       "11       0.030      T  0.49500\n",
       "12      -0.116    NaN  0.59850"
      ]
     },
     "execution_count": 165,
     "metadata": {},
     "output_type": "execute_result"
    }
   ],
   "source": [
    "#reindex by integer\n",
    "sorted_times['num'] = range(len(sorted_times))\n",
    "sorted_times_reindexed = sorted_times.set_index('num')\n",
    "\n",
    "letters = pd.DataFrame(index=sorted_times_reindexed.index, columns=['letters'], dtype=str)\n",
    "for i in sorted_times_reindexed.index:\n",
    "    \n",
    "    #try to get the previous and next values with error handeling for edge cases\n",
    "    try:\n",
    "        prev_value = sorted_times_reindexed.loc[i-1, \"letter\"]\n",
    "    except:\n",
    "        prev_value=''\n",
    "    try:\n",
    "        next_value = sorted_times_reindexed.loc[i+1,\"letter\"]\n",
    "    except:\n",
    "        next_value=\"\"\n",
    "    \n",
    "    #letters['time'][i] = sorted_times_reindexed.loc[i,'time']\n",
    "    if (next_value == \"T\") and (prev_value == \"R\"):\n",
    "        letters['letters'][i] = \"S\"\n",
    "    elif next_value == \"R\":\n",
    "        letters['letters'][i] = \"Q\"\n",
    "    else:\n",
    "        letters['letters'][i] = sorted_times_reindexed.loc[i,'letter']\n",
    "        \n",
    "sorted_times_reindexed['letter'] = letters['letters']\n",
    "sorted_times_reindexed.head(13) #see that valleys which are not immediately before or after R are left as NaN!"
   ]
  },
  {
   "cell_type": "code",
   "execution_count": 147,
   "metadata": {
    "collapsed": false
   },
   "outputs": [
    {
     "data": {
      "text/html": [
       "<div style=\"max-height:1000px;max-width:1500px;overflow:auto;\">\n",
       "<table border=\"1\" class=\"dataframe\">\n",
       "  <thead>\n",
       "    <tr style=\"text-align: right;\">\n",
       "      <th></th>\n",
       "      <th>amplitude</th>\n",
       "      <th>letter</th>\n",
       "    </tr>\n",
       "    <tr>\n",
       "      <th>time</th>\n",
       "      <th></th>\n",
       "      <th></th>\n",
       "    </tr>\n",
       "  </thead>\n",
       "  <tbody>\n",
       "    <tr>\n",
       "      <th>0.12950</th>\n",
       "      <td>-0.487</td>\n",
       "      <td>Q</td>\n",
       "    </tr>\n",
       "    <tr>\n",
       "      <th>0.13475</th>\n",
       "      <td>1.410</td>\n",
       "      <td>R</td>\n",
       "    </tr>\n",
       "    <tr>\n",
       "      <th>0.13825</th>\n",
       "      <td>-0.883</td>\n",
       "      <td>S</td>\n",
       "    </tr>\n",
       "    <tr>\n",
       "      <th>0.15575</th>\n",
       "      <td>0.030</td>\n",
       "      <td>T</td>\n",
       "    </tr>\n",
       "    <tr>\n",
       "      <th>0.30125</th>\n",
       "      <td>-0.455</td>\n",
       "      <td>Q</td>\n",
       "    </tr>\n",
       "  </tbody>\n",
       "</table>\n",
       "</div>"
      ],
      "text/plain": [
       "         amplitude letter\n",
       "time                     \n",
       "0.12950     -0.487      Q\n",
       "0.13475      1.410      R\n",
       "0.13825     -0.883      S\n",
       "0.15575      0.030      T\n",
       "0.30125     -0.455      Q"
      ]
     },
     "execution_count": 147,
     "metadata": {},
     "output_type": "execute_result"
    }
   ],
   "source": [
    "sorted_times_time_indexed = sorted_times_reindexed.set_index('time')\n",
    "final = sorted_times_time_indexed.dropna()\n",
    "final.head()"
   ]
  },
  {
   "cell_type": "code",
   "execution_count": 153,
   "metadata": {
    "collapsed": false
   },
   "outputs": [],
   "source": [
    "s1=0\n",
    "e1=20\n",
    "final[s1:e1].plot()\n",
    "plt.show()"
   ]
  }
 ],
 "metadata": {
  "kernelspec": {
   "display_name": "Python 2",
   "language": "python",
   "name": "python2"
  },
  "language_info": {
   "codemirror_mode": {
    "name": "ipython",
    "version": 2
   },
   "file_extension": ".py",
   "mimetype": "text/x-python",
   "name": "python",
   "nbconvert_exporter": "python",
   "pygments_lexer": "ipython2",
   "version": "2.7.10"
  }
 },
 "nbformat": 4,
 "nbformat_minor": 0
}
