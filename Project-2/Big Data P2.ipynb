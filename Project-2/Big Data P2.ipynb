{
 "cells": [
  {
   "cell_type": "markdown",
   "metadata": {},
   "source": [
    "#Non-Bass Way to do peak detect\n",
    "####requires installation of pypeaks (https://github.com/gopalkoduri/pypeaks)"
   ]
  },
  {
   "cell_type": "code",
   "execution_count": 192,
   "metadata": {
    "collapsed": false
   },
   "outputs": [
    {
     "data": {
      "text/html": [
       "<div style=\"max-height:1000px;max-width:1500px;overflow:auto;\">\n",
       "<table border=\"1\" class=\"dataframe\">\n",
       "  <thead>\n",
       "    <tr>\n",
       "      <th>Elapsed time</th>\n",
       "      <th>iltered</th>\n",
       "    </tr>\n",
       "    <tr>\n",
       "      <th>(seconds)</th>\n",
       "      <th>(mV)</th>\n",
       "    </tr>\n",
       "  </thead>\n",
       "  <tbody>\n",
       "    <tr>\n",
       "      <th>0.000</th>\n",
       "      <td>-0.115</td>\n",
       "    </tr>\n",
       "    <tr>\n",
       "      <th>0.002</th>\n",
       "      <td>-0.115</td>\n",
       "    </tr>\n",
       "  </tbody>\n",
       "</table>\n",
       "</div>"
      ],
      "text/plain": [
       "   Elapsed time iltered\n",
       "      (seconds)    (mV)\n",
       "0.000            -0.115\n",
       "0.002            -0.115"
      ]
     },
     "execution_count": 192,
     "metadata": {},
     "output_type": "execute_result"
    }
   ],
   "source": [
    "import pypeaks as pypk\n",
    "import pickle\n",
    "import sys\n",
    "import os\n",
    "import os.path as path\n",
    "import pandas as pd\n",
    "import matplotlib.pyplot as plt\n",
    "import numpy as np\n",
    "import itertools\n",
    "from matplotlib import colors\n",
    "\n",
    "\n",
    "'''\n",
    "data = pickle.load(file(\"./sample-histogram.pickle\"))\n",
    "#print data\n",
    "hist = pypk.Data(data[0], data[1])\n",
    "'''\n",
    "#ji_intervals = pickle.load(file('./ji-intervals.pickle'))\n",
    "#print ji_intervals\n",
    "\n",
    "#pypk.Data.get_peaks??\n",
    "\n",
    "data = pd.DataFrame.from_csv('p01_r01_f_2.txt', header=[0,1], sep=\"\\t\")\n",
    "data.head(2)"
   ]
  },
  {
   "cell_type": "markdown",
   "metadata": {},
   "source": [
    "```\n",
    "Signature: hist.get_peaks(method='slope', peak_amp_thresh=5e-05, \n",
    "                          valley_thresh=3e-05, intervals=None, lookahead=20, avg_interval=100)\n",
    "Docstring:\n",
    "This function expects SMOOTHED histogram. If you run it on a raw histogram,\n",
    "there is a high chance that it returns no peaks.\n",
    "\n",
    "method can be interval/slope/hybrid.\n",
    "    The interval-based method simply steps through the whole histogram\n",
    "    and pick up the local maxima in each interval, from which irrelevant\n",
    "    peaks are filtered out by looking at the proportion of points on \n",
    "    either side of the detected peak in each interval, and by applying\n",
    "    peal_amp_thresh and valley_thresh bounds.\n",
    "\n",
    "    Slope approach uses, of course slope information, to find peaks, \n",
    "    which are then filtered by applying peal_amp_thresh and \n",
    "    valley_thresh bounds. \n",
    "    \n",
    "    Hybrid approach combines the peaks obtained using slope method and\n",
    "    interval-based approach. It retains the peaks/valleys from slope method\n",
    "    if there should be a peak around the same region from each of the methods.\n",
    "\n",
    "peak_amp_thresh is the minimum amplitude/height that a peak should have\n",
    "in a normalized smoothed histogram, to be qualified as a peak. \n",
    "valley_thresh is viceversa for valleys!\n",
    "\n",
    "If the method is interval/hybrid, then the intervals argument must be passed\n",
    "and it should be an instance of Intervals class.\n",
    "\n",
    "If the method is slope/hybrid, then the lookahead and avg_window\n",
    "arguments should be changed based on the application. \n",
    "They have some default values though.\n",
    "\n",
    "The method stores peaks in self.peaks in the following format:\n",
    "{\"peaks\":[[peak positions], [peak amplitudes]],\n",
    "\"valleys\": [[valley positions], [valley amplitudes]]}\n",
    "```"
   ]
  },
  {
   "cell_type": "code",
   "execution_count": null,
   "metadata": {
    "collapsed": true
   },
   "outputs": [],
   "source": [
    "#things you can change\n",
    "smooth_amount = 9\n",
    "peak_amp_threshold = 3e-05\n",
    "valley_amp_threshold = 2e-05"
   ]
  },
  {
   "cell_type": "code",
   "execution_count": 193,
   "metadata": {
    "collapsed": false
   },
   "outputs": [],
   "source": [
    "### Get peaks and valleys from data and make dataframes\n",
    "\n",
    "hist = pypk.Data(data.index, data.values, smoothness=smooth_amount)\n",
    "hist.get_peaks(method='slope', peak_amp_thresh=peak_amp_threshold, valley_thresh=valley_amp_threshold)\n",
    "valleys, peaks = hist.peaks.items()\n",
    "\n",
    "def flatten_list_of_iterables(iterable_of_iterables):\n",
    "    \"\"\"\n",
    "    iterable_of_iterables is an iterable of single-value iterables\n",
    "    \n",
    "    some of the data is a list or array of single-value lists or arrays\n",
    "    this flattens them by iterating thru the iterable of arrays/lists and append the \n",
    "    first (and only) element from each into a new 1-D array.\n",
    "    \"\"\"\n",
    "    return np.array([iterable[0] for iterable in iterable_of_iterables])\n",
    "\n",
    "vx, vy = valleys[1]\n",
    "px, py = peaks[1]\n",
    "vy = flatten_y_list(vy)\n",
    "py = flatten_y_list(py)\n",
    "\n",
    "peaks_df = pd.DataFrame(data=zip(px,py), columns=[\"t\",\"A\"]).sort('t')\n",
    "valleys_df = pd.DataFrame(data=zip(vx,vy), columns=[\"t\",\"A\"]).sort('t')\n",
    "valleys_df.to_csv('valleys.csv')\n",
    "peaks_df.to_csv('peaks.csv')"
   ]
  },
  {
   "cell_type": "code",
   "execution_count": 198,
   "metadata": {
    "collapsed": false
   },
   "outputs": [
    {
     "data": {
      "text/plain": [
       "[0.0,\n",
       " 0.002,\n",
       " 0.0040000000000000001,\n",
       " 0.0060000000000000001,\n",
       " 0.0080000000000000002,\n",
       " 0.01,\n",
       " 0.012,\n",
       " 0.013999999999999999,\n",
       " 0.016,\n",
       " 0.018000000000000002]"
      ]
     },
     "execution_count": 198,
     "metadata": {},
     "output_type": "execute_result"
    }
   ],
   "source": [
    "list(data.index.values)[0:10]"
   ]
  },
  {
   "cell_type": "code",
   "execution_count": 200,
   "metadata": {
    "collapsed": false
   },
   "outputs": [
    {
     "data": {
      "text/html": [
       "<div style=\"max-height:1000px;max-width:1500px;overflow:auto;\">\n",
       "<table border=\"1\" class=\"dataframe\">\n",
       "  <thead>\n",
       "    <tr style=\"text-align: right;\">\n",
       "      <th></th>\n",
       "      <th>0</th>\n",
       "      <th>10</th>\n",
       "      <th>20</th>\n",
       "      <th>31</th>\n",
       "      <th>19</th>\n",
       "      <th>100</th>\n",
       "      <th>103</th>\n",
       "      <th>32</th>\n",
       "      <th>74</th>\n",
       "      <th>95</th>\n",
       "      <th>...</th>\n",
       "      <th>45</th>\n",
       "      <th>46</th>\n",
       "      <th>35</th>\n",
       "      <th>81</th>\n",
       "      <th>14</th>\n",
       "      <th>11</th>\n",
       "      <th>29</th>\n",
       "      <th>30</th>\n",
       "      <th>29</th>\n",
       "      <th>62</th>\n",
       "    </tr>\n",
       "  </thead>\n",
       "  <tbody>\n",
       "    <tr>\n",
       "      <th>t</th>\n",
       "      <td>0</td>\n",
       "      <td>0.184</td>\n",
       "      <td>0.244</td>\n",
       "      <td>0.246</td>\n",
       "      <td>0.348</td>\n",
       "      <td>0.486</td>\n",
       "      <td>0.488</td>\n",
       "      <td>0.552</td>\n",
       "      <td>0.644</td>\n",
       "      <td>0.646</td>\n",
       "      <td>...</td>\n",
       "      <td>18.838</td>\n",
       "      <td>18.84</td>\n",
       "      <td>19.018</td>\n",
       "      <td>19.14</td>\n",
       "      <td>19.586</td>\n",
       "      <td>19.646</td>\n",
       "      <td>19.698</td>\n",
       "      <td>19.7</td>\n",
       "      <td>19.878</td>\n",
       "      <td>19.996</td>\n",
       "    </tr>\n",
       "    <tr>\n",
       "      <th>A</th>\n",
       "      <td>-0.1147555</td>\n",
       "      <td>0.1000384</td>\n",
       "      <td>-0.01075612</td>\n",
       "      <td>-0.01106107</td>\n",
       "      <td>0.06783172</td>\n",
       "      <td>0.03620093</td>\n",
       "      <td>0.03615505</td>\n",
       "      <td>0.05649252</td>\n",
       "      <td>-0.009379879</td>\n",
       "      <td>-0.009704598</td>\n",
       "      <td>...</td>\n",
       "      <td>-0.03019017</td>\n",
       "      <td>-0.03048438</td>\n",
       "      <td>0.1842513</td>\n",
       "      <td>-0.03221145</td>\n",
       "      <td>-0.05304129</td>\n",
       "      <td>0.2252763</td>\n",
       "      <td>-0.05098415</td>\n",
       "      <td>-0.05137804</td>\n",
       "      <td>0.1737293</td>\n",
       "      <td>-0.03082221</td>\n",
       "    </tr>\n",
       "    <tr>\n",
       "      <th>type</th>\n",
       "      <td>v</td>\n",
       "      <td>p</td>\n",
       "      <td>v</td>\n",
       "      <td>v</td>\n",
       "      <td>p</td>\n",
       "      <td>v</td>\n",
       "      <td>v</td>\n",
       "      <td>p</td>\n",
       "      <td>v</td>\n",
       "      <td>v</td>\n",
       "      <td>...</td>\n",
       "      <td>v</td>\n",
       "      <td>v</td>\n",
       "      <td>p</td>\n",
       "      <td>v</td>\n",
       "      <td>v</td>\n",
       "      <td>p</td>\n",
       "      <td>v</td>\n",
       "      <td>v</td>\n",
       "      <td>p</td>\n",
       "      <td>v</td>\n",
       "    </tr>\n",
       "  </tbody>\n",
       "</table>\n",
       "<p>3 rows × 174 columns</p>\n",
       "</div>"
      ],
      "text/plain": [
       "            0          10          20          31          19          100  \\\n",
       "t             0      0.184       0.244       0.246       0.348       0.486   \n",
       "A    -0.1147555  0.1000384 -0.01075612 -0.01106107  0.06783172  0.03620093   \n",
       "type          v          p           v           v           p           v   \n",
       "\n",
       "             103         32           74           95      ...      \\\n",
       "t          0.488       0.552        0.644        0.646     ...       \n",
       "A     0.03615505  0.05649252 -0.009379879 -0.009704598     ...       \n",
       "type           v           p            v            v     ...       \n",
       "\n",
       "             45          46         35          81          14         11   \\\n",
       "t         18.838       18.84     19.018       19.14      19.586     19.646   \n",
       "A    -0.03019017 -0.03048438  0.1842513 -0.03221145 -0.05304129  0.2252763   \n",
       "type           v           v          p           v           v          p   \n",
       "\n",
       "             29          30         29          62   \n",
       "t         19.698        19.7     19.878      19.996  \n",
       "A    -0.05098415 -0.05137804  0.1737293 -0.03082221  \n",
       "type           v           v          p           v  \n",
       "\n",
       "[3 rows x 174 columns]"
      ]
     },
     "execution_count": 200,
     "metadata": {},
     "output_type": "execute_result"
    }
   ],
   "source": [
    "combined.T"
   ]
  },
  {
   "cell_type": "code",
   "execution_count": 216,
   "metadata": {
    "collapsed": false,
    "scrolled": true
   },
   "outputs": [
    {
     "data": {
      "text/html": [
       "<div style=\"max-height:1000px;max-width:1500px;overflow:auto;\">\n",
       "<table border=\"1\" class=\"dataframe\">\n",
       "  <thead>\n",
       "    <tr>\n",
       "      <th>Elapsed time</th>\n",
       "      <th>iltered</th>\n",
       "    </tr>\n",
       "    <tr>\n",
       "      <th>(seconds)</th>\n",
       "      <th>(mV)</th>\n",
       "    </tr>\n",
       "  </thead>\n",
       "  <tbody>\n",
       "    <tr>\n",
       "      <th>0.000</th>\n",
       "      <td>-0.115</td>\n",
       "    </tr>\n",
       "    <tr>\n",
       "      <th>0.002</th>\n",
       "      <td>-0.115</td>\n",
       "    </tr>\n",
       "    <tr>\n",
       "      <th>0.004</th>\n",
       "      <td>-0.120</td>\n",
       "    </tr>\n",
       "    <tr>\n",
       "      <th>0.006</th>\n",
       "      <td>-0.120</td>\n",
       "    </tr>\n",
       "    <tr>\n",
       "      <th>0.008</th>\n",
       "      <td>-0.120</td>\n",
       "    </tr>\n",
       "  </tbody>\n",
       "</table>\n",
       "</div>"
      ],
      "text/plain": [
       "   Elapsed time iltered\n",
       "      (seconds)    (mV)\n",
       "0.000            -0.115\n",
       "0.002            -0.115\n",
       "0.004            -0.120\n",
       "0.006            -0.120\n",
       "0.008            -0.120"
      ]
     },
     "execution_count": 216,
     "metadata": {},
     "output_type": "execute_result"
    }
   ],
   "source": [
    "data.head()"
   ]
  },
  {
   "cell_type": "code",
   "execution_count": 220,
   "metadata": {
    "collapsed": false
   },
   "outputs": [
    {
     "data": {
      "text/html": [
       "<div style=\"max-height:1000px;max-width:1500px;overflow:auto;\">\n",
       "<table border=\"1\" class=\"dataframe\">\n",
       "  <thead>\n",
       "    <tr style=\"text-align: right;\">\n",
       "      <th></th>\n",
       "      <th>t</th>\n",
       "      <th>A</th>\n",
       "      <th>type</th>\n",
       "    </tr>\n",
       "  </thead>\n",
       "  <tbody>\n",
       "    <tr>\n",
       "      <th>0</th>\n",
       "      <td>0.000</td>\n",
       "      <td>-0.114756</td>\n",
       "      <td>v</td>\n",
       "    </tr>\n",
       "    <tr>\n",
       "      <th>10</th>\n",
       "      <td>0.184</td>\n",
       "      <td>0.100038</td>\n",
       "      <td>p</td>\n",
       "    </tr>\n",
       "    <tr>\n",
       "      <th>20</th>\n",
       "      <td>0.244</td>\n",
       "      <td>-0.010756</td>\n",
       "      <td>v</td>\n",
       "    </tr>\n",
       "    <tr>\n",
       "      <th>31</th>\n",
       "      <td>0.246</td>\n",
       "      <td>-0.011061</td>\n",
       "      <td>v</td>\n",
       "    </tr>\n",
       "    <tr>\n",
       "      <th>19</th>\n",
       "      <td>0.348</td>\n",
       "      <td>0.067832</td>\n",
       "      <td>p</td>\n",
       "    </tr>\n",
       "  </tbody>\n",
       "</table>\n",
       "</div>"
      ],
      "text/plain": [
       "        t         A type\n",
       "0   0.000 -0.114756    v\n",
       "10  0.184  0.100038    p\n",
       "20  0.244 -0.010756    v\n",
       "31  0.246 -0.011061    v\n",
       "19  0.348  0.067832    p"
      ]
     },
     "execution_count": 220,
     "metadata": {},
     "output_type": "execute_result"
    }
   ],
   "source": [
    "combined.head()"
   ]
  },
  {
   "cell_type": "code",
   "execution_count": 264,
   "metadata": {
    "collapsed": false
   },
   "outputs": [
    {
     "data": {
      "text/html": [
       "<div style=\"max-height:1000px;max-width:1500px;overflow:auto;\">\n",
       "<table border=\"1\" class=\"dataframe\">\n",
       "  <thead>\n",
       "    <tr style=\"text-align: right;\">\n",
       "      <th></th>\n",
       "      <th>t</th>\n",
       "      <th>A</th>\n",
       "      <th>type</th>\n",
       "    </tr>\n",
       "  </thead>\n",
       "  <tbody>\n",
       "    <tr>\n",
       "      <th>0</th>\n",
       "      <td>0.000</td>\n",
       "      <td>-0.115</td>\n",
       "      <td>v</td>\n",
       "    </tr>\n",
       "    <tr>\n",
       "      <th>1</th>\n",
       "      <td>0.184</td>\n",
       "      <td>0.125</td>\n",
       "      <td>p</td>\n",
       "    </tr>\n",
       "    <tr>\n",
       "      <th>2</th>\n",
       "      <td>0.244</td>\n",
       "      <td>-0.060</td>\n",
       "      <td>v</td>\n",
       "    </tr>\n",
       "    <tr>\n",
       "      <th>3</th>\n",
       "      <td>0.246</td>\n",
       "      <td>-0.065</td>\n",
       "      <td>v</td>\n",
       "    </tr>\n",
       "    <tr>\n",
       "      <th>4</th>\n",
       "      <td>0.348</td>\n",
       "      <td>0.075</td>\n",
       "      <td>p</td>\n",
       "    </tr>\n",
       "    <tr>\n",
       "      <th>5</th>\n",
       "      <td>0.486</td>\n",
       "      <td>0.020</td>\n",
       "      <td>v</td>\n",
       "    </tr>\n",
       "    <tr>\n",
       "      <th>6</th>\n",
       "      <td>0.488</td>\n",
       "      <td>0.025</td>\n",
       "      <td>v</td>\n",
       "    </tr>\n",
       "    <tr>\n",
       "      <th>7</th>\n",
       "      <td>0.552</td>\n",
       "      <td>0.055</td>\n",
       "      <td>p</td>\n",
       "    </tr>\n",
       "    <tr>\n",
       "      <th>8</th>\n",
       "      <td>0.644</td>\n",
       "      <td>-0.010</td>\n",
       "      <td>v</td>\n",
       "    </tr>\n",
       "    <tr>\n",
       "      <th>9</th>\n",
       "      <td>0.646</td>\n",
       "      <td>-0.010</td>\n",
       "      <td>v</td>\n",
       "    </tr>\n",
       "  </tbody>\n",
       "</table>\n",
       "</div>"
      ],
      "text/plain": [
       "       t      A type\n",
       "0  0.000 -0.115    v\n",
       "1  0.184  0.125    p\n",
       "2  0.244 -0.060    v\n",
       "3  0.246 -0.065    v\n",
       "4  0.348  0.075    p\n",
       "5  0.486  0.020    v\n",
       "6  0.488  0.025    v\n",
       "7  0.552  0.055    p\n",
       "8  0.644 -0.010    v\n",
       "9  0.646 -0.010    v"
      ]
     },
     "execution_count": 264,
     "metadata": {},
     "output_type": "execute_result"
    }
   ],
   "source": [
    "peaks_df['type'] = 'p'\n",
    "valleys_df['type'] = 'v'\n",
    "combined = pd.concat([peaks_df,valleys_df]).sort('t')\n",
    "#print combined.head()\n",
    "\n",
    "event_times = []\n",
    "orig_amps = []\n",
    "types = []\n",
    "for k,df in combined.T.iteritems():\n",
    "    \n",
    "    time = float(df['t'])\n",
    "    event_times.append(time)\n",
    "    \n",
    "    amp = data.loc[time].values\n",
    "    orig_amps.append(amp)\n",
    "    \n",
    "    feature_type = df['type']\n",
    "    types.append(feature_type)\n",
    "    \n",
    "    #print k, \": \", time, amp, feature_type\n",
    "    \n",
    "amps = flatten_list_of_iterables(orig_amps)\n",
    "temp_data = zip(event_times, amps, types)\n",
    "index_list = range(len(event_times))\n",
    "pv_orig_amps = pd.DataFrame(data = temp_data, index = index_list, columns=['t','A','type'])\n",
    "pv_orig_amps.head(10)"
   ]
  },
  {
   "cell_type": "code",
   "execution_count": 265,
   "metadata": {
    "collapsed": false
   },
   "outputs": [
    {
     "name": "stdout",
     "output_type": "stream",
     "text": [
      "(array([ 9, 16,  7,  2,  0,  2,  4, 12,  4,  2]), array([ 0.055 ,  0.1275,  0.2   ,  0.2725,  0.345 ,  0.4175,  0.49  ,\n",
      "        0.5625,  0.635 ,  0.7075,  0.78  ]))\n",
      "\n",
      "(array([34, 24]), array([ 0.055 ,  0.4175,  0.78  ]))\n"
     ]
    }
   ],
   "source": [
    "#separate peaks from valleys\n",
    "groupby_type = pv_orig_amps.groupby('type')\n",
    "p, v = [groupby_type.get_group(i) for i in groupby_type.groups]\n",
    "#print p\n",
    "#now find R features using the np.histogram\n",
    "\n",
    "print np.histogram(p['A'])\n",
    "print\n",
    "two_bin =  np.histogram(p['A'],2)\n",
    "print two_bin\n",
    "import sys\n",
    "sys.stdout.flush()\n",
    "\n",
    "plt.hist(p['A'].values,2)\n",
    "plt.hist(p['A'].values)\n",
    "plt.show()"
   ]
  },
  {
   "cell_type": "code",
   "execution_count": 267,
   "metadata": {
    "collapsed": false
   },
   "outputs": [
    {
     "data": {
      "text/plain": [
       "(Int64Index([ 10,  16,  25,  31,  40,  46,  55,  61,  67,  73,  79,  91,  97,\n",
       "             103, 109, 115, 124, 130, 139, 145, 151, 157, 163, 169],\n",
       "            dtype='int64'),\n",
       " Int64Index([  0,   1,   2,   3,   4,   5,   6,   7,   8,   9, \n",
       "             ...\n",
       "             162, 164, 165, 166, 167, 168, 170, 171, 172, 173],\n",
       "            dtype='int64', length=150))"
      ]
     },
     "execution_count": 267,
     "metadata": {},
     "output_type": "execute_result"
    }
   ],
   "source": [
    "bin_edges = two_bin[1]\n",
    "mid = bin_edges[1]\n",
    "index_of_R_feats = pv_orig_amps[pv_orig_amps['A'] >= mid].index\n",
    "index_of_T_feats = pv_orig_amps[pv_orig_amps['A'] <= mid].index\n",
    "index_of_R_feats, index_of_T_feats"
   ]
  },
  {
   "cell_type": "markdown",
   "metadata": {},
   "source": [
    "####Requires installation of PyBursts (https://github.com/rpoddighe/pybursts)"
   ]
  },
  {
   "cell_type": "code",
   "execution_count": 150,
   "metadata": {
    "collapsed": false
   },
   "outputs": [
    {
     "name": "stdout",
     "output_type": "stream",
     "text": [
      "211\n"
     ]
    },
    {
     "data": {
      "text/html": [
       "<div style=\"max-height:1000px;max-width:1500px;overflow:auto;\">\n",
       "<table border=\"1\" class=\"dataframe\">\n",
       "  <thead>\n",
       "    <tr style=\"text-align: right;\">\n",
       "      <th></th>\n",
       "      <th>h</th>\n",
       "      <th>start</th>\n",
       "      <th>end</th>\n",
       "    </tr>\n",
       "  </thead>\n",
       "  <tbody>\n",
       "    <tr>\n",
       "      <th>0</th>\n",
       "      <td>0</td>\n",
       "      <td>0.002</td>\n",
       "      <td>19.996</td>\n",
       "    </tr>\n",
       "    <tr>\n",
       "      <th>1</th>\n",
       "      <td>1</td>\n",
       "      <td>0.184</td>\n",
       "      <td>0.246</td>\n",
       "    </tr>\n",
       "    <tr>\n",
       "      <th>2</th>\n",
       "      <td>2</td>\n",
       "      <td>0.244</td>\n",
       "      <td>0.246</td>\n",
       "    </tr>\n",
       "    <tr>\n",
       "      <th>3</th>\n",
       "      <td>3</td>\n",
       "      <td>0.244</td>\n",
       "      <td>0.246</td>\n",
       "    </tr>\n",
       "    <tr>\n",
       "      <th>4</th>\n",
       "      <td>4</td>\n",
       "      <td>0.244</td>\n",
       "      <td>0.246</td>\n",
       "    </tr>\n",
       "  </tbody>\n",
       "</table>\n",
       "</div>"
      ],
      "text/plain": [
       "   h  start     end\n",
       "0  0  0.002  19.996\n",
       "1  1  0.184   0.246\n",
       "2  2  0.244   0.246\n",
       "3  3  0.244   0.246\n",
       "4  4  0.244   0.246"
      ]
     },
     "execution_count": 150,
     "metadata": {},
     "output_type": "execute_result"
    }
   ],
   "source": [
    "import pybursts\n",
    "#this doesn't group entire QRST complex, but it does seem to get the QRS complex pretty well (h =1)\n",
    "\n",
    "bursts = pybursts.kleinberg(combined.t, s=2, gamma=.001)\n",
    "#print bursts\n",
    "#b = [i[1:] for i in bursts]\n",
    "bursts_df =  pd.DataFrame(data = bursts, index = range(len(bursts)), columns=['h','start','end'])\n",
    "print len(bursts_df)\n",
    "bursts_df.head()"
   ]
  },
  {
   "cell_type": "code",
   "execution_count": 160,
   "metadata": {
    "collapsed": false
   },
   "outputs": [],
   "source": [
    "ymin, ymax = plt.ylim()\n",
    "maxh = max(bursts_df['h'])\n",
    "sorted_bursts = bursts_df.sort(\"h\")\n",
    "\"\"\"\n",
    "for r,c in zip(sorted_bursts.iterrows(),colors.cnames):#zip(bursts_df.start, bursts_df.end, colors.cnames):#bursts_df.iterrows():\n",
    "    #print r\n",
    "    h,s,e = r[1]\n",
    "    #print h\n",
    "    if h != 1:\n",
    "        continue\n",
    "    plt.vlines(s, ymin, ymax, color=c, lw=maxh-h)\n",
    "    plt.vlines(e, ymin, ymax, color=c, lw=maxh-h)\n",
    "    plt.hlines(ymin, s,e, color=c, lw=maxh-h)\n",
    "    plt.hlines(ymax, s, e, color=c, lw=maxh-h)\n",
    "    #break\"\"\"\n",
    "plt.plot(data.index, data.values,'y', label = \"original\")\n",
    "#plt.plot(hist.x,hist.y, \"k\",label=\"smooth\", lw=2)\n",
    "plt.plot(vx, vy ,\"ro\", label=\"valleys\")\n",
    "plt.plot(px, py, \"co\", label=\"peaks\")\n",
    "\n",
    "plt.xlim(5,10)\n",
    "plt.legend()\n",
    "plt.show()"
   ]
  },
  {
   "cell_type": "code",
   "execution_count": 15,
   "metadata": {
    "collapsed": false
   },
   "outputs": [
    {
     "name": "stdout",
     "output_type": "stream",
     "text": [
      "[[0 4 92]\n",
      " [1.0 33 37]\n",
      " [1.0 76 92]\n",
      " [2.0 76 77]]\n"
     ]
    }
   ],
   "source": [
    "import pybursts\n",
    "\n",
    "offsets = [4, 17, 23, 27, 33, 35, 37, 76, 77, 82, 84, 88, 90, 92]\n",
    "print pybursts.kleinberg(offsets, s=2, gamma=0.1)"
   ]
  },
  {
   "cell_type": "markdown",
   "metadata": {},
   "source": [
    "#Using BASS"
   ]
  },
  {
   "cell_type": "code",
   "execution_count": 1,
   "metadata": {
    "collapsed": false
   },
   "outputs": [
    {
     "name": "stdout",
     "output_type": "stream",
     "text": [
      "BASS ready!\n",
      "BASS ready!\n"
     ]
    },
    {
     "data": {
      "text/plain": [
       "<module 'bass' from '/Users/morganfine-morris/Documents/Repos/bass/bass.pyc'>"
      ]
     },
     "execution_count": 1,
     "metadata": {},
     "output_type": "execute_result"
    }
   ],
   "source": [
    "#provide directory in which BASS is located\n",
    "bass_folder_loc = '/Users/morganfine-morris/Documents/Repos/bass'\n",
    "#uncomment '%matplotlib inline' below see plots inline (and remove blocking). \n",
    "#If you change your mind after running it, you must restart kernel\n",
    "#%matplotlib inline \n",
    "#%matplotlib qt\n",
    "\n",
    "import sys\n",
    "import os\n",
    "import os.path as path\n",
    "import pandas as pd\n",
    "import matplotlib.pyplot as plt\n",
    "import numpy as np\n",
    "# append the path to the folder containing bass \n",
    "# (which should prob. contain a __init__.py file.) to pythonpath\n",
    "sys.path.append(bass_folder_loc) \n",
    "import bass\n",
    "reload(bass)"
   ]
  },
  {
   "cell_type": "code",
   "execution_count": 34,
   "metadata": {
    "collapsed": true
   },
   "outputs": [],
   "source": [
    "#initialize new file\n",
    "Data = {}\n",
    "Settings = {}\n",
    "Results ={}\n",
    "\n",
    "############################################################################################\n",
    "#manual Setting block\n",
    "Settings['folder']= r\"./\"#Physionet_ECGs\"\n",
    "Settings['Label'] = 'p01_r01_f.txt'#r'sel_100_tabsep.csv'\n",
    "Settings['Output Folder'] = 'output'\n",
    "\n",
    "#transformation Settings\n",
    "Settings['Absolute Value'] = True #Must be True if Savitzky-Golay is being used\n",
    "\n",
    "Settings['Bandpass Highcut'] =  'none'#in Hz\n",
    "Settings['Bandpass Lowcut'] = 'none' #in Hz\n",
    "Settings['Bandpass Polynomial'] = 'none' #integer\n",
    "\n",
    "Settings['Linear Fit'] = False #between 0 and 1 on the whole time series\n",
    "Settings['Linear Fit-Rolling R'] = 0.75 #between 0 and 1\n",
    "Settings['Linear Fit-Rolling Window'] = 1000 #window for rolling mean for fit, unit is index not time\n",
    "Settings['Relative Baseline'] = 0 #default 0, unless data is normalized, then 1.0. Can be any float\n",
    "\n",
    "#integer\n",
    "Settings['Savitzky-Golay Polynomial'] = 4 \n",
    "#must be odd. units are index not time\n",
    "Settings['Savitzky-Golay Window Size'] = 15 \n",
    "\n",
    "#Baseline Settings\n",
    "Settings['Baseline Type'] = r'rolling' #'linear', 'rolling', or 'static'\n",
    "#For Linear\n",
    "Settings['Baseline Start'] = 10.04 #start time in seconds\n",
    "Settings['Baseline Stop'] = 10.18 #end time in seconds\n",
    "#For Rolling\n",
    "Settings['Rolling Baseline Window'] = 1 # in seconds. leave as 'none' if linear or static\n",
    "\n",
    "#Peaks\n",
    "Settings['Delta'] = .2#0.25\n",
    "Settings['Peak Minimum'] = -1 #amplitude value\n",
    "Settings['Peak Maximum'] = 1 #amplitude value\n",
    "\n",
    "#Bursts\n",
    "Settings['Burst Area'] = False #calculate burst area\n",
    "Settings['Exclude Edges'] = False #False to keep edges, True to discard them\n",
    "Settings['Inter-event interval minimum (seconds)'] = 0.00100 #only for bursts, not for peaks\n",
    "Settings['Maximum Burst Duration (s)'] = 10 \n",
    "Settings['Minimum Burst Duration (s)'] = 0\n",
    "Settings['Minimum Peak Number'] = 1 #minimum number of peaks/burst, integer\n",
    "#Settings['Threshold']= 4.9#.3 #linear: proportion of baseline. \n",
    "                           #static: literal value.\n",
    "                           #rolling, linear ammount grater than rolling baseline at each time point.\n",
    "if Settings['Baseline Type']=='rolling':\n",
    "    Settings['Threshold']= .01 #linear: proportion of baseline. \n",
    "elif Settings['Baseline Type']=='static':\n",
    "    Settings['Threshold']= 0.1#4.9 #linear: proportion of baseline. \n",
    "else:\n",
    "    pass\n",
    "#Outputs\n",
    "Settings['Generate Graphs'] = False #create and save the fancy graph outputs\n",
    "\n",
    "\n",
    "#Settings that you should not change unless you are a super advanced user:\n",
    "#These are settings that are still in development\n",
    "Settings['Graph LCpro events'] = False\n",
    "Settings['File Type'] = r'Plain' #'LCPro', 'ImageJ', 'SIMA', 'Plain', 'Morgan'\n",
    "Settings['Milliseconds'] = False\n",
    "############################################################################################"
   ]
  },
  {
   "cell_type": "code",
   "execution_count": 35,
   "metadata": {
    "collapsed": false
   },
   "outputs": [
    {
     "data": {
      "text/html": [
       "<div style=\"max-height:1000px;max-width:1500px;overflow:auto;\">\n",
       "<table border=\"1\" class=\"dataframe\">\n",
       "  <thead>\n",
       "    <tr style=\"text-align: right;\">\n",
       "      <th></th>\n",
       "      <th>0</th>\n",
       "    </tr>\n",
       "  </thead>\n",
       "  <tbody>\n",
       "    <tr>\n",
       "      <th>0.016</th>\n",
       "      <td>-0.115</td>\n",
       "    </tr>\n",
       "    <tr>\n",
       "      <th>0.018</th>\n",
       "      <td>-0.115</td>\n",
       "    </tr>\n",
       "    <tr>\n",
       "      <th>0.020</th>\n",
       "      <td>-0.110</td>\n",
       "    </tr>\n",
       "    <tr>\n",
       "      <th>0.022</th>\n",
       "      <td>-0.110</td>\n",
       "    </tr>\n",
       "    <tr>\n",
       "      <th>0.024</th>\n",
       "      <td>-0.110</td>\n",
       "    </tr>\n",
       "  </tbody>\n",
       "</table>\n",
       "</div>"
      ],
      "text/plain": [
       "           0\n",
       "0.016 -0.115\n",
       "0.018 -0.115\n",
       "0.020 -0.110\n",
       "0.022 -0.110\n",
       "0.024 -0.110"
      ]
     },
     "execution_count": 35,
     "metadata": {},
     "output_type": "execute_result"
    }
   ],
   "source": [
    "#remove header from file and resave file (overwrites original data)\n",
    "path_file = path.join(Settings['folder'], Settings['Label'])\n",
    "file_data = pd.DataFrame.from_csv(path_file, header=0, sep=\"\\t\")\n",
    "\n",
    "try:\n",
    "    new = pd.DataFrame(file_data.values, file_data.index.values, dtype=float)\n",
    "except:\n",
    "    #its a string, remove it\n",
    "    new = pd.DataFrame(file_data.values[1:], file_data.index.values[1:])\n",
    "\n",
    "new.to_csv(path_file, sep='\\t',header=False)\n",
    "new.head()"
   ]
  },
  {
   "cell_type": "markdown",
   "metadata": {},
   "source": [
    "#Data Processing (not file specific)"
   ]
  },
  {
   "cell_type": "code",
   "execution_count": 24,
   "metadata": {
    "collapsed": false
   },
   "outputs": [
    {
     "name": "stdout",
     "output_type": "stream",
     "text": [
      "BASS ready!\n",
      "Made plots folder\n",
      "Data Loaded\n",
      "Sampling Rate= 0.002 (sec/frame)\n",
      "p01_r01_f.txt is 19.988 seconds long.\n"
     ]
    }
   ],
   "source": [
    "reload(bass)\n",
    "Data, Settings = bass.load_wrapper({},Settings)\n",
    "Data, Settings = bass.transform_wrapper(Data, Settings) #b/c I can't find smoothing settings that don't make it worse\n",
    "#Data['trans'] = Data['original']\n",
    "Data, Settings, Results = bass.baseline_wrapper(Data, Settings, Results)\n",
    "#event detection\n",
    "Results = bass.event_peakdet_wrapper(Data, Settings, Results)\n",
    "Results = bass.event_burstdet_wrapper(Data, Settings, Results)\n",
    "\n",
    "#clip the data from s seconds to e seconds\n",
    "s=1\n",
    "e=50\n",
    "Data_clipped = {'original':Data['original'][s:e], 'trans':Data['trans'][s:e]}\n",
    "#print Data_clipped\n",
    "# graph_ts calls show, so unless you ran %matplotlib inline, \n",
    "# notebook will block until you close the plot window\n",
    "#Data['original']['Mean2'][s:e].plot()\n",
    "#plt.show()\n",
    "axes = bass.graph_ts(Data_clipped, Settings, Results, roi=\"Mean1\") \n",
    "plt.show()"
   ]
  },
  {
   "cell_type": "code",
   "execution_count": 192,
   "metadata": {
    "collapsed": false
   },
   "outputs": [],
   "source": [
    "#spectrogram\n",
    "version = 'original'\n",
    "key = 'Mean1'\n",
    "bass.spectogram(version, key, Data, Settings, Results)\n",
    "plt.show()"
   ]
  },
  {
   "cell_type": "code",
   "execution_count": 9,
   "metadata": {
    "collapsed": false
   },
   "outputs": [
    {
     "name": "stdout",
     "output_type": "stream",
     "text": [
      "       Peaks Amplitude  Intervals\n",
      "Time                             \n",
      "0.704            0.625      0.234\n",
      "0.938            0.175      0.516\n",
      "1.454            0.595      0.220\n",
      "1.674            0.175      0.594\n",
      "2.268            0.735      0.222\n",
      "Time\n",
      "0.704    0.625\n",
      "0.938    0.175\n",
      "1.454    0.595\n",
      "1.674    0.175\n",
      "2.268    0.735\n",
      "Name: Peaks Amplitude, dtype: float64\n",
      "0.175    4\n",
      "0.620    4\n",
      "0.210    3\n",
      "0.550    3\n",
      "0.165    3\n",
      "0.650    2\n",
      "0.195    2\n",
      "0.610    2\n",
      "0.575    1\n",
      "0.615    1\n",
      "0.690    1\n",
      "0.150    1\n",
      "0.285    1\n",
      "0.595    1\n",
      "0.495    1\n",
      "0.180    1\n",
      "0.490    1\n",
      "0.600    1\n",
      "0.160    1\n",
      "0.670    1\n",
      "0.245    1\n",
      "0.655    1\n",
      "0.215    1\n",
      "0.200    1\n",
      "0.795    1\n",
      "0.185    1\n",
      "0.480    1\n",
      "0.225    1\n",
      "0.325    1\n",
      "0.735    1\n",
      "0.190    1\n",
      "0.625    1\n",
      "dtype: int64\n",
      "[ 0.15    0.4725  0.795 ] [-0.235 -0.135 -0.035]\n"
     ]
    }
   ],
   "source": [
    "for key in ['Mean1']:\n",
    "    #represent what a complete feature looks like for this particular ECG\n",
    "    # s = burst start, e = burst end, v = valley, p=peak\n",
    "    features_key = 'vspevspe'\n",
    "    ''\n",
    "    \n",
    "    #count number of peaks and valleys in the features key\n",
    "    peak_count = features_key.count('p')\n",
    "    valley_count = features_key.count('v')\n",
    "\n",
    "    \n",
    "    peaks_df = Results['Peaks'][key].dropna() # R and T wave locations\n",
    "    valleys_df = Results['Valleys'][key].dropna() # Q and S wave locations\n",
    "    \n",
    "    # make bursts_df which contains 'Burst Start' vals and 'Burst End' vals\n",
    "    try:\n",
    "        burst_ends = Results['Bursts'][key]['Burst End']\n",
    "        burst_starts = Results['Bursts'][key]['Burst Start']\n",
    "        bursts_df = pd.concat([burst_starts, burst_ends], axis=1)\n",
    "        \n",
    "        bursts_df.columns = ['Start','End']\n",
    "    except:\n",
    "        print \"No bursts.\"\n",
    "        \n",
    "    #get peak and valley times\n",
    "    print (peaks_df.head())\n",
    "    peak_time = peaks_df.index.values\n",
    "    valley_time = valleys_df.index.values\n",
    "    \n",
    "print peaks_df[\"Peaks Amplitude\"].head()\n",
    "n, pEdges = np.histogram(peaks_df[\"Peaks Amplitude\"],bins=peak_count)\n",
    "n, vEdges = np.histogram(valleys_df,bins=valley_count)\n",
    "print pEdges, vEdges"
   ]
  },
  {
   "cell_type": "code",
   "execution_count": null,
   "metadata": {
    "collapsed": true
   },
   "outputs": [],
   "source": []
  },
  {
   "cell_type": "markdown",
   "metadata": {},
   "source": [
    "#Getting Q, R, S, and T in the DataFrame and Ordered according to Time"
   ]
  },
  {
   "cell_type": "markdown",
   "metadata": {},
   "source": [
    "Once you can see that Q, R, S, and T are being consistently detected (T should be marked by the burst ends) you can do the below process to label them. "
   ]
  },
  {
   "cell_type": "code",
   "execution_count": 193,
   "metadata": {
    "collapsed": false
   },
   "outputs": [
    {
     "ename": "KeyError",
     "evalue": "'Mean1'",
     "output_type": "error",
     "traceback": [
      "\u001b[0;31m---------------------------------------------------------------------------\u001b[0m",
      "\u001b[0;31mKeyError\u001b[0m                                  Traceback (most recent call last)",
      "\u001b[0;32m<ipython-input-193-30ee97772687>\u001b[0m in \u001b[0;36m<module>\u001b[0;34m()\u001b[0m\n\u001b[1;32m      1\u001b[0m \u001b[0mpeaks_df\u001b[0m \u001b[0;34m=\u001b[0m \u001b[0mResults\u001b[0m\u001b[0;34m[\u001b[0m\u001b[0;34m'Peaks'\u001b[0m\u001b[0;34m]\u001b[0m\u001b[0;34m[\u001b[0m\u001b[0;34m'Mean1'\u001b[0m\u001b[0;34m]\u001b[0m \u001b[0;31m# R wave location\u001b[0m\u001b[0;34m\u001b[0m\u001b[0m\n\u001b[1;32m      2\u001b[0m \u001b[0mvalleys_df\u001b[0m \u001b[0;34m=\u001b[0m \u001b[0mResults\u001b[0m\u001b[0;34m[\u001b[0m\u001b[0;34m'Valleys'\u001b[0m\u001b[0;34m]\u001b[0m\u001b[0;34m[\u001b[0m\u001b[0;34m'Mean1'\u001b[0m\u001b[0;34m]\u001b[0m \u001b[0;31m# Q and S wave locations\u001b[0m\u001b[0;34m\u001b[0m\u001b[0m\n\u001b[0;32m----> 3\u001b[0;31m \u001b[0mburst_ends\u001b[0m \u001b[0;34m=\u001b[0m \u001b[0mResults\u001b[0m\u001b[0;34m[\u001b[0m\u001b[0;34m'Bursts'\u001b[0m\u001b[0;34m]\u001b[0m\u001b[0;34m[\u001b[0m\u001b[0;34m'Mean1'\u001b[0m\u001b[0;34m]\u001b[0m\u001b[0;34m[\u001b[0m\u001b[0;34m'Burst End'\u001b[0m\u001b[0;34m]\u001b[0m \u001b[0;31m#burst ends indicate approx. T wave location\u001b[0m\u001b[0;34m\u001b[0m\u001b[0m\n\u001b[0m\u001b[1;32m      4\u001b[0m \u001b[0;34m\u001b[0m\u001b[0m\n\u001b[1;32m      5\u001b[0m \u001b[0;31m# make new DataFrame for Burst Ends which is indexed by Burst Ends\u001b[0m\u001b[0;34m\u001b[0m\u001b[0;34m\u001b[0m\u001b[0m\n",
      "\u001b[0;31mKeyError\u001b[0m: 'Mean1'"
     ]
    }
   ],
   "source": [
    "peaks_df = Results['Peaks']['Mean1'] # R wave location\n",
    "valleys_df = Results['Valleys']['Mean1'] # Q and S wave locations\n",
    "burst_ends = Results['Bursts']['Mean1']['Burst End'] #burst ends indicate approx. T wave location\n",
    "\n",
    "# make new DataFrame for Burst Ends which is indexed by Burst Ends \n",
    "# b.c. Results['Bursts']['Mean1'] is indexed by Burst Start.\n",
    "bursts_df = pd.DataFrame(burst_ends.values, index=burst_ends.values, columns=['Burst Ends'])\n",
    "\n",
    "#combine peaks and valleys dfs and sort by time\n",
    "# this will allow us to easily find peaks, \n",
    "# and find valleys before and after.\n",
    "peaks_df['time'] = peaks_df.index\n",
    "valleys_df['time'] = valleys_df.index\n",
    "bursts_df['time'] = bursts_df.index\n",
    "peaks_df['amplitude'] = peaks_df[\"Peaks Amplitude\"]\n",
    "valleys_df['amplitude'] = valleys_df[\"Valley Amplitude\"]\n",
    "bursts_df['amplitude'] = float(Settings['Threshold'])\n",
    "\n",
    "#Label R and T. Unfortunatly, setting Q and S (the valleys) is much harder (See next cell).\n",
    "peaks_df['letter'] = 'R'\n",
    "bursts_df['letter'] = \"T\"\n",
    "\n",
    "combined = peaks_df.append(valleys_df).sort('time')\n",
    "\n",
    "#now combine w. Burst Ends and remove unnecessary columns, sort by time again\n",
    "times = combined.append(bursts_df).drop([u'Burst Ends', u'Intervals', u'Peaks Amplitude', u'Valley Amplitude'],axis=1)\n",
    "sorted_times = times.sort('time')\n",
    "#remove na vals only from amplitude col.\n",
    "sorted_times['amplitude'] = sorted_times['amplitude']\n",
    "sorted_times.head()"
   ]
  },
  {
   "cell_type": "markdown",
   "metadata": {},
   "source": [
    "The following is a hack-y way to set the Q and S valleys, but it works. Later I might try to do it with booleans. <b>Feel free to try another way to do this!!! (Actually, really, please do. This method is pretty slow.)</b>"
   ]
  },
  {
   "cell_type": "code",
   "execution_count": 165,
   "metadata": {
    "collapsed": false
   },
   "outputs": [
    {
     "data": {
      "text/html": [
       "<div style=\"max-height:1000px;max-width:1500px;overflow:auto;\">\n",
       "<table border=\"1\" class=\"dataframe\">\n",
       "  <thead>\n",
       "    <tr style=\"text-align: right;\">\n",
       "      <th></th>\n",
       "      <th>amplitude</th>\n",
       "      <th>letter</th>\n",
       "      <th>time</th>\n",
       "    </tr>\n",
       "    <tr>\n",
       "      <th>num</th>\n",
       "      <th></th>\n",
       "      <th></th>\n",
       "      <th></th>\n",
       "    </tr>\n",
       "  </thead>\n",
       "  <tbody>\n",
       "    <tr>\n",
       "      <th>0</th>\n",
       "      <td>-0.487</td>\n",
       "      <td>Q</td>\n",
       "      <td>0.12950</td>\n",
       "    </tr>\n",
       "    <tr>\n",
       "      <th>1</th>\n",
       "      <td>1.410</td>\n",
       "      <td>R</td>\n",
       "      <td>0.13475</td>\n",
       "    </tr>\n",
       "    <tr>\n",
       "      <th>2</th>\n",
       "      <td>-0.883</td>\n",
       "      <td>S</td>\n",
       "      <td>0.13825</td>\n",
       "    </tr>\n",
       "    <tr>\n",
       "      <th>3</th>\n",
       "      <td>0.030</td>\n",
       "      <td>T</td>\n",
       "      <td>0.15575</td>\n",
       "    </tr>\n",
       "    <tr>\n",
       "      <th>4</th>\n",
       "      <td>-0.455</td>\n",
       "      <td>Q</td>\n",
       "      <td>0.30125</td>\n",
       "    </tr>\n",
       "    <tr>\n",
       "      <th>5</th>\n",
       "      <td>1.514</td>\n",
       "      <td>R</td>\n",
       "      <td>0.30700</td>\n",
       "    </tr>\n",
       "    <tr>\n",
       "      <th>6</th>\n",
       "      <td>-0.934</td>\n",
       "      <td>S</td>\n",
       "      <td>0.31050</td>\n",
       "    </tr>\n",
       "    <tr>\n",
       "      <th>7</th>\n",
       "      <td>0.030</td>\n",
       "      <td>T</td>\n",
       "      <td>0.32575</td>\n",
       "    </tr>\n",
       "    <tr>\n",
       "      <th>8</th>\n",
       "      <td>-0.376</td>\n",
       "      <td>Q</td>\n",
       "      <td>0.47350</td>\n",
       "    </tr>\n",
       "    <tr>\n",
       "      <th>9</th>\n",
       "      <td>1.404</td>\n",
       "      <td>R</td>\n",
       "      <td>0.47900</td>\n",
       "    </tr>\n",
       "    <tr>\n",
       "      <th>10</th>\n",
       "      <td>-1.003</td>\n",
       "      <td>S</td>\n",
       "      <td>0.48225</td>\n",
       "    </tr>\n",
       "    <tr>\n",
       "      <th>11</th>\n",
       "      <td>0.030</td>\n",
       "      <td>T</td>\n",
       "      <td>0.49500</td>\n",
       "    </tr>\n",
       "    <tr>\n",
       "      <th>12</th>\n",
       "      <td>-0.116</td>\n",
       "      <td>NaN</td>\n",
       "      <td>0.59850</td>\n",
       "    </tr>\n",
       "  </tbody>\n",
       "</table>\n",
       "</div>"
      ],
      "text/plain": [
       "     amplitude letter     time\n",
       "num                           \n",
       "0       -0.487      Q  0.12950\n",
       "1        1.410      R  0.13475\n",
       "2       -0.883      S  0.13825\n",
       "3        0.030      T  0.15575\n",
       "4       -0.455      Q  0.30125\n",
       "5        1.514      R  0.30700\n",
       "6       -0.934      S  0.31050\n",
       "7        0.030      T  0.32575\n",
       "8       -0.376      Q  0.47350\n",
       "9        1.404      R  0.47900\n",
       "10      -1.003      S  0.48225\n",
       "11       0.030      T  0.49500\n",
       "12      -0.116    NaN  0.59850"
      ]
     },
     "execution_count": 165,
     "metadata": {},
     "output_type": "execute_result"
    }
   ],
   "source": [
    "#reindex by integer\n",
    "sorted_times['num'] = range(len(sorted_times))\n",
    "sorted_times_reindexed = sorted_times.set_index('num')\n",
    "\n",
    "letters = pd.DataFrame(index=sorted_times_reindexed.index, columns=['letters'], dtype=str)\n",
    "for i in sorted_times_reindexed.index:\n",
    "    \n",
    "    #try to get the previous and next values with error handeling for edge cases\n",
    "    try:\n",
    "        prev_value = sorted_times_reindexed.loc[i-1, \"letter\"]\n",
    "    except:\n",
    "        prev_value=''\n",
    "    try:\n",
    "        next_value = sorted_times_reindexed.loc[i+1,\"letter\"]\n",
    "    except:\n",
    "        next_value=\"\"\n",
    "    \n",
    "    #letters['time'][i] = sorted_times_reindexed.loc[i,'time']\n",
    "    if (next_value == \"T\") and (prev_value == \"R\"):\n",
    "        letters['letters'][i] = \"S\"\n",
    "    elif next_value == \"R\":\n",
    "        letters['letters'][i] = \"Q\"\n",
    "    else:\n",
    "        letters['letters'][i] = sorted_times_reindexed.loc[i,'letter']\n",
    "        \n",
    "sorted_times_reindexed['letter'] = letters['letters']\n",
    "sorted_times_reindexed.head(13) #see that valleys which are not immediately before or after R are left as NaN!"
   ]
  },
  {
   "cell_type": "code",
   "execution_count": 147,
   "metadata": {
    "collapsed": false
   },
   "outputs": [
    {
     "data": {
      "text/html": [
       "<div style=\"max-height:1000px;max-width:1500px;overflow:auto;\">\n",
       "<table border=\"1\" class=\"dataframe\">\n",
       "  <thead>\n",
       "    <tr style=\"text-align: right;\">\n",
       "      <th></th>\n",
       "      <th>amplitude</th>\n",
       "      <th>letter</th>\n",
       "    </tr>\n",
       "    <tr>\n",
       "      <th>time</th>\n",
       "      <th></th>\n",
       "      <th></th>\n",
       "    </tr>\n",
       "  </thead>\n",
       "  <tbody>\n",
       "    <tr>\n",
       "      <th>0.12950</th>\n",
       "      <td>-0.487</td>\n",
       "      <td>Q</td>\n",
       "    </tr>\n",
       "    <tr>\n",
       "      <th>0.13475</th>\n",
       "      <td>1.410</td>\n",
       "      <td>R</td>\n",
       "    </tr>\n",
       "    <tr>\n",
       "      <th>0.13825</th>\n",
       "      <td>-0.883</td>\n",
       "      <td>S</td>\n",
       "    </tr>\n",
       "    <tr>\n",
       "      <th>0.15575</th>\n",
       "      <td>0.030</td>\n",
       "      <td>T</td>\n",
       "    </tr>\n",
       "    <tr>\n",
       "      <th>0.30125</th>\n",
       "      <td>-0.455</td>\n",
       "      <td>Q</td>\n",
       "    </tr>\n",
       "  </tbody>\n",
       "</table>\n",
       "</div>"
      ],
      "text/plain": [
       "         amplitude letter\n",
       "time                     \n",
       "0.12950     -0.487      Q\n",
       "0.13475      1.410      R\n",
       "0.13825     -0.883      S\n",
       "0.15575      0.030      T\n",
       "0.30125     -0.455      Q"
      ]
     },
     "execution_count": 147,
     "metadata": {},
     "output_type": "execute_result"
    }
   ],
   "source": [
    "sorted_times_time_indexed = sorted_times_reindexed.set_index('time')\n",
    "final = sorted_times_time_indexed.dropna()\n",
    "final.head()"
   ]
  },
  {
   "cell_type": "code",
   "execution_count": 153,
   "metadata": {
    "collapsed": false
   },
   "outputs": [],
   "source": [
    "s1=0\n",
    "e1=20\n",
    "final[s1:e1].plot()\n",
    "plt.show()"
   ]
  }
 ],
 "metadata": {
  "kernelspec": {
   "display_name": "Python 2",
   "language": "python",
   "name": "python2"
  },
  "language_info": {
   "codemirror_mode": {
    "name": "ipython",
    "version": 2
   },
   "file_extension": ".py",
   "mimetype": "text/x-python",
   "name": "python",
   "nbconvert_exporter": "python",
   "pygments_lexer": "ipython2",
   "version": "2.7.10"
  }
 },
 "nbformat": 4,
 "nbformat_minor": 0
}
