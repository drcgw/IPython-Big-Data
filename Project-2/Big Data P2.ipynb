{
 "cells": [
  {
   "cell_type": "markdown",
   "metadata": {},
   "source": [
    "##Warning! Almost nothing is in functions"
   ]
  },
  {
   "cell_type": "code",
   "execution_count": 41,
   "metadata": {
    "collapsed": false
   },
   "outputs": [],
   "source": [
    "#provide directory in which BASS is located\n",
    "bass_folder_loc = '/Users/morganfine-morris/Documents/Repos/bass'\n",
    "#uncomment '%matplotlib inline' below see plots inline (and remove blocking). \n",
    "#If you change your mind after running it, you must restart kernel\n",
    "#%matplotlib inline \n",
    "\n",
    "import sys\n",
    "import os\n",
    "import os.path as path\n",
    "import pandas as pd\n",
    "import matplotlib.pyplot as plt\n",
    "# append the path to the folder containing bass \n",
    "# (which should prob. contain a __init__.py file.) to pythonpath\n",
    "sys.path.append(bass_folder_loc) \n",
    "import bass"
   ]
  },
  {
   "cell_type": "code",
   "execution_count": 42,
   "metadata": {
    "collapsed": false
   },
   "outputs": [
    {
     "data": {
      "text/plain": [
       "[(0, '.git'),\n",
       " (1, '.ipynb_checkpoints'),\n",
       " (2, '__init__.py'),\n",
       " (3, '__init__.pyc'),\n",
       " (4, 'Bass - Flowchart.jpg'),\n",
       " (5, 'Bass - Flowchart.odp'),\n",
       " (6, 'Bass - Flowchart.pdf'),\n",
       " (7, 'bass.py'),\n",
       " (8, 'bass.pyc'),\n",
       " (9, 'Change Log'),\n",
       " (10, 'Kitchen Sink-Bass.ipynb'),\n",
       " (11, 'licence.txt'),\n",
       " (12, 'pyeeg.py'),\n",
       " (13, 'pyeeg.pyc'),\n",
       " (14, 'rat34_ECG.txt'),\n",
       " (15, 'rat34_Settings.csv'),\n",
       " (16, 'README.md'),\n",
       " (17, 'Single Wave- Basic.ipynb'),\n",
       " (18, 'Single Wave- Interactive.ipynb'),\n",
       " (19, 'Single Wave-Interactive Protocol.txt')]"
      ]
     },
     "execution_count": 42,
     "metadata": {},
     "output_type": "execute_result"
    }
   ],
   "source": [
    "#find data file\n",
    "data_folder = bass_folder_loc\n",
    "dir_content = os.listdir(data_folder)\n",
    "list(enumerate(dir_content))"
   ]
  },
  {
   "cell_type": "code",
   "execution_count": 43,
   "metadata": {
    "collapsed": false
   },
   "outputs": [],
   "source": [
    "data_file = dir_content[14]\n",
    "settings_file = dir_content[15]"
   ]
  },
  {
   "cell_type": "code",
   "execution_count": 44,
   "metadata": {
    "collapsed": false
   },
   "outputs": [
    {
     "data": {
      "text/plain": [
       "Absolute Value                                                                     True\n",
       "Bandpass Highcut                                                                   none\n",
       "Bandpass Lowcut                                                                    none\n",
       "Bandpass Polynomial                                                                none\n",
       "Baseline Type                                                                    static\n",
       "Burst Area                                                                        False\n",
       "Delta                                                                              0.25\n",
       "Exclude Edges                                                                      True\n",
       "File Type                                                                         Plain\n",
       "Generate Graphs                                                                   False\n",
       "Graph LCpro events                                                                False\n",
       "Inter-event interval minimum (seconds)                                             0.01\n",
       "Label                                                                     rat34_ECG.txt\n",
       "Linear Fit                                                                        False\n",
       "Linear Fit-Rolling R                                                               0.75\n",
       "Linear Fit-Rolling Window                                                          1000\n",
       "Maximum Burst Duration (s)                                                           10\n",
       "Milliseconds                                                                      False\n",
       "Minimum Burst Duration (s)                                                            0\n",
       "Minimum Peak Number                                                                   1\n",
       "Output Folder                                                                    output\n",
       "Peak Maximum                                                                          0\n",
       "Peak Minimum                                                                        0.7\n",
       "Relative Baseline                                                                     0\n",
       "Rolling Baseline Window                                                            none\n",
       "Sample Rate (s/frame)                                                           0.00025\n",
       "Savitzky-Golay Polynomial                                                             4\n",
       "Savitzky-Golay Window Size                                                          251\n",
       "Threshold                                                                          0.03\n",
       "folder                                    /Users/morganfine-morris/Documents/Repos/bass\n",
       "plots folder                                                                     output\n",
       "dtype: object"
      ]
     },
     "execution_count": 44,
     "metadata": {},
     "output_type": "execute_result"
    }
   ],
   "source": [
    "Data = {}\n",
    "Results = {}\n",
    "Settings = {}\n",
    "\n",
    "#process Settings file (bass load_settings func file didn't seem to work.)\n",
    "settings_file_path = path.join(data_folder,settings_file)\n",
    "for i in open(settings_file_path):\n",
    "    stripped =  i.strip()\n",
    "    elements = stripped.split(\"\\n\")\n",
    "    for elem in elements:\n",
    "        if 'Settings' in elem:\n",
    "            continue\n",
    "        name, val = elem.split('\\t')\n",
    "        try:\n",
    "            val = int(val)\n",
    "        except:\n",
    "            try:\n",
    "                val=float(val)\n",
    "            except:\n",
    "                pass\n",
    "            \n",
    "        Settings[name] = val\n",
    "        \n",
    "Settings['plots folder'] = 'output'\n",
    "Settings['Output Folder'] = 'output'\n",
    "Settings['folder'] = data_folder\n",
    "Settings[\"Minimum Peak Number\"] = 1\n",
    "Settings['Threshold'] = 0.03#0.04 #this catches most of the T peaks\n",
    "#these just make it worse\n",
    "#Settings['Savitzky-Golay Window Size']=251\n",
    "#Settings['Savitzky-Golay Polynomial'] = 6\n",
    "pd.Series(Settings) #view settings"
   ]
  },
  {
   "cell_type": "code",
   "execution_count": 45,
   "metadata": {
    "collapsed": false
   },
   "outputs": [
    {
     "name": "stdout",
     "output_type": "stream",
     "text": [
      "Made plots folder\n",
      "Data Loaded\n",
      "Sampling Rate= 0.00025 (sec/frame)\n",
      "rat34_ECG.txt is 606.94975 seconds long.\n"
     ]
    }
   ],
   "source": [
    "Data, Settings = bass.load_wrapper({},Settings)\n",
    "#Data, Settings = bass.transform_wrapper(Data, Settings) #b/c I can't find smoothing settings that don't make it worse\n",
    "Data['trans'] = Data['original']\n",
    "Data, Settings, Results = bass.baseline_wrapper(Data, Settings, Results)"
   ]
  },
  {
   "cell_type": "code",
   "execution_count": 50,
   "metadata": {
    "collapsed": false
   },
   "outputs": [],
   "source": [
    "#event detection\n",
    "Results = bass.event_peakdet_wrapper(Data, Settings, Results)\n",
    "Results = bass.event_burstdet_wrapper(Data, Settings, Results)\n",
    "\n",
    "#clip the data from s seconds to e seconds\n",
    "s=1\n",
    "e=20\n",
    "Data_clipped = {'original':Data['original'][s:e], 'trans':Data['trans'][s:e]}\n",
    "\n",
    "# graph_ts calls show, so unless you ran %matplotlib inline, \n",
    "# notebook will block until you close the plot window\n",
    "bass.graph_ts(Data_clipped, Settings, Results) "
   ]
  },
  {
   "cell_type": "markdown",
   "metadata": {},
   "source": [
    "#Getting Q, R, S, and T in the DataFrame and Ordered according to Time"
   ]
  },
  {
   "cell_type": "code",
   "execution_count": 164,
   "metadata": {
    "collapsed": false
   },
   "outputs": [
    {
     "data": {
      "text/html": [
       "<div style=\"max-height:1000px;max-width:1500px;overflow:auto;\">\n",
       "<table border=\"1\" class=\"dataframe\">\n",
       "  <thead>\n",
       "    <tr style=\"text-align: right;\">\n",
       "      <th></th>\n",
       "      <th>amplitude</th>\n",
       "      <th>letter</th>\n",
       "      <th>time</th>\n",
       "    </tr>\n",
       "    <tr>\n",
       "      <th>Time</th>\n",
       "      <th></th>\n",
       "      <th></th>\n",
       "      <th></th>\n",
       "    </tr>\n",
       "  </thead>\n",
       "  <tbody>\n",
       "    <tr>\n",
       "      <th>0.12950</th>\n",
       "      <td>-0.487</td>\n",
       "      <td>NaN</td>\n",
       "      <td>0.12950</td>\n",
       "    </tr>\n",
       "    <tr>\n",
       "      <th>0.13475</th>\n",
       "      <td>1.410</td>\n",
       "      <td>R</td>\n",
       "      <td>0.13475</td>\n",
       "    </tr>\n",
       "    <tr>\n",
       "      <th>0.13825</th>\n",
       "      <td>-0.883</td>\n",
       "      <td>NaN</td>\n",
       "      <td>0.13825</td>\n",
       "    </tr>\n",
       "    <tr>\n",
       "      <th>0.15575</th>\n",
       "      <td>0.030</td>\n",
       "      <td>T</td>\n",
       "      <td>0.15575</td>\n",
       "    </tr>\n",
       "    <tr>\n",
       "      <th>0.30125</th>\n",
       "      <td>-0.455</td>\n",
       "      <td>NaN</td>\n",
       "      <td>0.30125</td>\n",
       "    </tr>\n",
       "  </tbody>\n",
       "</table>\n",
       "</div>"
      ],
      "text/plain": [
       "         amplitude letter     time\n",
       "Time                              \n",
       "0.12950     -0.487    NaN  0.12950\n",
       "0.13475      1.410      R  0.13475\n",
       "0.13825     -0.883    NaN  0.13825\n",
       "0.15575      0.030      T  0.15575\n",
       "0.30125     -0.455    NaN  0.30125"
      ]
     },
     "execution_count": 164,
     "metadata": {},
     "output_type": "execute_result"
    }
   ],
   "source": [
    "peaks_df = Results['Peaks']['Mean1'] # R wave location\n",
    "valleys_df = Results['Valleys']['Mean1'] # Q and S wave locations\n",
    "burst_ends = Results['Bursts']['Mean1']['Burst End'] #burst ends indicate approx. T wave location\n",
    "\n",
    "# make new DataFrame for Burst Ends which is indexed by Burst Ends \n",
    "# b.c. Results['Bursts']['Mean1'] is indexed by Burst Start.\n",
    "bursts_df = pd.DataFrame(burst_ends.values, index=burst_ends.values, columns=['Burst Ends'])\n",
    "\n",
    "#combine peaks and valleys dfs and sort by time\n",
    "# this will allow us to easily find peaks, \n",
    "# and find valleys before and after.\n",
    "peaks_df['time'] = peaks_df.index\n",
    "valleys_df['time'] = valleys_df.index\n",
    "bursts_df['time'] = bursts_df.index\n",
    "peaks_df['amplitude'] = peaks_df[\"Peaks Amplitude\"]\n",
    "valleys_df['amplitude'] = valleys_df[\"Valley Amplitude\"]\n",
    "bursts_df['amplitude'] = float(Settings['Threshold'])\n",
    "\n",
    "#Label R and T. Unfortunatly, setting Q and S (the valleys) is much harder (See next cell).\n",
    "peaks_df['letter'] = 'R'\n",
    "bursts_df['letter'] = \"T\"\n",
    "\n",
    "\n",
    "combined = peaks_df.append(valleys_df).sort('time')\n",
    "\n",
    "#now combine w. Burst Ends and remove unnecessary columns, sort by time again\n",
    "times = combined.append(bursts_df).drop([u'Burst Ends', u'Intervals', u'Peaks Amplitude', u'Valley Amplitude'],axis=1)\n",
    "sorted_times = times.sort('time')\n",
    "#remove na vals only from amplitude col.\n",
    "sorted_times['amplitude'] = sorted_times['amplitude']\n",
    "sorted_times.head()"
   ]
  },
  {
   "cell_type": "markdown",
   "metadata": {},
   "source": [
    "The following is a hack-y way to set the Q and S valleys, but it works. Later I might try to do it with booleans. <b>Feel free to try another way to do this!!! (Actually, really, please do. This method is pretty slow.)</b>"
   ]
  },
  {
   "cell_type": "code",
   "execution_count": 165,
   "metadata": {
    "collapsed": false
   },
   "outputs": [
    {
     "data": {
      "text/html": [
       "<div style=\"max-height:1000px;max-width:1500px;overflow:auto;\">\n",
       "<table border=\"1\" class=\"dataframe\">\n",
       "  <thead>\n",
       "    <tr style=\"text-align: right;\">\n",
       "      <th></th>\n",
       "      <th>amplitude</th>\n",
       "      <th>letter</th>\n",
       "      <th>time</th>\n",
       "    </tr>\n",
       "    <tr>\n",
       "      <th>num</th>\n",
       "      <th></th>\n",
       "      <th></th>\n",
       "      <th></th>\n",
       "    </tr>\n",
       "  </thead>\n",
       "  <tbody>\n",
       "    <tr>\n",
       "      <th>0</th>\n",
       "      <td>-0.487</td>\n",
       "      <td>Q</td>\n",
       "      <td>0.12950</td>\n",
       "    </tr>\n",
       "    <tr>\n",
       "      <th>1</th>\n",
       "      <td>1.410</td>\n",
       "      <td>R</td>\n",
       "      <td>0.13475</td>\n",
       "    </tr>\n",
       "    <tr>\n",
       "      <th>2</th>\n",
       "      <td>-0.883</td>\n",
       "      <td>S</td>\n",
       "      <td>0.13825</td>\n",
       "    </tr>\n",
       "    <tr>\n",
       "      <th>3</th>\n",
       "      <td>0.030</td>\n",
       "      <td>T</td>\n",
       "      <td>0.15575</td>\n",
       "    </tr>\n",
       "    <tr>\n",
       "      <th>4</th>\n",
       "      <td>-0.455</td>\n",
       "      <td>Q</td>\n",
       "      <td>0.30125</td>\n",
       "    </tr>\n",
       "    <tr>\n",
       "      <th>5</th>\n",
       "      <td>1.514</td>\n",
       "      <td>R</td>\n",
       "      <td>0.30700</td>\n",
       "    </tr>\n",
       "    <tr>\n",
       "      <th>6</th>\n",
       "      <td>-0.934</td>\n",
       "      <td>S</td>\n",
       "      <td>0.31050</td>\n",
       "    </tr>\n",
       "    <tr>\n",
       "      <th>7</th>\n",
       "      <td>0.030</td>\n",
       "      <td>T</td>\n",
       "      <td>0.32575</td>\n",
       "    </tr>\n",
       "    <tr>\n",
       "      <th>8</th>\n",
       "      <td>-0.376</td>\n",
       "      <td>Q</td>\n",
       "      <td>0.47350</td>\n",
       "    </tr>\n",
       "    <tr>\n",
       "      <th>9</th>\n",
       "      <td>1.404</td>\n",
       "      <td>R</td>\n",
       "      <td>0.47900</td>\n",
       "    </tr>\n",
       "    <tr>\n",
       "      <th>10</th>\n",
       "      <td>-1.003</td>\n",
       "      <td>S</td>\n",
       "      <td>0.48225</td>\n",
       "    </tr>\n",
       "    <tr>\n",
       "      <th>11</th>\n",
       "      <td>0.030</td>\n",
       "      <td>T</td>\n",
       "      <td>0.49500</td>\n",
       "    </tr>\n",
       "    <tr>\n",
       "      <th>12</th>\n",
       "      <td>-0.116</td>\n",
       "      <td>NaN</td>\n",
       "      <td>0.59850</td>\n",
       "    </tr>\n",
       "  </tbody>\n",
       "</table>\n",
       "</div>"
      ],
      "text/plain": [
       "     amplitude letter     time\n",
       "num                           \n",
       "0       -0.487      Q  0.12950\n",
       "1        1.410      R  0.13475\n",
       "2       -0.883      S  0.13825\n",
       "3        0.030      T  0.15575\n",
       "4       -0.455      Q  0.30125\n",
       "5        1.514      R  0.30700\n",
       "6       -0.934      S  0.31050\n",
       "7        0.030      T  0.32575\n",
       "8       -0.376      Q  0.47350\n",
       "9        1.404      R  0.47900\n",
       "10      -1.003      S  0.48225\n",
       "11       0.030      T  0.49500\n",
       "12      -0.116    NaN  0.59850"
      ]
     },
     "execution_count": 165,
     "metadata": {},
     "output_type": "execute_result"
    }
   ],
   "source": [
    "#reindex by integer\n",
    "sorted_times['num'] = range(len(sorted_times))\n",
    "sorted_times_reindexed = sorted_times.set_index('num')\n",
    "\n",
    "letters = pd.DataFrame(index=sorted_times_reindexed.index, columns=['letters'], dtype=str)\n",
    "for i in sorted_times_reindexed.index:\n",
    "    \n",
    "    #try to get the previous and next values with error handeling for edge cases\n",
    "    try:\n",
    "        prev_value = sorted_times_reindexed.loc[i-1, \"letter\"]\n",
    "    except:\n",
    "        prev_value=''\n",
    "    try:\n",
    "        next_value = sorted_times_reindexed.loc[i+1,\"letter\"]\n",
    "    except:\n",
    "        next_value=\"\"\n",
    "    \n",
    "    #letters['time'][i] = sorted_times_reindexed.loc[i,'time']\n",
    "    if (next_value == \"T\") and (prev_value == \"R\"):\n",
    "        letters['letters'][i] = \"S\"\n",
    "    elif next_value == \"R\":\n",
    "        letters['letters'][i] = \"Q\"\n",
    "    else:\n",
    "        letters['letters'][i] = sorted_times_reindexed.loc[i,'letter']\n",
    "        \n",
    "sorted_times_reindexed['letter'] = letters['letters']\n",
    "sorted_times_reindexed.head(13) #see that valleys which are not immediately before or after R are left as NaN!"
   ]
  },
  {
   "cell_type": "code",
   "execution_count": 147,
   "metadata": {
    "collapsed": false
   },
   "outputs": [
    {
     "data": {
      "text/html": [
       "<div style=\"max-height:1000px;max-width:1500px;overflow:auto;\">\n",
       "<table border=\"1\" class=\"dataframe\">\n",
       "  <thead>\n",
       "    <tr style=\"text-align: right;\">\n",
       "      <th></th>\n",
       "      <th>amplitude</th>\n",
       "      <th>letter</th>\n",
       "    </tr>\n",
       "    <tr>\n",
       "      <th>time</th>\n",
       "      <th></th>\n",
       "      <th></th>\n",
       "    </tr>\n",
       "  </thead>\n",
       "  <tbody>\n",
       "    <tr>\n",
       "      <th>0.12950</th>\n",
       "      <td>-0.487</td>\n",
       "      <td>Q</td>\n",
       "    </tr>\n",
       "    <tr>\n",
       "      <th>0.13475</th>\n",
       "      <td>1.410</td>\n",
       "      <td>R</td>\n",
       "    </tr>\n",
       "    <tr>\n",
       "      <th>0.13825</th>\n",
       "      <td>-0.883</td>\n",
       "      <td>S</td>\n",
       "    </tr>\n",
       "    <tr>\n",
       "      <th>0.15575</th>\n",
       "      <td>0.030</td>\n",
       "      <td>T</td>\n",
       "    </tr>\n",
       "    <tr>\n",
       "      <th>0.30125</th>\n",
       "      <td>-0.455</td>\n",
       "      <td>Q</td>\n",
       "    </tr>\n",
       "  </tbody>\n",
       "</table>\n",
       "</div>"
      ],
      "text/plain": [
       "         amplitude letter\n",
       "time                     \n",
       "0.12950     -0.487      Q\n",
       "0.13475      1.410      R\n",
       "0.13825     -0.883      S\n",
       "0.15575      0.030      T\n",
       "0.30125     -0.455      Q"
      ]
     },
     "execution_count": 147,
     "metadata": {},
     "output_type": "execute_result"
    }
   ],
   "source": [
    "sorted_times_time_indexed = sorted_times_reindexed.set_index('time')\n",
    "final = sorted_times_time_indexed.dropna()\n",
    "final.head()"
   ]
  },
  {
   "cell_type": "code",
   "execution_count": 153,
   "metadata": {
    "collapsed": false
   },
   "outputs": [],
   "source": [
    "s1=0\n",
    "e1=20\n",
    "final[s1:e1].plot()\n",
    "plt.show()"
   ]
  }
 ],
 "metadata": {
  "kernelspec": {
   "display_name": "Python 2",
   "language": "python",
   "name": "python2"
  },
  "language_info": {
   "codemirror_mode": {
    "name": "ipython",
    "version": 2
   },
   "file_extension": ".py",
   "mimetype": "text/x-python",
   "name": "python",
   "nbconvert_exporter": "python",
   "pygments_lexer": "ipython2",
   "version": "2.7.10"
  }
 },
 "nbformat": 4,
 "nbformat_minor": 0
}
