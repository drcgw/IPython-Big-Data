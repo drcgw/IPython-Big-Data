{
 "cells": [
  {
   "cell_type": "code",
   "execution_count": null,
   "metadata": {
    "collapsed": true
   },
   "outputs": [],
   "source": [
    "from Bio import SeqIO, AlignIO\n",
    "from Bio.Align.Applications import ClustalwCommandline\n",
    "from Bio.SeqFeature import SeqFeature, FeatureLocation\n",
    "from Bio.Graphics import GenomeDiagram\n",
    "from reportlab.lib import colors\n",
    "from reportlab.lib.units import cm\n",
    "import matplotlib.pyplot as plt\n",
    "import matplotlib.image as mpimg\n",
    "\n",
    "%matplotlib inline\n",
    "\n",
    "#Make a variable point to where ClustalW2 is on your computer\n",
    "clustalw_exe = r\"C:\\Program Files (x86)\\ClustalW2\\clustalw2.exe\"\n",
    "\n",
    "#Make sure you are in the same directory as the sequence FASTA files"
   ]
  },
  {
   "cell_type": "code",
   "execution_count": null,
   "metadata": {
    "collapsed": true
   },
   "outputs": [],
   "source": [
    "#Read in the SCN5A refrence sequence\n",
    "SCN5A_ref = SeqIO.read('SCN5A.fasta','fasta')\n",
    "SCN5A_ref.name = 'SCN5A_ref'\n",
    "\n",
    "#Read in the SCN5A sequence with 11 known LQTS3 mutations added in\n",
    "SCN5A_mut = SeqIO.read('SCN5A_mutants.fasta','fasta')\n",
    "SCN5A_mut.name = 'SCN5A_mut'"
   ]
  },
  {
   "cell_type": "code",
   "execution_count": null,
   "metadata": {
    "collapsed": true
   },
   "outputs": [],
   "source": [
    "#Put both reference and mutant sequences into a list\n",
    "SCN5A_all = [SCN5A_ref,SCN5A_mut]\n",
    "\n",
    "#Write the sequences to a single FASTA file, so ClustalW can align them\n",
    "SeqIO.write(SCN5A_all,'SCN5A_all.fasta','fasta');"
   ]
  },
  {
   "cell_type": "code",
   "execution_count": null,
   "metadata": {
    "collapsed": false
   },
   "outputs": [],
   "source": [
    "#THIS TOOK FOREVER TO RUN\n",
    "'''\n",
    "#Align the ref and mutant sequences\n",
    "cline_Clustal = ClustalwCommandline(clustalw_exe,infile='SCN5A_all.fasta')\n",
    "stdout, sdterr = cline_Clustal()\n",
    "'''"
   ]
  },
  {
   "cell_type": "code",
   "execution_count": null,
   "metadata": {
    "collapsed": false
   },
   "outputs": [],
   "source": [
    "#Read in the alignment file\n",
    "SCN5A_aln = AlignIO.read('SCN5A_all.aln','clustal')"
   ]
  },
  {
   "cell_type": "code",
   "execution_count": null,
   "metadata": {
    "collapsed": true
   },
   "outputs": [],
   "source": [
    "def get_diff_locations(ref,compare):\n",
    "    \"\"\"\n",
    "    Takes 2 Biopython Seq objects of equal size (aligned).\n",
    "    Returns a list of locations at which base in compare sequence != base in ref sequence.\n",
    "    \"\"\"\n",
    "    if len(ref) != len(compare):\n",
    "        raise ValueError('Seqs are not the same length!')\n",
    "    \n",
    "    diff_locations = []\n",
    "    \n",
    "    for i in range(len(ref)):\n",
    "        if ref[i] != compare[i]:\n",
    "            diff_locations.append(i)\n",
    "        \n",
    "    return diff_locations"
   ]
  },
  {
   "cell_type": "code",
   "execution_count": null,
   "metadata": {
    "collapsed": false
   },
   "outputs": [],
   "source": [
    "#Find differences between ref and mutant sequences\n",
    "SCN5A_diffs = get_diff_locations(SCN5A_aln[0].seq,SCN5A_aln[1].seq)"
   ]
  },
  {
   "cell_type": "code",
   "execution_count": null,
   "metadata": {
    "collapsed": false,
    "scrolled": true
   },
   "outputs": [],
   "source": [
    "#Set up track plotting diagram\n",
    "tracks = GenomeDiagram.Diagram('SCN5A Mutations')\n",
    "features = tracks.new_track(1,greytrack=False)\n",
    "feature_set = features.new_set()\n",
    "\n",
    "#Background green to show reference seq\n",
    "feature_set.add_feature(SeqFeature(FeatureLocation(0,(len(SCN5A_aln[0].seq)-1))),\n",
    "                       name = 'SCN5A Mutations Associated w/ LQTS3',\n",
    "                       label=True, label_angle=0);\n",
    "\n",
    "#Add blue to show mutations\n",
    "for i in range(len(SCN5A_diffs)):\n",
    "    feature = SeqFeature(FeatureLocation(SCN5A_diffs[i],SCN5A_diffs[i]))\n",
    "    feature_set.add_feature(feature, color=colors.blue)"
   ]
  },
  {
   "cell_type": "code",
   "execution_count": null,
   "metadata": {
    "collapsed": false,
    "scrolled": true
   },
   "outputs": [],
   "source": [
    "#Write the diagram to a png, then read it back in using matplotlib\n",
    "tracks.draw(format='linear', pagesize=(15*cm,10*cm), fragments=4,\n",
    "         start=0, end=(len(SCN5A_aln[0].seq)-1))\n",
    "tracks.write('SCN5A_tracks.png', 'png', dpi=600)\n",
    "tracks_im = mpimg.imread('SCN5A_tracks.png');\n",
    "\n",
    "#Plot tracks\n",
    "fig_tracks = plt.figure(figsize=(15,10),dpi=600)\n",
    "ax_tracks = fig_tracks.add_axes([0.025,0.025,0.95,0.95],frameon=False)\n",
    "plt.axis('off')\n",
    "plt.imshow(tracks_im);"
   ]
  },
  {
   "cell_type": "markdown",
   "metadata": {},
   "source": [
    "#####Figure caption:\n",
    "This diagram shows the [SCN5A](http://www.ncbi.nlm.nih.gov/gene/6331) gene (sequence [here](http://www.ncbi.nlm.nih.gov/nuccore/NC_000003.12?report=fasta&from=38548058&to=38649673&strand=true)), broken up into 4 fragments proceeding from 5' at the upper left to 3' at the bottom right. There are 11 mutations indicated in blue, and they all appear to be toward the 3' end of the gene. In fact, the several mutations closest to the 3' end are tightly grouped within the same short region. These 11 mutations are known to cause LQTS3, as indicated by [OMIM](http://omim.org/allelicVariant/600163?sort=name). The mutations are:\n",
    "- [NM_000335.4(SCN5A):c.5452G>A (p.Asp1818Asn)](http://www.ncbi.nlm.nih.gov/snp/137854619)\n",
    "- [NM_000335.4(SCN5A):c.4508_4516delAGAAGCCCC (p.Gln1506_Pro1508del)](http://www.ncbi.nlm.nih.gov/snp/397514251)\n",
    "- [NM_000335.4(SCN5A):c.4928G>A (p.Arg1643His)](http://www.ncbi.nlm.nih.gov/snp/28937316)\n",
    "- [NM_000335.4(SCN5A):c.3971A>G (p.Asn1324Ser)](http://www.ncbi.nlm.nih.gov/snp/28937317)\n",
    "- [NM_000335.4(SCN5A):c.4865G>A (p.Arg1622Gln)](http://www.ncbi.nlm.nih.gov/snp/137854600)\n",
    "- [NM_000335.4(SCN5A):c.5347G>A (p.Glu1783Lys)](http://www.ncbi.nlm.nih.gov/snp/137854601)\n",
    "- [NM_000335.4(SCN5A):c.5382_5384dupTGA (p.Tyr1794_Glu1795insAsp)](http://www.ncbi.nlm.nih.gov/snp/397514449)\n",
    "- [NM_001099404.1(SCN5A):c.2821_2822delTCinsAA (p.Ser941Asn)](http://www.ncbi.nlm.nih.gov/snp/137854605)\n",
    "- [NM_000335.4(SCN5A):c.2989G>T (p.Ala997Ser)](http://www.ncbi.nlm.nih.gov/snp/137854609)\n",
    "- [NM_000335.4(SCN5A):c.5474G>A (p.Arg1825His)](http://www.ncbi.nlm.nih.gov/snp/137854610)\n",
    "- [NM_000335.4(SCN5A):c.5381A>G (p.Tyr1794Cys)](http://www.ncbi.nlm.nih.gov/snp/137854614)"
   ]
  }
 ],
 "metadata": {
  "kernelspec": {
   "display_name": "Python 2",
   "language": "python",
   "name": "python2"
  },
  "language_info": {
   "codemirror_mode": {
    "name": "ipython",
    "version": 2
   },
   "file_extension": ".py",
   "mimetype": "text/x-python",
   "name": "python",
   "nbconvert_exporter": "python",
   "pygments_lexer": "ipython2",
   "version": "2.7.6"
  }
 },
 "nbformat": 4,
 "nbformat_minor": 0
}
