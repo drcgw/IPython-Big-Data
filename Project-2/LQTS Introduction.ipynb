{
 "cells": [
  {
   "cell_type": "markdown",
   "metadata": {},
   "source": [
    "# Introduction"
   ]
  },
  {
   "cell_type": "markdown",
   "metadata": {},
   "source": [
    "Long QT syndrome (LQTS) is a group of inherited arrhythmia caused by mutations in myocyte ion channels leading to delayed ventricular repolarization that can result in syncope and sudden death (Barsheshet et al., 2014; Chockalingam et al., 2015; Hofman et al., 2007; Modell and Lehmann, 2006; Priori et al., 2003; Roden, 2008). Several subtypes of LQTS have being identified, LQT 1 to LQT 10, each subtype containing a specific gene that is mutated(Modell and Lehmann, 2006; Roden, 2008), although each subtype can have several hundreds of different mutations causing that particular subtype(Chockalingam et al., 2015; Roden, 2008).  LQT1, LQT2, and LQT3 account for 95% of all LQTS subtypes(Barsheshet et al., 2014).  The prevalence of LQTS mutations is 1 in every 2,500 individuals, however heterozygous mutant carriers can be asymptomatic, it is estimated that 37% of LQTS carriers have normal QT intervals(Barsheshet et al., 2014; Roden, 2008). The QT interval has to be corrected for heart rate using Bazett's formula, QT interval divided by the square root of R-R interval, in order to determine if the QT is prolonged(Chockalingam et al., 2015; Hofman et al., 2007; Priori et al., 2003).  Diagnosis of long QT syndrome is very important because the first cardiac event can result in sudden death by ventricular fibrillation(Roden, 2008), the determination of what constitutes a long QT interval is age dependent, for 1-15 years old >460ms, for adult males, >450ms, and for adult females, >470ms(Barsheshet et al., 2014).  Different triggers can start the onset of cardiac events, physical stress, emotional stress, or even at rest syncope or sudden death can occur for LQTS patients(Modell and Lehmann, 2006; Priori et al., 2003; Roden, 2008).  Some LQTS subtypes have preferential triggers, in LQT1 62% of events happen after physical exercise especially swimming, in LQT2 emotional stress or an intense loud sound like an alarm clock triggered 43% of events, and in LQT3 39% of events happened at rest or while sleeping(Modell and Lehmann, 2006).  LQT1 has a mutation affecting KNCQ1 gene, that encodes for the alpha subunit of a voltage-gated potassium channel(Chockalingam et al., 2015; Modell and Lehmann, 2006; Roden, 2008).  The KNCQ1 controls the IKS, the slowly deactivating rectifying potassium current(Modell and Lehmann, 2006).  LQT2 subtype has a loss-of-function mutation in gene KCNH2. This gene encodes the alpha subunit of a potassium channel that is part of the IKR, the rapidly activating, rapidly deactivating delayed rectifier current(Chockalingam et al., 2015; Modell and Lehmann, 2006; Roden, 2008).  LQT3 does not have a mutation in a potassium channel, instead the affected gene, SCN5A, encodes a sodium channel in which a gain-of-function mutation leads reopening of sodium channels resulting in prolonged repolarization(Chockalingam et al., 2015; Modell and Lehmann, 2006; Roden, 2008).  ECG patterns can be characteristic for certain LQTS subtypes. For instance LQT1 has a broad base and early onset T-wave, LQT2 has a split or bifid T-wave or a low-amplitude T-wave, and LQT3 has a late onset T-wave and the ST segment might not return to P-wave baseline(Modell and Lehmann, 2006).  Even though genetic testing for mutations is the gold standard for diagnosing an individual with LQTS, ECG readings can provide an important clue to determine if someone is likely a carrier of a LQTS mutation.  In a study in which ECGs of relatives of known LQTS carriers where examined and then compared with genotyping results, it was concluded that a QT interval of 430ms or higher was a good cut off point to further DNA test these individuals(Hofman et al., 2007).  In order to better screen ECG readings we decided to automate the ECG reading process using python and R to see if we could determine a corrected QT interval in ECG database would belong to a possible carrier of LQTS mutation. "
   ]
  },
  {
   "cell_type": "markdown",
   "metadata": {},
   "source": [
    "# References"
   ]
  },
  {
   "cell_type": "markdown",
   "metadata": {},
   "source": [
    "Barsheshet, A., Dotsenko, O., and Goldenberg, I. (2014). Congenital long QT syndromes: prevalence, pathophysiology and management. Paediatr. Drugs 16, 447–456.\n",
    "\n",
    "Chockalingam, P., Mizusawa, Y., and Wilde, A.A. (2015). Channelopathies - emerging trends in the management of inherited arrhythmias. Indian Pacing Electrophysiol. J. 15, 43–54.\n",
    "\n",
    "Hofman, N., Wilde, A.A.M., Kääb, S., van Langen, I.M., Tanck, M.W.T., Mannens, M.M.A.M., Hinterseer, M., Beckmann, B.-M., and Tan, H.L. (2007). Diagnostic criteria for congenital long QT syndrome in the era of molecular genetics: do we need a scoring system? Eur. Heart J. 28, 575–580.\n",
    "\n",
    "Modell, S.M., and Lehmann, M.H. (2006). The long QT syndrome family of cardiac ion channelopathies: a HuGE review. Genet. Med. Off. J. Am. Coll. Med. Genet. 8, 143–155.\n",
    "\n",
    "Priori, S.G., Schwartz, P.J., Napolitano, C., Bloise, R., Ronchetti, E., Grillo, M., Vicentini, A., Spazzolini, C., Nastoli, J., Bottelli, G., et al. (2003). Risk Stratification in the Long-QT Syndrome. N. Engl. J. Med. 348, 1866–1874.\n",
    "\n",
    "Roden, D.M. (2008). Long-QT Syndrome. N. Engl. J. Med. 358, 169–176."
   ]
  },
  {
   "cell_type": "code",
   "execution_count": null,
   "metadata": {
    "collapsed": true
   },
   "outputs": [],
   "source": []
  }
 ],
 "metadata": {
  "kernelspec": {
   "display_name": "Python 2",
   "language": "python",
   "name": "python2"
  },
  "language_info": {
   "codemirror_mode": {
    "name": "ipython",
    "version": 2
   },
   "file_extension": ".py",
   "mimetype": "text/x-python",
   "name": "python",
   "nbconvert_exporter": "python",
   "pygments_lexer": "ipython2",
   "version": "2.7.6"
  }
 },
 "nbformat": 4,
 "nbformat_minor": 0
}
