{
 "cells": [
  {
   "cell_type": "code",
   "execution_count": 1,
   "metadata": {
    "collapsed": false
   },
   "outputs": [],
   "source": [
    "import pandas as pd\n",
    "import matplotlib.pyplot as plt\n",
    "\n",
    "#%matplotlib inline"
   ]
  },
  {
   "cell_type": "code",
   "execution_count": 2,
   "metadata": {
    "collapsed": false
   },
   "outputs": [
    {
     "name": "stdout",
     "output_type": "stream",
     "text": [
      "       'Elapsed time' 'MLII'   'V5'\n",
      "            'seconds'   'mV'   'mV'\n",
      "0               0.000  4.725  4.775\n",
      "1               0.004  4.735  4.745\n",
      "2               0.008  4.725  4.735\n",
      "3               0.012  4.715  4.745\n",
      "4               0.016  4.720  4.735\n",
      "5               0.020  4.705  4.725\n",
      "6               0.024  4.700  4.710\n",
      "7               0.028  4.690  4.715\n",
      "8               0.032  4.710  4.710\n",
      "9               0.036  4.710  4.710\n",
      "10              0.040  4.695  4.695\n",
      "11              0.044  4.690  4.690\n",
      "12              0.048  4.710  4.710\n",
      "13              0.052  4.695  4.705\n",
      "14              0.056  4.705  4.685\n",
      "15              0.060  4.700  4.705\n",
      "16              0.064  4.710  4.715\n",
      "17              0.068  4.710  4.720\n",
      "18              0.072  4.700  4.720\n",
      "19              0.076  4.705  4.745\n",
      "20              0.080  4.720  4.785\n",
      "21              0.084  4.735  4.790\n",
      "22              0.088  4.740  4.790\n",
      "23              0.092  4.730  4.805\n",
      "24              0.096  4.755  4.825\n",
      "25              0.100  4.765  4.835\n",
      "26              0.104  4.780  4.830\n",
      "27              0.108  4.780  4.840\n",
      "28              0.112  4.780  4.850\n",
      "29              0.116  4.805  4.860\n",
      "...               ...    ...    ...\n",
      "224970        899.880  4.700  4.980\n",
      "224971        899.884  4.720  4.990\n",
      "224972        899.888  4.740  5.005\n",
      "224973        899.892  4.740  4.995\n",
      "224974        899.896  4.735  4.990\n",
      "224975        899.900  4.735  4.990\n",
      "224976        899.904  4.765  5.010\n",
      "224977        899.908  4.775  5.015\n",
      "224978        899.912  4.770  5.020\n",
      "224979        899.916  4.785  5.035\n",
      "224980        899.920  4.795  5.045\n",
      "224981        899.924  4.805  5.040\n",
      "224982        899.928  4.790  5.040\n",
      "224983        899.932  4.780  5.060\n",
      "224984        899.936  4.785  5.075\n",
      "224985        899.940  4.790  5.070\n",
      "224986        899.944  4.785  5.055\n",
      "224987        899.948  4.770  5.055\n",
      "224988        899.952  4.770  5.070\n",
      "224989        899.956  4.800  5.055\n",
      "224990        899.960  4.805  5.035\n",
      "224991        899.964  4.780  5.030\n",
      "224992        899.968  4.760  5.045\n",
      "224993        899.972  4.745  5.045\n",
      "224994        899.976  4.715  5.025\n",
      "224995        899.980  4.690  5.025\n",
      "224996        899.984  4.690  5.040\n",
      "224997        899.988  4.695  5.035\n",
      "224998        899.992  4.680  5.010\n",
      "224999        899.996  4.680  5.015\n",
      "\n",
      "[225000 rows x 3 columns]\n"
     ]
    }
   ],
   "source": [
    "ecg = pd.read_csv('sel100.csv',header=[0,1],dtype=float)\n",
    "print ecg"
   ]
  },
  {
   "cell_type": "code",
   "execution_count": 3,
   "metadata": {
    "collapsed": false
   },
   "outputs": [],
   "source": [
    "ecg_t = ecg.iloc[1000:2999,0]\n",
    "ecg_a1 = ecg.iloc[1000:2999,1]\n",
    "ecg_a2 = ecg.iloc[1000:2999,2]"
   ]
  },
  {
   "cell_type": "code",
   "execution_count": 4,
   "metadata": {
    "collapsed": false
   },
   "outputs": [],
   "source": [
    "ax1 = plt.subplot(211);\n",
    "plt.plot(ecg_t,ecg_a1);\n",
    "plt.xlabel('Time');\n",
    "plt.ylabel('MLII');\n",
    "ax2 = plt.subplot(212, sharex=ax1, sharey=ax1);\n",
    "plt.plot(ecg_t,ecg_a2);\n",
    "plt.xlabel('Time');\n",
    "plt.ylabel('V5');"
   ]
  },
  {
   "cell_type": "code",
   "execution_count": 5,
   "metadata": {
    "collapsed": true
   },
   "outputs": [],
   "source": [
    "plt.show()"
   ]
  },
  {
   "cell_type": "code",
   "execution_count": null,
   "metadata": {
    "collapsed": true
   },
   "outputs": [],
   "source": []
  }
 ],
 "metadata": {
  "kernelspec": {
   "display_name": "Python 2",
   "language": "python",
   "name": "python2"
  },
  "language_info": {
   "codemirror_mode": {
    "name": "ipython",
    "version": 2
   },
   "file_extension": ".py",
   "mimetype": "text/x-python",
   "name": "python",
   "nbconvert_exporter": "python",
   "pygments_lexer": "ipython2",
   "version": "2.7.10"
  }
 },
 "nbformat": 4,
 "nbformat_minor": 0
}
