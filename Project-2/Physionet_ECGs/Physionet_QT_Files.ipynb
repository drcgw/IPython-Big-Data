{
 "metadata": {
  "kernelspec": {
   "display_name": "Python 2",
   "language": "python",
   "name": "python2"
  },
  "language_info": {
   "codemirror_mode": {
    "name": "ipython",
    "version": 2
   },
   "file_extension": ".py",
   "mimetype": "text/x-python",
   "name": "python",
   "nbconvert_exporter": "python",
   "pygments_lexer": "ipython2",
   "version": "2.7.6"
  },
  "name": ""
 },
 "nbformat": 3,
 "nbformat_minor": 0,
 "worksheets": [
  {
   "cells": [
    {
     "cell_type": "markdown",
     "metadata": {},
     "source": [
      "#Physionet QT Database Files\n",
      "---\n",
      "This notebook downloads the ECG data from the Physionet QT Database (http://www.physionet.org/physiobank/database/qtdb/) in CSV files.\n",
      "\n",
      "In order for it to work, you must first install the Physionet WFDB software (http://www.physionet.org/physiotools/wfdb.shtml)."
     ]
    },
    {
     "cell_type": "heading",
     "level": 3,
     "metadata": {},
     "source": [
      "Put a list of the record numbers into a .txt file."
     ]
    },
    {
     "cell_type": "code",
     "collapsed": false,
     "input": [
      "sel_records = [100,102,103,104,114,116,117,123,213,221,223,230,231,232,233,301,302,306,307,308,310,803,808,811,820,821,840,847,853,871,872,873,883,891,16265,16272,16273,16420,16483,16539,16773,16786,16795,17453,30,31,32,33,34,35,36,37,38,39,40,41,42,43,44,45,46,47,48,49,50,51,52,17152,14046,14157,14172,15814]\n",
      "sele0_records = [104,106,107,110,111,112,114,116,121,122,124,126,129,133,136,166,170,203,210,211,303,405,406,409,411,509,603,604,606,607,609,612,704]"
     ],
     "language": "python",
     "metadata": {},
     "outputs": [],
     "prompt_number": 1
    },
    {
     "cell_type": "code",
     "collapsed": false,
     "input": [
      "f = open('rec_names.txt','w')\n",
      "\n",
      "for i in range(len(sel_records)):\n",
      "    selrecname = 'sel%i' %sel_records[i]\n",
      "    f.write(selrecname + '\\n')\n",
      "\n",
      "for i in range(len(sele0_records)):\n",
      "    sele0recname = 'sele0%i' %sele0_records[i]\n",
      "    f.write(sele0recname + '\\n')\n",
      "\n",
      "f.close()"
     ],
     "language": "python",
     "metadata": {},
     "outputs": [],
     "prompt_number": 3
    },
    {
     "cell_type": "code",
     "collapsed": false,
     "input": [
      "! cat rec_names.txt"
     ],
     "language": "python",
     "metadata": {
      "scrolled": true
     },
     "outputs": [
      {
       "output_type": "stream",
       "stream": "stdout",
       "text": [
        "sel100\r\n",
        "sel102\r\n",
        "sel103\r\n",
        "sel104\r\n",
        "sel114\r\n",
        "sel116\r\n",
        "sel117\r\n",
        "sel123\r\n",
        "sel213\r\n",
        "sel221\r\n",
        "sel223\r\n",
        "sel230\r\n",
        "sel231\r\n",
        "sel232\r\n",
        "sel233\r\n",
        "sel301\r\n",
        "sel302\r\n",
        "sel306\r\n",
        "sel307\r\n",
        "sel308\r\n",
        "sel310\r\n",
        "sel803\r\n",
        "sel808\r\n",
        "sel811\r\n",
        "sel820\r\n",
        "sel821\r\n",
        "sel840\r\n",
        "sel847\r\n",
        "sel853\r\n",
        "sel871\r\n",
        "sel872\r\n",
        "sel873\r\n",
        "sel883\r\n",
        "sel891\r\n",
        "sel16265\r\n",
        "sel16272\r\n",
        "sel16273\r\n",
        "sel16420\r\n",
        "sel16483\r\n",
        "sel16539\r\n",
        "sel16773\r\n",
        "sel16786\r\n",
        "sel16795\r\n",
        "sel17453\r\n",
        "sel30\r\n",
        "sel31\r\n",
        "sel32\r\n",
        "sel33\r\n",
        "sel34\r\n",
        "sel35\r\n",
        "sel36\r\n",
        "sel37\r\n",
        "sel38\r\n",
        "sel39\r\n",
        "sel40\r\n",
        "sel41\r\n",
        "sel42\r\n",
        "sel43\r\n",
        "sel44\r\n",
        "sel45\r\n",
        "sel46\r\n",
        "sel47\r\n",
        "sel48\r\n",
        "sel49\r\n",
        "sel50\r\n",
        "sel51\r\n",
        "sel52\r\n",
        "sel17152\r\n",
        "sel14046\r\n",
        "sel14157\r\n",
        "sel14172\r\n",
        "sel15814\r\n",
        "sele0104\r\n",
        "sele0106\r\n",
        "sele0107\r\n",
        "sele0110\r\n",
        "sele0111\r\n",
        "sele0112\r\n",
        "sele0114\r\n",
        "sele0116\r\n",
        "sele0121\r\n",
        "sele0122\r\n",
        "sele0124\r\n",
        "sele0126\r\n",
        "sele0129\r\n",
        "sele0133\r\n",
        "sele0136\r\n",
        "sele0166\r\n",
        "sele0170\r\n",
        "sele0203\r\n",
        "sele0210\r\n",
        "sele0211\r\n",
        "sele0303\r\n",
        "sele0405\r\n",
        "sele0406\r\n",
        "sele0409\r\n",
        "sele0411\r\n",
        "sele0509\r\n",
        "sele0603\r\n",
        "sele0604\r\n",
        "sele0606\r\n",
        "sele0607\r\n",
        "sele0609\r\n",
        "sele0612\r\n",
        "sele0704\r\n"
       ]
      }
     ],
     "prompt_number": 4
    },
    {
     "cell_type": "markdown",
     "metadata": {},
     "source": [
      "###Use a Bash cell to run the WFDB software for each record.\n",
      "Each record is downloaded into a CSV file."
     ]
    },
    {
     "cell_type": "code",
     "collapsed": true,
     "input": [
      "%%bash\n",
      "for i in $(cat rec_names.txt); do\n",
      "    rdsamp -r qtdb/$i -c -H -f 0 -t 900 -v -ps >$i.csv\n",
      "done"
     ],
     "language": "python",
     "metadata": {},
     "outputs": [],
     "prompt_number": null
    }
   ],
   "metadata": {}
  }
 ]
}