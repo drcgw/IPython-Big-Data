{
 "cells": [
  {
   "cell_type": "markdown",
   "metadata": {},
   "source": [
    "# Using R magics"
   ]
  },
  {
   "cell_type": "markdown",
   "metadata": {},
   "source": [
    "##Magics"
   ]
  },
  {
   "cell_type": "markdown",
   "metadata": {},
   "source": [
    "The following cells will load the r magics, display documentation on IPython magic and (if you scroll down in the secondary window) R magics. The final cell will show all the availiable magic commands."
   ]
  },
  {
   "cell_type": "code",
   "execution_count": 34,
   "metadata": {
    "collapsed": true,
    "run_control": {
     "read_only": false
    }
   },
   "outputs": [
    {
     "name": "stdout",
     "output_type": "stream",
     "text": [
      "The rmagic extension is already loaded. To reload it, use:\n",
      "  %reload_ext rmagic\n"
     ]
    }
   ],
   "source": [
    "# This will load the r magics commands %R (line magic: only the line that follows it is written in R) \n",
    "# and %%R (cell magic: indicates that the whole cell is written in R.)\n",
    "# You MUST run this line to make the R magic availiable.\n",
    "%load_ext rmagic  "
   ]
  },
  {
   "cell_type": "code",
   "execution_count": 31,
   "metadata": {
    "collapsed": true
   },
   "outputs": [],
   "source": [
    "# use this command to open a window along the bottom of the page \n",
    "# with a tutorial on using ipython magics.\n",
    "%magic"
   ]
  },
  {
   "cell_type": "code",
   "execution_count": null,
   "metadata": {
    "collapsed": true
   },
   "outputs": [],
   "source": [
    "#you can use the ?? notation to get help on a magic function, like so:\n",
    "%R??"
   ]
  },
  {
   "cell_type": "code",
   "execution_count": 32,
   "metadata": {
    "collapsed": false
   },
   "outputs": [],
   "source": [
    "#use this command to see the availiable magic commands\n",
    "%lsmagic"
   ]
  },
  {
   "cell_type": "markdown",
   "metadata": {},
   "source": [
    "##Importing Data with R, Python, and passing between them"
   ]
  },
  {
   "cell_type": "markdown",
   "metadata": {},
   "source": [
    "###Import data with R and pass it to python"
   ]
  },
  {
   "cell_type": "markdown",
   "metadata": {},
   "source": [
    "You can import data using R and work with it in python."
   ]
  },
  {
   "cell_type": "code",
   "execution_count": 26,
   "metadata": {
    "collapsed": false
   },
   "outputs": [
    {
     "name": "stdout",
     "output_type": "stream",
     "text": [
      "   ID Sex Age\n",
      "1   1   1  34\n",
      "2   2   1  33\n",
      "3   3   2  40\n",
      "4   4   1  28\n",
      "5   5   2  37\n",
      "6   6   2  29\n",
      "7   7   2  41\n",
      "8   8   2  44\n",
      "9   9   1  37\n",
      "10 10   2  35\n",
      "11 11   1  43\n",
      "12 12   1  30\n",
      "13 13   1  31\n",
      "14 14   1  40\n",
      "15 15   2  38\n",
      "16 16   1  42\n",
      "17 17   2  27\n",
      "18 18   1  29\n",
      "19 19   2  36\n",
      "20 20   2  36\n",
      "\n"
     ]
    },
    {
     "data": {
      "text/plain": [
       "<DataFrame - Python:0x10ab5bb00 / R:0x108666b18>\n",
       "[IntVector, IntVector, IntVector]\n",
       "  ID: <class 'rpy2.robjects.vectors.IntVector'>\n",
       "  <IntVector - Python:0x10ab5bab8 / R:0x1019690a8>\n",
       "[       1,        2,        3, ...,       18,       19,       20]\n",
       "  Sex: <class 'rpy2.robjects.vectors.IntVector'>\n",
       "  <IntVector - Python:0x10ab5b710 / R:0x10196d348>\n",
       "[       1,        1,        2, ...,        1,        2,        2]\n",
       "  Age: <class 'rpy2.robjects.vectors.IntVector'>\n",
       "  <IntVector - Python:0x1020bfd40 / R:0x10196ceb0>\n",
       "[      34,       33,       40, ...,       29,       36,       36]"
      ]
     },
     "execution_count": 26,
     "metadata": {},
     "output_type": "execute_result"
    }
   ],
   "source": [
    "#import the data from R and pass to python interpreter so that you can axcess it with python\n",
    "sample2 = %R sampledata2 <- read.table(\"sampledata.txt\", header=T, sep=\",\")\n",
    "\n",
    "#note the difference between viewing sample2 with print and viewing sample2 as output.\n",
    "print sample2\n",
    "sample2"
   ]
  },
  {
   "cell_type": "markdown",
   "metadata": {},
   "source": [
    "###Using Flags (to pass back and forth between Python and R)\n",
    "####Import data with Python and pass it to R, Edit, then pass back to Python"
   ]
  },
  {
   "cell_type": "markdown",
   "metadata": {},
   "source": [
    "You can also import data in python and pass it to R with the <b>-i flag </b>, which should be on the same line you invoke the R magics. There is also a <b>-o flag</b> for outputting data from R to python. It should go on the same line as the input flag (-i) and should be followed by the name of the R variable that you want to transfer to the ipython interpreter. You can use these flags with both line magics (%R) and cell magics (%%R).\n",
    "\n",
    "Single-line R magic:\n",
    "\n",
    "```\n",
    "Python code here\n",
    "%R -i data -o newdata #R code to convert data to newdata\n",
    "Python code here can operate on newdata\n",
    "```\n",
    "\n",
    "Whole-cell R magic:\n",
    "\n",
    "```\n",
    "%%R -i data -o newdata \n",
    "# R code to convert data to newdata\n",
    "# the next python cell will be able to operate on newdata\n",
    "```\n",
    "\n",
    "\n",
    "There are other flags and arguments availiable:\n",
    "```\n",
    "@argument(\n",
    "    '-i', '--input', action='append',\n",
    "    help='Names of input variable from shell.user_ns to be assigned to R variables of the same names after calling self.pyconverter. Multiple names can be passed separated only by commas with no whitespace.'\n",
    "    )\n",
    "@argument(\n",
    "    '-o', '--output', action='append',\n",
    "    help=\"Names of variables to be pushed from rpy2 to shell.user_ns after executing cell body (rpy2's internal facilities will apply ri2ro as appropriate). Multiple names can be passed separated only by commas with no whitespace.\"\n",
    "    )\n",
    "@argument(\n",
    "    '-n', '--noreturn',\n",
    "    help='Force the magic to not return anything.',\n",
    "    action='store_true',\n",
    "    default=False\n",
    "    )\n",
    "\n",
    "@argument_group(\"Plot\", \"Arguments to plotting device\")\n",
    "@argument(\n",
    "    '-w', '--width', type=int,\n",
    "    help='Width of plotting device in R.'\n",
    "    )\n",
    "@argument(\n",
    "    '-h', '--height', type=int,\n",
    "    help='Height of plotting device in R.'\n",
    "    )\n",
    "@argument(\n",
    "    '-p', '--pointsize', type=int,\n",
    "    help='Pointsize of plotting device in R.'\n",
    "    )\n",
    "@argument(\n",
    "    '-b', '--bg',\n",
    "    help='Background of plotting device in R.'\n",
    "    )\n",
    "\n",
    "@argument_group(\"SVG\", \"SVG specific arguments\")\n",
    "@argument(\n",
    "    '--noisolation',\n",
    "    help=('Disable SVG isolation in the Notebook. By default, SVGs are isolated to avoid namespace collisions between figures.'\n",
    "          'Disabling SVG isolation allows to reference previous figures or share CSS rules across a set of SVGs.'),\n",
    "    action='store_false',\n",
    "    default=True,\n",
    "    dest='isolate_svgs'\n",
    "    )\n",
    "\n",
    "@argument_group(\"PNG\", \"PNG specific arguments\")\n",
    "@argument(\n",
    "    '-u', '--units', type=unicode, choices=[\"px\", \"in\", \"cm\", \"mm\"],\n",
    "    help='Units of png plotting device sent as an argument to *png* in R. One of [\"px\", \"in\", \"cm\", \"mm\"].'\n",
    "    )\n",
    "@argument(\n",
    "    '-r', '--res', type=int,\n",
    "    help='Resolution of png plotting device sent as an argument to *png* in R. Defaults to 72 if *units* is one of [\"in\", \"cm\", \"mm\"].'\n",
    "    )\n",
    "@argument(\n",
    "    'code',\n",
    "    nargs='*',\n",
    "    )\n",
    "```"
   ]
  },
  {
   "cell_type": "code",
   "execution_count": 7,
   "metadata": {
    "collapsed": false
   },
   "outputs": [],
   "source": [
    "import pandas as pd"
   ]
  },
  {
   "cell_type": "code",
   "execution_count": 8,
   "metadata": {
    "collapsed": false
   },
   "outputs": [
    {
     "data": {
      "text/html": [
       "<div style=\"max-height:1000px;max-width:1500px;overflow:auto;\">\n",
       "<table border=\"1\" class=\"dataframe\">\n",
       "  <thead>\n",
       "    <tr style=\"text-align: right;\">\n",
       "      <th></th>\n",
       "      <th>ID</th>\n",
       "      <th>Sex</th>\n",
       "      <th>Age</th>\n",
       "      <th>Weight</th>\n",
       "      <th>Weight2</th>\n",
       "      <th>Disease</th>\n",
       "      <th>Disease2</th>\n",
       "    </tr>\n",
       "  </thead>\n",
       "  <tbody>\n",
       "    <tr>\n",
       "      <th>0</th>\n",
       "      <td>1</td>\n",
       "      <td>1</td>\n",
       "      <td>34</td>\n",
       "      <td>145</td>\n",
       "      <td>200</td>\n",
       "      <td>1</td>\n",
       "      <td>1</td>\n",
       "    </tr>\n",
       "    <tr>\n",
       "      <th>1</th>\n",
       "      <td>2</td>\n",
       "      <td>1</td>\n",
       "      <td>33</td>\n",
       "      <td>155</td>\n",
       "      <td>225</td>\n",
       "      <td>1</td>\n",
       "      <td>1</td>\n",
       "    </tr>\n",
       "    <tr>\n",
       "      <th>2</th>\n",
       "      <td>3</td>\n",
       "      <td>2</td>\n",
       "      <td>40</td>\n",
       "      <td>174</td>\n",
       "      <td>211</td>\n",
       "      <td>1</td>\n",
       "      <td>1</td>\n",
       "    </tr>\n",
       "    <tr>\n",
       "      <th>3</th>\n",
       "      <td>4</td>\n",
       "      <td>1</td>\n",
       "      <td>28</td>\n",
       "      <td>200</td>\n",
       "      <td>199</td>\n",
       "      <td>0</td>\n",
       "      <td>1</td>\n",
       "    </tr>\n",
       "    <tr>\n",
       "      <th>4</th>\n",
       "      <td>5</td>\n",
       "      <td>2</td>\n",
       "      <td>37</td>\n",
       "      <td>124</td>\n",
       "      <td>145</td>\n",
       "      <td>0</td>\n",
       "      <td>1</td>\n",
       "    </tr>\n",
       "  </tbody>\n",
       "</table>\n",
       "</div>"
      ],
      "text/plain": [
       "   ID  Sex  Age  Weight  Weight2  Disease  Disease2\n",
       "0   1    1   34     145      200        1         1\n",
       "1   2    1   33     155      225        1         1\n",
       "2   3    2   40     174      211        1         1\n",
       "3   4    1   28     200      199        0         1\n",
       "4   5    2   37     124      145        0         1"
      ]
     },
     "execution_count": 8,
     "metadata": {},
     "output_type": "execute_result"
    }
   ],
   "source": [
    "sample = pd.read_excel('sampledata.xlsx')\n",
    "sample.head()"
   ]
  },
  {
   "cell_type": "code",
   "execution_count": 13,
   "metadata": {
    "collapsed": false
   },
   "outputs": [
    {
     "data": {
      "text/plain": [
       "       ID             Sex           Age            Weight         Weight2     \n",
       " Min.   : 1.00   Min.   :1.0   Min.   :27.00   Min.   : 99.0   Min.   :145.0  \n",
       " 1st Qu.: 5.75   1st Qu.:1.0   1st Qu.:30.75   1st Qu.:127.0   1st Qu.:195.2  \n",
       " Median :10.50   Median :1.5   Median :36.00   Median :150.0   Median :207.5  \n",
       " Mean   :10.50   Mean   :1.5   Mean   :35.50   Mean   :151.4   Mean   :217.8  \n",
       " 3rd Qu.:15.25   3rd Qu.:2.0   3rd Qu.:40.00   3rd Qu.:172.5   3rd Qu.:244.8  \n",
       " Max.   :20.00   Max.   :2.0   Max.   :44.00   Max.   :234.0   Max.   :299.0  \n",
       "    Disease       Disease2  \n",
       " Min.   :0.0   Min.   :0.0  \n",
       " 1st Qu.:0.0   1st Qu.:0.0  \n",
       " Median :0.5   Median :1.0  \n",
       " Mean   :0.5   Mean   :0.7  \n",
       " 3rd Qu.:1.0   3rd Qu.:1.0  \n",
       " Max.   :1.0   Max.   :1.0  \n"
      ]
     },
     "metadata": {},
     "output_type": "display_data"
    }
   ],
   "source": [
    "# pass in sample from python interpreter, \n",
    "# get the summary using R, \n",
    "# print the summary from R interpreter\n",
    "%R -i sample -o samp_summary samp_summary = summary(sample); print(samp_summary);"
   ]
  },
  {
   "cell_type": "code",
   "execution_count": 11,
   "metadata": {
    "collapsed": false
   },
   "outputs": [
    {
     "name": "stdout",
     "output_type": "stream",
     "text": [
      "       ID             Sex           Age            Weight         Weight2     \n",
      " Min.   : 1.00   Min.   :1.0   Min.   :27.00   Min.   : 99.0   Min.   :145.0  \n",
      " 1st Qu.: 5.75   1st Qu.:1.0   1st Qu.:30.75   1st Qu.:127.0   1st Qu.:195.2  \n",
      " Median :10.50   Median :1.5   Median :36.00   Median :150.0   Median :207.5  \n",
      " Mean   :10.50   Mean   :1.5   Mean   :35.50   Mean   :151.4   Mean   :217.8  \n",
      " 3rd Qu.:15.25   3rd Qu.:2.0   3rd Qu.:40.00   3rd Qu.:172.5   3rd Qu.:244.8  \n",
      " Max.   :20.00   Max.   :2.0   Max.   :44.00   Max.   :234.0   Max.   :299.0  \n",
      "    Disease       Disease2  \n",
      " Min.   :0.0   Min.   :0.0  \n",
      " 1st Qu.:0.0   1st Qu.:0.0  \n",
      " Median :0.5   Median :1.0  \n",
      " Mean   :0.5   Mean   :0.7  \n",
      " 3rd Qu.:1.0   3rd Qu.:1.0  \n",
      " Max.   :1.0   Max.   :1.0  \n",
      "\n"
     ]
    }
   ],
   "source": [
    "#print the passed-back summary from python interpreter\n",
    "print samp_summary "
   ]
  },
  {
   "cell_type": "code",
   "execution_count": null,
   "metadata": {
    "collapsed": false
   },
   "outputs": [],
   "source": [
    "or like this..."
   ]
  },
  {
   "cell_type": "code",
   "execution_count": 14,
   "metadata": {
    "collapsed": false
   },
   "outputs": [
    {
     "name": "stdout",
     "output_type": "stream",
     "text": [
      "Error in check_for_XQuartz() : \n",
      "  X11 library is missing: install XQuartz from xquartz.macosforge.org\n"
     ]
    }
   ],
   "source": [
    "#my computer refuses to complete this line, maybe yours won't.\n",
    "%R -i sample View(sample$Sex)"
   ]
  },
  {
   "cell_type": "code",
   "execution_count": 15,
   "metadata": {
    "collapsed": false
   },
   "outputs": [
    {
     "data": {
      "image/png": "[encoded data removed]"
     },
     "metadata": {},
     "output_type": "display_data"
    }
   ],
   "source": [
    "%%R -i sample\n",
    "weight <- sample$Weight\n",
    "hist(weight)"
   ]
  },
  {
   "cell_type": "code",
   "execution_count": 42,
   "metadata": {
    "collapsed": false
   },
   "outputs": [
    {
     "data": {
      "image/png": "[encoded data removed]"
     },
     "metadata": {},
     "output_type": "display_data"
    }
   ],
   "source": [
    "%%R\n",
    "hist(weight, breaks=10)"
   ]
  },
  {
   "cell_type": "code",
   "execution_count": 34,
   "metadata": {
    "collapsed": false
   },
   "outputs": [
    {
     "data": {
      "image/png": "[encoded data removed]"
     },
     "metadata": {},
     "output_type": "display_data"
    }
   ],
   "source": [
    "%%R -i sample\n",
    "age = sample$Age\n",
    "plot(weight, age)"
   ]
  },
  {
   "cell_type": "code",
   "execution_count": 43,
   "metadata": {
    "collapsed": false
   },
   "outputs": [
    {
     "data": {
      "image/png": "[encoded data removed]"
     },
     "metadata": {},
     "output_type": "display_data"
    }
   ],
   "source": [
    "%%R\n",
    "plot(weight, age, xlab=\"Weight\", ylab=\"Age\", main=\"Weight vs Age\", las=1)"
   ]
  }
 ],
 "metadata": {
  "kernelspec": {
   "display_name": "Python 2",
   "language": "python",
   "name": "python2"
  },
  "language_info": {
   "codemirror_mode": {
    "name": "ipython",
    "version": 2
   },
   "file_extension": ".py",
   "mimetype": "text/x-python",
   "name": "python",
   "nbconvert_exporter": "python",
   "pygments_lexer": "ipython2",
   "version": "2.7.10"
  }
 },
 "nbformat": 4,
 "nbformat_minor": 0
}
