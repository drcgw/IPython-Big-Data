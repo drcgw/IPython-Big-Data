{
 "metadata": {
  "name": "",
  "signature": "sha256:6ff195a1f62060da077d07222d04e8b0140349ee8c7be1169566486870fb33f2"
 },
 "nbformat": 3,
 "nbformat_minor": 0,
 "worksheets": [
  {
   "cells": [
    {
     "cell_type": "code",
     "collapsed": false,
     "input": [
      "from numpy import sin, linspace, pi\n",
      "from pylab import plot, show, title, xlabel, ylabel, subplot\n",
      "from scipy import fft, arange"
     ],
     "language": "python",
     "metadata": {},
     "outputs": []
    },
    {
     "cell_type": "code",
     "collapsed": false,
     "input": [
      "def plotSpectrum(y,Fs):\n",
      "    \"\"\"\n",
      "    Plots a Single-Sided Amplitude Spectrum of y(t)\n",
      "    source: http://glowingpython.blogspot.com/2011/08/how-to-plot-frequency-spectrum-with.html\n",
      "    \"\"\"\n",
      "    n = len(y) # length of the signal\n",
      "    k = arange(n)\n",
      "    T = n/Fs\n",
      "    frq = k/T # two sides frequency range\n",
      "    frq = frq[range(n/2)] # one side frequency range\n",
      "\n",
      "    Y = fft(y)/n # fft computing and normalization\n",
      "    Y = Y[range(n/2)]\n",
      "\n",
      "    plot(frq,abs(Y),'r') # plotting the spectrum\n",
      "    xlabel('Freq (Hz)')\n",
      "    ylabel('|Y(freq)|')\n"
     ],
     "language": "python",
     "metadata": {},
     "outputs": []
    },
    {
     "cell_type": "code",
     "collapsed": false,
     "input": [
      "Fs = 150.0;  # sampling rate\n",
      "Ts = 1.0/Fs; # sampling interval\n",
      "t = arange(0,1,Ts) # time vector\n",
      "\n",
      "ff = 5;   # frequency of the signal\n",
      "y = sin(2*pi*ff*t)"
     ],
     "language": "python",
     "metadata": {},
     "outputs": []
    },
    {
     "cell_type": "code",
     "collapsed": false,
     "input": [
      "subplot(2,1,1)\n",
      "plot(t,y)\n",
      "xlabel('Time')\n",
      "ylabel('Amplitude')\n",
      "subplot(2,1,2)\n",
      "plotSpectrum(y,Fs)\n",
      "show()"
     ],
     "language": "python",
     "metadata": {},
     "outputs": []
    },
    {
     "cell_type": "heading",
     "level": 2,
     "metadata": {},
     "source": [
      "Make your own signal by adding two signals together, then plot the spectum"
     ]
    },
    {
     "cell_type": "markdown",
     "metadata": {},
     "source": [
      "You should see a spike at each ff you added in"
     ]
    },
    {
     "cell_type": "code",
     "collapsed": false,
     "input": [
      "Fs = 150.0;  # sampling rate\n",
      "Ts = 1.0/Fs; # sampling interval\n",
      "t = arange(0,1,Ts) # time vector\n",
      "\n"
     ],
     "language": "python",
     "metadata": {},
     "outputs": []
    },
    {
     "cell_type": "code",
     "collapsed": false,
     "input": [
      "subplot(2,1,1)\n",
      "plot(t,y)\n",
      "xlabel('Time')\n",
      "ylabel('Amplitude')\n",
      "subplot(2,1,2)\n",
      "plotSpectrum(y3,Fs)\n",
      "show()"
     ],
     "language": "python",
     "metadata": {},
     "outputs": []
    },
    {
     "cell_type": "heading",
     "level": 2,
     "metadata": {},
     "source": [
      "Import a sample signal and plot the freq spectrum"
     ]
    },
    {
     "cell_type": "code",
     "collapsed": false,
     "input": [],
     "language": "python",
     "metadata": {},
     "outputs": []
    }
   ],
   "metadata": {}
  }
 ]
}